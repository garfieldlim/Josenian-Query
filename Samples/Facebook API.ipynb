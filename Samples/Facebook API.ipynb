{
 "cells": [
  {
   "cell_type": "code",
   "execution_count": 3,
   "id": "7f98766d",
   "metadata": {},
   "outputs": [
    {
     "name": "stdout",
     "output_type": "stream",
     "text": [
      "Collecting facebook-scraper\n",
      "  Using cached facebook_scraper-0.2.59-py3-none-any.whl (45 kB)\n",
      "Requirement already satisfied: dateparser<2.0.0,>=1.0.0 in /opt/homebrew/lib/python3.11/site-packages (from facebook-scraper) (1.1.8)\n",
      "Requirement already satisfied: demjson3<4.0.0,>=3.0.5 in /opt/homebrew/lib/python3.11/site-packages (from facebook-scraper) (3.0.6)\n",
      "Requirement already satisfied: requests-html<0.11.0,>=0.10.0 in /opt/homebrew/lib/python3.11/site-packages (from facebook-scraper) (0.10.0)\n",
      "Requirement already satisfied: python-dateutil in /opt/homebrew/lib/python3.11/site-packages (from dateparser<2.0.0,>=1.0.0->facebook-scraper) (2.8.2)\n",
      "Requirement already satisfied: pytz in /opt/homebrew/lib/python3.11/site-packages (from dateparser<2.0.0,>=1.0.0->facebook-scraper) (2023.3)\n",
      "Requirement already satisfied: regex!=2019.02.19,!=2021.8.27 in /opt/homebrew/lib/python3.11/site-packages (from dateparser<2.0.0,>=1.0.0->facebook-scraper) (2023.3.23)\n",
      "Requirement already satisfied: tzlocal in /opt/homebrew/lib/python3.11/site-packages (from dateparser<2.0.0,>=1.0.0->facebook-scraper) (5.0.1)\n",
      "Requirement already satisfied: requests in /opt/homebrew/lib/python3.11/site-packages (from requests-html<0.11.0,>=0.10.0->facebook-scraper) (2.28.2)\n",
      "Requirement already satisfied: pyquery in /opt/homebrew/lib/python3.11/site-packages (from requests-html<0.11.0,>=0.10.0->facebook-scraper) (2.0.0)\n",
      "Requirement already satisfied: fake-useragent in /opt/homebrew/lib/python3.11/site-packages (from requests-html<0.11.0,>=0.10.0->facebook-scraper) (1.1.3)\n",
      "Requirement already satisfied: parse in /opt/homebrew/lib/python3.11/site-packages (from requests-html<0.11.0,>=0.10.0->facebook-scraper) (1.19.1)\n",
      "Requirement already satisfied: bs4 in /opt/homebrew/lib/python3.11/site-packages (from requests-html<0.11.0,>=0.10.0->facebook-scraper) (0.0.1)\n",
      "Requirement already satisfied: w3lib in /opt/homebrew/lib/python3.11/site-packages (from requests-html<0.11.0,>=0.10.0->facebook-scraper) (2.1.1)\n",
      "Requirement already satisfied: pyppeteer>=0.0.14 in /opt/homebrew/lib/python3.11/site-packages (from requests-html<0.11.0,>=0.10.0->facebook-scraper) (1.0.2)\n",
      "Requirement already satisfied: appdirs<2.0.0,>=1.4.3 in /opt/homebrew/lib/python3.11/site-packages (from pyppeteer>=0.0.14->requests-html<0.11.0,>=0.10.0->facebook-scraper) (1.4.4)\n",
      "Requirement already satisfied: certifi>=2021 in /opt/homebrew/lib/python3.11/site-packages (from pyppeteer>=0.0.14->requests-html<0.11.0,>=0.10.0->facebook-scraper) (2022.12.7)\n",
      "Requirement already satisfied: importlib-metadata>=1.4 in /opt/homebrew/lib/python3.11/site-packages (from pyppeteer>=0.0.14->requests-html<0.11.0,>=0.10.0->facebook-scraper) (6.7.0)\n",
      "Requirement already satisfied: pyee<9.0.0,>=8.1.0 in /opt/homebrew/lib/python3.11/site-packages (from pyppeteer>=0.0.14->requests-html<0.11.0,>=0.10.0->facebook-scraper) (8.2.2)\n",
      "Requirement already satisfied: tqdm<5.0.0,>=4.42.1 in /opt/homebrew/lib/python3.11/site-packages (from pyppeteer>=0.0.14->requests-html<0.11.0,>=0.10.0->facebook-scraper) (4.65.0)\n",
      "Requirement already satisfied: urllib3<2.0.0,>=1.25.8 in /opt/homebrew/lib/python3.11/site-packages (from pyppeteer>=0.0.14->requests-html<0.11.0,>=0.10.0->facebook-scraper) (1.26.15)\n",
      "Requirement already satisfied: websockets<11.0,>=10.0 in /opt/homebrew/lib/python3.11/site-packages (from pyppeteer>=0.0.14->requests-html<0.11.0,>=0.10.0->facebook-scraper) (10.4)\n",
      "Requirement already satisfied: beautifulsoup4 in /opt/homebrew/lib/python3.11/site-packages (from bs4->requests-html<0.11.0,>=0.10.0->facebook-scraper) (4.12.2)\n",
      "Requirement already satisfied: lxml>=2.1 in /opt/homebrew/lib/python3.11/site-packages (from pyquery->requests-html<0.11.0,>=0.10.0->facebook-scraper) (4.9.2)\n",
      "Requirement already satisfied: cssselect>=1.2.0 in /opt/homebrew/lib/python3.11/site-packages (from pyquery->requests-html<0.11.0,>=0.10.0->facebook-scraper) (1.2.0)\n",
      "Requirement already satisfied: six>=1.5 in /opt/homebrew/lib/python3.11/site-packages (from python-dateutil->dateparser<2.0.0,>=1.0.0->facebook-scraper) (1.16.0)\n",
      "Requirement already satisfied: charset-normalizer<4,>=2 in /opt/homebrew/lib/python3.11/site-packages (from requests->requests-html<0.11.0,>=0.10.0->facebook-scraper) (3.1.0)\n",
      "Requirement already satisfied: idna<4,>=2.5 in /opt/homebrew/lib/python3.11/site-packages (from requests->requests-html<0.11.0,>=0.10.0->facebook-scraper) (3.4)\n",
      "Requirement already satisfied: zipp>=0.5 in /opt/homebrew/lib/python3.11/site-packages (from importlib-metadata>=1.4->pyppeteer>=0.0.14->requests-html<0.11.0,>=0.10.0->facebook-scraper) (3.15.0)\n",
      "Requirement already satisfied: soupsieve>1.2 in /opt/homebrew/lib/python3.11/site-packages (from beautifulsoup4->bs4->requests-html<0.11.0,>=0.10.0->facebook-scraper) (2.4)\n",
      "Installing collected packages: facebook-scraper\n",
      "Successfully installed facebook-scraper-0.2.59\n",
      "Note: you may need to restart the kernel to use updated packages.\n"
     ]
    }
   ],
   "source": [
    "pip install facebook-scraper"
   ]
  },
  {
   "cell_type": "code",
   "execution_count": 16,
   "id": "eb2d4305",
   "metadata": {
    "scrolled": true
   },
   "outputs": [
    {
     "name": "stdout",
     "output_type": "stream",
     "text": [
      "Count 1: Join us this afternoon as we delve into the technicalities of creating and wearing the Filipiniana costume. In time for the celebration of the National Cultural Consciousness Week held every July 1-7 of every year, we celebrate more of Filipino culture.\n",
      "\n",
      "Speaker: Mr. Javy P. Manayon\n",
      "Count 2: #USJRadvisory | Calling the attention of the ETEEAP graduates from batches 12 - 15 (AY 2014 to 2018) to please get your unclaimed yearbook in the ETEEAP Office.\n",
      "\n",
      "USJ-R Expanded Tertiary Education Equivalency & Accreditation Program\n",
      "Hunyo 29 nang 2:16 PM ·\n",
      "\n",
      "ANNOUNCEMENT!\n",
      "\n",
      "Calling the attention of the graduated students in Batches 12 - 15, School Year 2014-2018 to please claim your YEAR BOOK in the ETEEAP Office.\n",
      "\n",
      "📖BATCHES 12 -15\n",
      "📅SCHOOL YEAR 2014-2018\n",
      "\n",
      "We are open on Monday-Friday 8:00am-4:30pm, and Saturday 8:00am-12:00nn.\n",
      "\n",
      "See you!\n",
      "Count 3: #USJRadvisory | Find answers to common inquiries about the services, policies, and procedures at the Accounting Office.\n",
      "\n",
      "USJ-R VP Finance - Accounting Office\n",
      "Hulyo 1 nang 12:06 PM ·\n",
      "\n",
      "Find answers to common inquiries about our services, policies, and procedures.\n",
      "Count 4: The University of San Jose-Recoletos signed an agreement with US-based Louisiana Transportation Research Center this week to do collaborative projects in the next five years.\n",
      "\n",
      "It will include research projects, faculty exchange programs, and organizing workshops.\n",
      "\n",
      "#USJRat75\n",
      "#TakingYouForwardSince1947\n",
      "Count 5: Parish Catechists from the Far North District Catechetical Ministry of the Archdiocese of Cebu were immersed in a two-day seminar and workshop on how to provide basic faith formation orientation.\n",
      "\n",
      "ParticipantsHigit pa number to 180 catechists and 2 priests, from a total of 16 parishes.\n",
      "\n",
      "The San Isidro Labrador Parish in Daanbantayan town took the initiative to host this seminar-workshop, recognizing the importance of empowering catechists in their mission to provide quality faith formation within their communities.\n",
      "\n",
      "#USJRat75\n",
      "#TakingYouForwardSince1947\n",
      "Count 6: READ | The program covered a wide range of topics including effective teaching strategies, the principles of catechesis, and the fundamentals of our Catholic Faith.\n",
      "\n",
      "Participants number to 180 parish catechists and 2 parish priests, from a total of 16 parishes..\n",
      "\n",
      "\n",
      "\n",
      "USJR.EDU.PH\n",
      "USJ-R trains catechists from 16 parishes in Northern Cebu - University of San Jose - Recoletos\n",
      "Count 7: #USJRadvisory | Work and classes are suspended tomorrow in observance of Eid al-Adha or the Feast of Sacrifice by virtue of\n",
      "Proclamation 258.\n",
      "\n",
      "It is the second and the largest of the two main holidays celebrated in Islam.\n",
      "Count 8: #USJRadvisory | Josenian graduates have until July 31, 2023 to back-up the files that they stored in their USJ-R email and Google drive accounts.\n",
      "\n",
      "After the said date, the IT Department will deactivate the accounts in order to optimize the University's data storage.\n",
      "\n",
      "\n",
      "\n",
      "USJR.EDU.PH\n",
      "USJ-R encourages graduates to back-up Google Drive content until July 31 - University of San Jose - Recoletos\n",
      "Count 9: #USJRadvisory | Are you ready for it?\n",
      "Count 10: #JosenianPride | Congratulations to the dean of the USJ-R School of Business and Management for being appointed as a member of the Commission for Tertiary Education under the Philippine Accrediting Association of Schools, Colleges and Universities\n",
      "\n",
      "Adelante!\n",
      "\n",
      "#TakingYouForwardSince1947\n"
     ]
    }
   ],
   "source": [
    "import json\n",
    "import datetime\n",
    "from facebook_scraper import get_posts\n",
    "\n",
    "class DateTimeEncoder(json.JSONEncoder):\n",
    "    def default(self, obj):\n",
    "        if isinstance(obj, datetime.datetime):\n",
    "            return obj.isoformat()\n",
    "        return super(DateTimeEncoder, self).default(obj)\n",
    "\n",
    "# Retrieve the posts\n",
    "posts = []\n",
    "for i, post in enumerate(get_posts('usjr.official', cookies='cookies.json', pages=1), start=1):\n",
    "    print(f\"Count {i}: {post['text']}\")\n",
    "    posts.append(post)\n",
    "\n",
    "# Save the posts into a JSON file\n",
    "with open('posts.json', 'w') as f:\n",
    "    json.dump(posts, f, cls=DateTimeEncoder)\n"
   ]
  },
  {
   "cell_type": "code",
   "execution_count": null,
   "id": "57251857",
   "metadata": {},
   "outputs": [],
   "source": []
  }
 ],
 "metadata": {
  "kernelspec": {
   "display_name": "Python 3 (ipykernel)",
   "language": "python",
   "name": "python3"
  },
  "language_info": {
   "codemirror_mode": {
    "name": "ipython",
    "version": 3
   },
   "file_extension": ".py",
   "mimetype": "text/x-python",
   "name": "python",
   "nbconvert_exporter": "python",
   "pygments_lexer": "ipython3",
   "version": "3.11.3"
  }
 },
 "nbformat": 4,
 "nbformat_minor": 5
}
