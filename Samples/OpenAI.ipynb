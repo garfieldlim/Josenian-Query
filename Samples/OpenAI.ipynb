{
 "cells": [
  {
   "cell_type": "code",
   "execution_count": null,
   "id": "c633ebb6",
   "metadata": {},
   "outputs": [],
   "source": [
    "import openai\n",
    "\n",
    "openai.api_key = 'YOUR_API_KEY'\n"
   ]
  },
  {
   "cell_type": "code",
   "execution_count": null,
   "id": "bbae8687",
   "metadata": {},
   "outputs": [],
   "source": [
    "response = openai.Completion.create(\n",
    "  engine='davinci-codex',  # Specify the engine/model to use\n",
    "  prompt='Once upon a time',  # Add your text prompt or query\n",
    "  max_tokens=50  # Specify the maximum length of the generated output\n",
    ")\n"
   ]
  },
  {
   "cell_type": "code",
   "execution_count": null,
   "id": "f40e4484",
   "metadata": {},
   "outputs": [],
   "source": [
    "output = response.choices[0].text.strip()\n",
    "print(output)\n"
   ]
  }
 ],
 "metadata": {
  "kernelspec": {
   "display_name": "Python 3 (ipykernel)",
   "language": "python",
   "name": "python3"
  },
  "language_info": {
   "codemirror_mode": {
    "name": "ipython",
    "version": 3
   },
   "file_extension": ".py",
   "mimetype": "text/x-python",
   "name": "python",
   "nbconvert_exporter": "python",
   "pygments_lexer": "ipython3",
   "version": "3.11.3"
  }
 },
 "nbformat": 4,
 "nbformat_minor": 5
}
