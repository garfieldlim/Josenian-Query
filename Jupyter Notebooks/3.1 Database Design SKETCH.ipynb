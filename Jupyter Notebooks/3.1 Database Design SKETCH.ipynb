{
 "cells": [
  {
   "cell_type": "markdown",
   "id": "ec21642b",
   "metadata": {},
   "source": [
    "# Format for population:"
   ]
  },
  {
   "cell_type": "markdown",
   "id": "e6ab3e6a",
   "metadata": {},
   "source": [
    "## texts + metadata\n",
    "ex. abstract + author and etc."
   ]
  },
  {
   "cell_type": "markdown",
   "id": "babe78d7",
   "metadata": {},
   "source": [
    "## Upsertion guide"
   ]
  },
  {
   "cell_type": "markdown",
   "id": "c69e5068",
   "metadata": {},
   "source": [
    "### Preprocessing"
   ]
  },
  {
   "cell_type": "markdown",
   "id": "49520d39",
   "metadata": {},
   "source": [
    "1. assign ids\n",
    "2. embed texts with ada\n",
    "3. save as another csv as filename-embedded.csv"
   ]
  },
  {
   "cell_type": "markdown",
   "id": "d01b09cd",
   "metadata": {},
   "source": [
    "### Upsertion"
   ]
  },
  {
   "cell_type": "markdown",
   "id": "f5459f4d",
   "metadata": {},
   "source": [
    "1. create dictionary from csv metadata as \"metadatas\"\n",
    "2. create embeddings from csv summary as \"texts\"\n",
    "3. create id from csv ids as \"ids\""
   ]
  },
  {
   "cell_type": "markdown",
   "id": "71c7601e",
   "metadata": {},
   "source": [
    "upsert(zip(ids,embeds,metadatas))"
   ]
  },
  {
   "cell_type": "markdown",
   "id": "3079434c",
   "metadata": {},
   "source": [
    "## Plans:"
   ]
  },
  {
   "cell_type": "markdown",
   "id": "721743c6",
   "metadata": {},
   "source": [
    "### RMRJ"
   ]
  },
  {
   "cell_type": "markdown",
   "id": "608d835a",
   "metadata": {},
   "source": [
    "Combine all csv vXnXYfiles and have a new column with their vXnX label"
   ]
  },
  {
   "cell_type": "markdown",
   "id": "bb3b4a61",
   "metadata": {},
   "source": [
    "rmrj-articles is index 1"
   ]
  },
  {
   "cell_type": "markdown",
   "id": "088678c7",
   "metadata": {},
   "source": [
    "rmrj-journals is index 2"
   ]
  },
  {
   "cell_type": "markdown",
   "id": "c3f2f9cc",
   "metadata": {},
   "source": [
    "vXnY where X start with 3 and ends with 11, Y is 1 to 2"
   ]
  },
  {
   "cell_type": "markdown",
   "id": "68942387",
   "metadata": {},
   "source": [
    "## Indexes"
   ]
  },
  {
   "cell_type": "markdown",
   "id": "3373eabe",
   "metadata": {},
   "source": [
    "1. rmrj-articles\n",
    "2. rmrj-journals\n",
    "3. contacts"
   ]
  },
  {
   "cell_type": "code",
   "execution_count": null,
   "id": "e7ee7d59",
   "metadata": {},
   "outputs": [],
   "source": []
  }
 ],
 "metadata": {
  "kernelspec": {
   "display_name": "Python 3 (ipykernel)",
   "language": "python",
   "name": "python3"
  },
  "language_info": {
   "codemirror_mode": {
    "name": "ipython",
    "version": 3
   },
   "file_extension": ".py",
   "mimetype": "text/x-python",
   "name": "python",
   "nbconvert_exporter": "python",
   "pygments_lexer": "ipython3",
   "version": "3.11.3"
  }
 },
 "nbformat": 4,
 "nbformat_minor": 5
}
