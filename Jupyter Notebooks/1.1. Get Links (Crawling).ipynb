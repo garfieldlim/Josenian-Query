{
 "cells": [
  {
   "cell_type": "code",
   "execution_count": null,
   "id": "f7d5fdb3",
   "metadata": {},
   "outputs": [],
   "source": [
    "import requests\n",
    "from bs4 import BeautifulSoup\n",
    "import csv\n",
    "import urllib.parse\n",
    "\n",
    "def extract_links(url):\n",
    "    response = requests.get(url)\n",
    "    soup = BeautifulSoup(response.text, 'lxml')\n",
    "    links = [a['href'] for a in soup.find_all('a', href=True)]\n",
    "    return links\n",
    "\n",
    "def make_absolute_links(base_url, links):\n",
    "    absolute_links = []\n",
    "    for link in links:\n",
    "        absolute_link = urllib.parse.urljoin(base_url, link)\n",
    "        absolute_links.append(absolute_link)\n",
    "    return absolute_links\n",
    "\n",
    "def save_to_csv(filename, links):\n",
    "    with open(filename, 'w', newline='') as file:\n",
    "        writer = csv.writer(file)\n",
    "        writer.writerow([\"name\", \"link\"])\n",
    "        for link in links:\n",
    "            name = link.split('/')[-1]\n",
    "            writer.writerow([name, link])\n",
    "\n",
    "def crawl_website(url):\n",
    "    links = extract_links(url)\n",
    "    links = make_absolute_links(url, links)\n",
    "    save_to_csv(\"website_links.csv\", links)\n",
    "\n",
    "crawl_website('https://www.usjr.edu.ph')"
   ]
  },
  {
   "cell_type": "code",
   "execution_count": null,
   "id": "04c421d4",
   "metadata": {},
   "outputs": [],
   "source": [
    "import requests\n",
    "from bs4 import BeautifulSoup\n",
    "import csv\n",
    "import urllib.parse\n",
    "\n",
    "def extract_links(url, base_url):\n",
    "    response = requests.get(url)\n",
    "    soup = BeautifulSoup(response.text, 'lxml')\n",
    "    links = [a['href'] for a in soup.find_all('a', href=True) if base_url in urllib.parse.urljoin(url, a['href'])]\n",
    "    return links\n",
    "\n",
    "def make_absolute_links(base_url, links):\n",
    "    absolute_links = []\n",
    "    for link in links:\n",
    "        absolute_link = urllib.parse.urljoin(base_url, link)\n",
    "        absolute_links.append(absolute_link)\n",
    "    return absolute_links\n",
    "\n",
    "def save_to_csv(filename, links):\n",
    "    with open(filename, 'w', newline='') as file:\n",
    "        writer = csv.writer(file)\n",
    "        writer.writerow([\"name\", \"link\"])\n",
    "        for link in links:\n",
    "            name = link.split('/')[-1]\n",
    "            writer.writerow([name, link])\n",
    "\n",
    "def crawl_website(url, base_url):\n",
    "    visited = set()\n",
    "    to_visit = [url]\n",
    "    links = []\n",
    "    \n",
    "    while to_visit:\n",
    "        url = to_visit.pop(0)\n",
    "        if url not in visited:\n",
    "            visited.add(url)\n",
    "            try:\n",
    "                page_links = extract_links(url, base_url)\n",
    "                page_links = make_absolute_links(url, page_links)\n",
    "                links.extend(page_links)\n",
    "                to_visit.extend(page_links)\n",
    "            except:\n",
    "                pass\n",
    "    \n",
    "    save_to_csv(\"website_links.csv\", links)\n",
    "\n",
    "base_url = 'https://www.usjr.com.edu.ph'\n",
    "crawl_website(base_url, base_url)\n"
   ]
  },
  {
   "cell_type": "code",
   "execution_count": null,
   "id": "1a90830d",
   "metadata": {},
   "outputs": [],
   "source": [
    "import requests\n",
    "from bs4 import BeautifulSoup\n",
    "import csv\n",
    "import urllib.parse\n",
    "from collections import deque\n",
    "\n",
    "def extract_links(url):\n",
    "    response = requests.get(url)\n",
    "    soup = BeautifulSoup(response.text, 'lxml')\n",
    "    return [a['href'] for a in soup.find_all('a', href=True)]\n",
    "\n",
    "def is_internal_link(base_url, link):\n",
    "    return base_url in urllib.parse.urljoin(base_url, link)\n",
    "\n",
    "def save_to_csv(filename, links):\n",
    "    with open(filename, 'w', newline='') as file:\n",
    "        writer = csv.writer(file)\n",
    "        writer.writerow([\"name\", \"link\"])\n",
    "        for link in links:\n",
    "            name = link.split('/')[-1]\n",
    "            writer.writerow([name, link])\n",
    "\n",
    "def crawl_website(base_url):\n",
    "    visited = set()\n",
    "    to_visit = deque([base_url])\n",
    "    internal_links = set()\n",
    "\n",
    "    while to_visit:\n",
    "        url = to_visit.popleft()\n",
    "        if url not in visited:\n",
    "            visited.add(url)\n",
    "            print(f\"Visiting: {url}\")\n",
    "            try:\n",
    "                links = extract_links(url)\n",
    "                for link in links:\n",
    "                    absolute_link = urllib.parse.urljoin(base_url, link)\n",
    "                    if is_internal_link(base_url, absolute_link) and absolute_link not in visited:\n",
    "                        internal_links.add(absolute_link)\n",
    "                        to_visit.append(absolute_link)\n",
    "            except:\n",
    "                pass\n",
    "\n",
    "    save_to_csv(\"website_links.csv\", list(internal_links))\n",
    "\n",
    "base_url = 'https://www.usjr.com.edu.ph'\n",
    "crawl_website(base_url)\n"
   ]
  },
  {
   "cell_type": "code",
   "execution_count": null,
   "id": "deb8d9f2",
   "metadata": {},
   "outputs": [],
   "source": [
    "import requests\n",
    "from bs4 import BeautifulSoup\n",
    "from urllib.parse import urlparse, urljoin\n",
    "import csv\n",
    "\n",
    "def is_valid(url):\n",
    "    parsed = urlparse(url)\n",
    "    return bool(parsed.netloc) and bool(parsed.scheme)\n",
    "\n",
    "def get_all_website_links(url):\n",
    "    urls = set()\n",
    "    domain_name = urlparse(url).netloc\n",
    "    soup = BeautifulSoup(requests.get(url).content, \"html.parser\")\n",
    "\n",
    "    for a_tag in soup.findAll(\"a\"):\n",
    "        href = a_tag.attrs.get(\"href\")\n",
    "        if href == \"\" or href is None:\n",
    "            continue\n",
    "\n",
    "        href = urljoin(url, href)\n",
    "        parsed_href = urlparse(href)\n",
    "        href = parsed_href.scheme + \"://\" + parsed_href.netloc + parsed_href.path\n",
    "\n",
    "        if not is_valid(href):\n",
    "            continue\n",
    "\n",
    "        if href in urls:\n",
    "            continue\n",
    "\n",
    "        if domain_name not in href:\n",
    "            continue\n",
    "\n",
    "        urls.add(href)\n",
    "\n",
    "    return urls\n",
    "\n",
    "if __name__ == \"__main__\":\n",
    "    links = get_all_website_links(\"https://usjr.edu.ph\")\n",
    "    \n",
    "    with open('usjr_links.csv', 'w', newline='') as file:\n",
    "        writer = csv.writer(file)\n",
    "        for link in links:\n",
    "            writer.writerow([link])\n"
   ]
  },
  {
   "cell_type": "code",
   "execution_count": null,
   "id": "b2470dc7",
   "metadata": {
    "scrolled": true
   },
   "outputs": [],
   "source": [
    "import requests\n",
    "from bs4 import BeautifulSoup\n",
    "from urllib.parse import urlparse, urljoin\n",
    "import csv\n",
    "from collections import deque\n",
    "\n",
    "def is_valid(url):\n",
    "    parsed = urlparse(url)\n",
    "    return bool(parsed.netloc) and bool(parsed.scheme)\n",
    "\n",
    "def get_all_website_links(url):\n",
    "    urls = set()  # all URLs of the website\n",
    "    to_visit = deque([url])  # queue of URLs to be processed\n",
    "\n",
    "    while len(to_visit) != 0:\n",
    "        print(url)\n",
    "        url = to_visit.popleft()\n",
    "        domain_name = urlparse(url).netloc\n",
    "\n",
    "        try:\n",
    "            soup = BeautifulSoup(requests.get(url).content, \"html.parser\")\n",
    "        except (requests.exceptions.MissingSchema, requests.exceptions.ConnectionError):\n",
    "            continue\n",
    "\n",
    "        for a_tag in soup.findAll(\"a\"):\n",
    "            href = a_tag.attrs.get(\"href\")\n",
    "            if href == \"\" or href is None:\n",
    "                continue\n",
    "\n",
    "            href = urljoin(url, href)\n",
    "            parsed_href = urlparse(href)\n",
    "            href = parsed_href.scheme + \"://\" + parsed_href.netloc + parsed_href.path\n",
    "\n",
    "            if not is_valid(href):\n",
    "                continue\n",
    "\n",
    "            if href in urls:\n",
    "                continue\n",
    "\n",
    "            if domain_name not in href:\n",
    "                continue\n",
    "\n",
    "            urls.add(href)\n",
    "            to_visit.append(href)\n",
    "\n",
    "    return urls\n",
    "\n",
    "if __name__ == \"__main__\":\n",
    "    links = get_all_website_links(\"https://usjr.edu.ph\")\n",
    "    \n",
    "    with open('usjr_links.csv', 'w', newline='') as file:\n",
    "        writer = csv.writer(file)\n",
    "        for link in links:\n",
    "            writer.writerow([link])\n"
   ]
  },
  {
   "cell_type": "code",
   "execution_count": null,
   "id": "1785c12c",
   "metadata": {
    "scrolled": true
   },
   "outputs": [],
   "source": [
    "import requests\n",
    "from bs4 import BeautifulSoup\n",
    "from urllib.parse import urlparse, urljoin\n",
    "import csv\n",
    "from collections import deque\n",
    "\n",
    "def is_valid(url):\n",
    "    parsed = urlparse(url)\n",
    "    return bool(parsed.netloc) and bool(parsed.scheme) and parsed.scheme in {\"http\", \"https\"}\n",
    "\n",
    "def get_all_website_links(url):\n",
    "    urls = set()  # all URLs of the website\n",
    "    to_visit = deque([url])  # queue of URLs to be processed\n",
    "\n",
    "    while len(to_visit) != 0:\n",
    "        url = to_visit.popleft()\n",
    "        print(url)  # print the current URL\n",
    "        domain_name = urlparse(url).netloc\n",
    "\n",
    "        try:\n",
    "            soup = BeautifulSoup(requests.get(url).content, \"html.parser\")\n",
    "        except (requests.exceptions.MissingSchema, requests.exceptions.ConnectionError):\n",
    "            continue\n",
    "\n",
    "        for a_tag in soup.findAll(\"a\"):\n",
    "            href = a_tag.attrs.get(\"href\")\n",
    "            if href == \"\" or href is None:\n",
    "                continue\n",
    "\n",
    "            href = urljoin(url, href)\n",
    "            parsed_href = urlparse(href)\n",
    "            href = parsed_href.scheme + \"://\" + parsed_href.netloc + parsed_href.path\n",
    "\n",
    "            if not is_valid(href):\n",
    "                continue\n",
    "\n",
    "            if href in urls:\n",
    "                continue\n",
    "\n",
    "            if domain_name not in href:\n",
    "                continue\n",
    "\n",
    "            urls.add(href)\n",
    "            to_visit.append(href)\n",
    "\n",
    "    return urls\n",
    "\n",
    "if __name__ == \"__main__\":\n",
    "    links = get_all_website_links(\"https://usjr.edu.ph\")\n",
    "    \n",
    "    with open('usjr_links.csv', 'w', newline='') as file:\n",
    "        writer = csv.writer(file)\n",
    "        for link in links:\n",
    "            writer.writerow([link])\n"
   ]
  },
  {
   "cell_type": "code",
   "execution_count": null,
   "id": "60d39c76",
   "metadata": {},
   "outputs": [],
   "source": [
    "import requests\n",
    "from bs4 import BeautifulSoup\n",
    "from urllib.parse import urlparse, urljoin\n",
    "import csv\n",
    "from collections import deque\n",
    "\n",
    "def is_valid(url):\n",
    "    parsed = urlparse(url)\n",
    "    return (bool(parsed.netloc) and bool(parsed.scheme) and parsed.scheme in {\"http\", \"https\"} and not \n",
    "            (parsed.path.endswith(\".png\") or parsed.path.endswith(\".jpg\") or parsed.path.endswith(\".jpeg\") \n",
    "            or parsed.path.endswith(\".gif\") or parsed.path.endswith(\".svg\") or parsed.path.endswith(\".webp\")))\n",
    "\n",
    "def get_all_website_links(url):\n",
    "    urls = set()  # all URLs of the website\n",
    "    to_visit = deque([url])  # queue of URLs to be processed\n",
    "\n",
    "    with open('usjr_links.csv', 'w', newline='') as file:\n",
    "        writer = csv.writer(file)\n",
    "\n",
    "        while len(to_visit) != 0:\n",
    "            url = to_visit.popleft()\n",
    "            print(url)  # print the current URL\n",
    "            domain_name = urlparse(url).netloc\n",
    "\n",
    "            try:\n",
    "                soup = BeautifulSoup(requests.get(url).content, \"html.parser\")\n",
    "            except (requests.exceptions.MissingSchema, requests.exceptions.ConnectionError, AssertionError):\n",
    "                continue\n",
    "\n",
    "            for a_tag in soup.findAll(\"a\"):\n",
    "                href = a_tag.attrs.get(\"href\")\n",
    "                if href == \"\" or href is None:\n",
    "                    continue\n",
    "\n",
    "                href = urljoin(url, href)\n",
    "                parsed_href = urlparse(href)\n",
    "                href = parsed_href.scheme + \"://\" + parsed_href.netloc + parsed_href.path\n",
    "\n",
    "                if not is_valid(href):\n",
    "                    continue\n",
    "\n",
    "                if href in urls:\n",
    "                    continue\n",
    "\n",
    "                if domain_name not in href:\n",
    "                    continue\n",
    "\n",
    "                urls.add(href)\n",
    "                to_visit.append(href)\n",
    "                writer.writerow([href])\n",
    "\n",
    "if __name__ == \"__main__\":\n",
    "    get_all_website_links(\"https://usjr.edu.ph\")\n"
   ]
  },
  {
   "cell_type": "code",
   "execution_count": null,
   "id": "757d053a",
   "metadata": {},
   "outputs": [],
   "source": [
    "import requests\n",
    "from bs4 import BeautifulSoup\n",
    "from urllib.parse import urlparse, urljoin\n",
    "import csv\n",
    "from collections import deque\n",
    "\n",
    "def is_valid(url):\n",
    "    parsed = urlparse(url)\n",
    "    return (bool(parsed.netloc) and bool(parsed.scheme) and parsed.scheme in {\"http\", \"https\"} and not \n",
    "            (parsed.path.endswith(\".png\") or parsed.path.endswith(\".jpg\") or parsed.path.endswith(\".jpeg\") \n",
    "            or parsed.path.endswith(\".gif\") or parsed.path.endswith(\".svg\") or parsed.path.endswith(\".webp\")))\n",
    "\n",
    "def get_all_website_links(url):\n",
    "    urls = set()  # all URLs of the website\n",
    "    to_visit = deque()  # queue of URLs to be processed\n",
    "\n",
    "    try:\n",
    "        with open('visited_links.csv', 'r') as file:\n",
    "            urls = set(line.strip() for line in file)\n",
    "        with open('to_visit_links.csv', 'r') as file:\n",
    "            to_visit = deque(line.strip() for line in file)\n",
    "    except FileNotFoundError:\n",
    "        to_visit.append(url)\n",
    "\n",
    "    with open('visited_links.csv', 'a') as visited_file, open('to_visit_links.csv', 'w') as to_visit_file:\n",
    "        visited_writer = csv.writer(visited_file)\n",
    "        to_visit_writer = csv.writer(to_visit_file)\n",
    "\n",
    "        while len(to_visit) != 0:\n",
    "            url = to_visit.popleft()\n",
    "            print(url)  # print the current URL\n",
    "            domain_name = urlparse(url).netloc\n",
    "\n",
    "            try:\n",
    "                soup = BeautifulSoup(requests.get(url).content, \"html.parser\")\n",
    "            except (requests.exceptions.MissingSchema, requests.exceptions.ConnectionError, AssertionError):\n",
    "                continue\n",
    "\n",
    "            for a_tag in soup.findAll(\"a\"):\n",
    "                href = a_tag.attrs.get(\"href\")\n",
    "                if href == \"\" or href is None:\n",
    "                    continue\n",
    "\n",
    "                href = urljoin(url, href)\n",
    "                parsed_href = urlparse(href)\n",
    "                href = parsed_href.scheme + \"://\" + parsed_href.netloc + parsed_href.path\n",
    "\n",
    "                if not is_valid(href):\n",
    "                    continue\n",
    "\n",
    "                if href in urls:\n",
    "                    continue\n",
    "\n",
    "                if domain_name not in href:\n",
    "                    continue\n",
    "\n",
    "                urls.add(href)\n",
    "                to_visit.append(href)\n",
    "                visited_writer.writerow([href])\n",
    "\n",
    "            to_visit_writer.writerows([link] for link in to_visit)\n",
    "\n",
    "if __name__ == \"__main__\":\n",
    "    get_all_website_links(\"https://usjr.edu.ph\")\n"
   ]
  },
  {
   "cell_type": "code",
   "execution_count": 1,
   "id": "ecccdfc9",
   "metadata": {},
   "outputs": [
    {
     "name": "stdout",
     "output_type": "stream",
     "text": [
      "https://usjr.edu.ph\n",
      "https://usjr.edu.ph/\n",
      "https://usjr.edu.ph/about/\n",
      "https://usjr.edu.ph/admissions/\n",
      "https://usjr.edu.ph/academics/\n",
      "https://usjr.edu.ph/sas/\n",
      "https://usjr.edu.ph/sbm/\n",
      "https://usjr.edu.ph/soe/\n",
      "https://usjr.edu.ph/soeng/\n",
      "https://usjr.edu.ph/scs/\n",
      "https://usjr.edu.ph/sams/\n",
      "https://usjr.edu.ph/law/\n",
      "https://usjr.edu.ph/elementary/\n",
      "https://usjr.edu.ph/juniorhighschool/\n",
      "https://usjr.edu.ph/seniorhighschool/\n",
      "https://usjr.edu.ph/rittc/\n",
      "https://usjr.edu.ph/student-life/\n",
      "https://usjr.edu.ph/sdpc/\n",
      "https://usjr.edu.ph/library/\n",
      "https://usjr.edu.ph/library/branch-libraries/library-elementary/\n",
      "https://usjr.edu.ph/library/branch-libraries/library-junior-high-school/\n",
      "https://usjr.edu.ph/library/branch-libraries/senor-high-school/\n",
      "https://usjr.edu.ph/library/branch-libraries/library-imc/\n",
      "https://usjr.edu.ph/cmo/\n",
      "https://usjr.edu.ph/research/\n",
      "https://usjr.edu.ph/alumni/\n",
      "https://usjr.edu.ph/online-enrollment/\n",
      "https://eclass.coe.usjr.edu.ph\n",
      "https://eclass.cre.usjr.edu.ph\n",
      "https://eclass.commerce.usjr.edu.ph\n",
      "https://eclass.engineering.usjr.edu.ph\n",
      "https://eclass.cas.usjr.edu.ph\n",
      "https://eclass.nursing.usjr.edu.ph\n",
      "https://eclass.law.usjr.edu.ph\n",
      "https://eclass.cicct.usjr.edu.ph\n",
      "https://usjr.edu.ph/academics/undergraduate\n",
      "https://usjr.edu.ph/academics/graduate\n",
      "https://usjr.edu.ph/2023/06/22/academic-calendars-for-ay-2023-2024-from-basic-education-to-tertiary-level-released/\n",
      "https://usjr.edu.ph/2023/05/16/usj-r-publishes-schedule-of-enrollment-for-ay-2023-2024-first-semester/\n",
      "https://usjr.edu.ph/2023/02/08/josenian-college-admission-test-for-2023-qualifiers-now-open/\n",
      "https://usjr.edu.ph/2023/02/04/usj-r-to-implement-tuition-fee-hike-after-four-years/\n",
      "https://usjr.edu.ph/2023/01/26/city-government-of-ormoc-usj-r-sign-moa-to-offer-graduate-school-program/\n",
      "https://usjr.edu.ph/2023/01/24/usj-r-to-accept-applications-for-discount-until-february-4/\n",
      "https://usjr.edu.ph/2023/01/23/usj-r-recognizes-cesafi-2022-athletes/\n",
      "https://usjr.edu.ph/2023/01/13/usj-r-participates-in-sinulog-2023/\n",
      "https://usjr.edu.ph/2022/11/07/53-professionals-finish-diploma-program-in-supply-management-at-usj-r/\n",
      "https://usjr.edu.ph/general-information/\n",
      "https://usjr.edu.ph\n",
      "https://usjr.edu.ph/scholarships\n",
      "https://usjr.edu.ph/history\n",
      "https://usjr.edu.ph/wp-content/uploads/2016/05/commerce-1-600x400.png\n"
     ]
    },
    {
     "name": "stderr",
     "output_type": "stream",
     "text": [
      "Some characters could not be decoded, and were replaced with REPLACEMENT CHARACTER.\n"
     ]
    },
    {
     "name": "stdout",
     "output_type": "stream",
     "text": [
      "https://usjr.edu.ph/wp-content/uploads/2016/05/law-kunuhay-600x400.png\n"
     ]
    },
    {
     "name": "stderr",
     "output_type": "stream",
     "text": [
      "Some characters could not be decoded, and were replaced with REPLACEMENT CHARACTER.\n"
     ]
    },
    {
     "name": "stdout",
     "output_type": "stream",
     "text": [
      "https://usjr.edu.ph/wp-content/uploads/2016/05/gradeschool-for-sure-600x400.png\n"
     ]
    },
    {
     "name": "stderr",
     "output_type": "stream",
     "text": [
      "Some characters could not be decoded, and were replaced with REPLACEMENT CHARACTER.\n"
     ]
    },
    {
     "name": "stdout",
     "output_type": "stream",
     "text": [
      "https://usjr.edu.ph/wp-content/uploads/2016/05/gradechool-600x400.png\n"
     ]
    },
    {
     "name": "stderr",
     "output_type": "stream",
     "text": [
      "Some characters could not be decoded, and were replaced with REPLACEMENT CHARACTER.\n"
     ]
    },
    {
     "name": "stdout",
     "output_type": "stream",
     "text": [
      "https://usjr.edu.ph/wp-content/uploads/2016/05/E1C68E9513-1024x768-600x400.png\n"
     ]
    },
    {
     "name": "stderr",
     "output_type": "stream",
     "text": [
      "Some characters could not be decoded, and were replaced with REPLACEMENT CHARACTER.\n"
     ]
    },
    {
     "name": "stdout",
     "output_type": "stream",
     "text": [
      "http://webdev@usjr.edu.ph\n",
      "https://usjr.edu.ph/admissions/requirements-freshmen/\n",
      "https://usjr.edu.ph/admissions/requirements-tranferees/\n",
      "https://usjr.edu.ph/admissions/requirements-shiftees/\n",
      "https://usjr.edu.ph/admissions/requirements-continuing-students/\n",
      "https://usjr.edu.ph/admissions/requirements-returning-students/\n",
      "https://usjr.edu.ph/admissions/requirements-special-students/\n",
      "https://usjr.edu.ph/cas/\n",
      "https://usjr.edu.ph/coeng\n",
      "https://usjr.edu.ph/law\n",
      "https://usjr.edu.ph/rittc\n",
      "https://usjr.edu.ph/coc/\n",
      "https://usjr.edu.ph/cicct\n",
      "https://usjr.edu.ph/eteeap\n",
      "https://usjr.edu.ph/coe/\n",
      "https://usjr.edu.ph/nursing\n",
      "https://usjr.edu.ph/gradeschool/\n",
      "https://usjr.edu.ph/sas/degrees/undergraduate/\n",
      "https://usjr.edu.ph/sas/degrees/graduate/\n",
      "https://usjr.edu.ph/sas/about\n",
      "https://usjr.edu.ph/2022/08/10/kopo-usj-r-to-explore-potential-partnership-and-collaborative-programs/\n",
      "https://usjr.edu.ph/2021/08/12/list-of-honor-graduates-for-second-semester-of-ay-2020-2021-released/\n",
      "https://usjr.edu.ph/2021/07/21/list-of-college-graduates-for-second-semester-of-ay-2020-2021-unveiled/\n",
      "https://usjr.edu.ph/2021/07/21/usj-r-releases-list-of-graduate-school-grads-for-ay-2020-2021/\n",
      "https://usjr.edu.ph/2021/02/18/usj-r-releases-list-of-college-graduates-for-1st-semester-of-ay-2020-2021/\n",
      "https://usjr.edu.ph/2021/02/18/usj-r-releases-list-of-college-graduates-for-summer-2020/\n",
      "https://usjr.edu.ph/2020/11/26/complete-list-programs-offered-at-usj-r/\n",
      "https://usjr.edu.ph/2020/11/18/college-awardees-list-for-sy-2019-2020-published/\n",
      "https://usjr.edu.ph/2020/09/30/usj-r-2020-graduates-may-claim-graduation-fee-refund/\n",
      "https://usjr.edu.ph/cas/hall-of-fame\n",
      "https://usjr.edu.ph/sas/about/\n",
      "https://usjr.edu.ph/sas/degrees/\n",
      "https://usjr.edu.ph/sas/organizations/\n",
      "https://usjr.edu.ph/sas/faculty-and-staff/\n",
      "https://usjr.edu.ph/sas/hall-of-fame/\n",
      "https://usjr.edu.ph/sas/partners/\n",
      "https://usjr.edu.ph/cas/events/\n",
      "https://usjr.edu.ph/sbm/degrees/undergraduate/\n",
      "https://usjr.edu.ph/sbm/degrees/sbm-graduate-programs/\n",
      "https://usjr.edu.ph/sbm/about/\n",
      "https://usjr.edu.ph/2020/09/30/usj-r-releases-second-list-of-graduates-for-2nd-semester-of-ay-2019-2020/\n",
      "https://usjr.edu.ph/sbm/hall-of-fame/\n",
      "https://usjr.edu.ph/sbm/degrees/\n",
      "https://usjr.edu.ph/sbm/organizations/\n",
      "https://usjr.edu.ph/sbm/faculty-and-staff/\n",
      "https://usjr.edu.ph/sbm/partners/\n",
      "https://usjr.edu.ph/sbm/events/\n",
      "https://usjr.edu.ph/soe/degrees/undergraduate/\n",
      "https://usjr.edu.ph/soe/degrees/graduate/\n",
      "https://usjr.edu.ph/soe/about/\n",
      "https://usjr.edu.ph/soe/hall-of-fame/\n",
      "https://usjr.edu.ph/soe/degrees/\n",
      "https://usjr.edu.ph/soe/organizations/\n",
      "https://usjr.edu.ph/soe/faculty-and-staff/\n",
      "https://usjr.edu.ph/soe/partners/\n",
      "https://usjr.edu.ph/soe/events/\n",
      "https://usjr.edu.ph/soeng/degrees/undergraduate/\n",
      "https://usjr.edu.ph/soeng/degrees/graduate/\n",
      "https://usjr.edu.ph/soeng/about/\n",
      "https://usjr.edu.ph/soeng/hall-of-fame/\n",
      "https://usjr.edu.ph/soeng/degrees/\n",
      "https://usjr.edu.ph/soeng/clubs-and-organizations/\n",
      "https://usjr.edu.ph/soeng/faculty-and-staff/\n",
      "https://usjr.edu.ph/soeng/partners/\n",
      "https://usjr.edu.ph/soeng/events/\n",
      "https://usjr.edu.ph/scs/degrees/undergraduate/\n",
      "https://usjr.edu.ph/scs/degrees/graduate/\n",
      "https://usjr.edu.ph/scs/about/\n",
      "https://usjr.edu.ph/2022/09/16/southern-taiwan-university-of-science-and-technology-president-visits-usj-r/\n",
      "https://usjr.edu.ph/scs/hall-of-fame/\n",
      "https://usjr.edu.ph/scs/degrees/\n",
      "https://usjr.edu.ph/scs/clubs-and-organizations/\n",
      "https://usjr.edu.ph/scs/faculty-and-staff/\n",
      "https://usjr.edu.ph/scs/partners/\n",
      "https://usjr.edu.ph/scs/events/\n",
      "https://usjr.edu.ph/sams/degrees/undergraduate/\n",
      "https://usjr.edu.ph/sams/about/\n",
      "https://usjr.edu.ph/2020/08/10/usj-r-releases-list-of-college-graduates-for-2nd-sem-ay-2019-2020/\n",
      "https://usjr.edu.ph/2020/06/24/enrollment2020/\n",
      "https://usjr.edu.ph/sams/hall-of-fame/\n",
      "https://usjr.edu.ph/sams/degrees/\n",
      "https://usjr.edu.ph/sams/clubs-and-organizations/\n",
      "https://usjr.edu.ph/sams/faculty-and-staff/\n",
      "https://usjr.edu.ph/sams/partners/\n",
      "https://usjr.edu.ph/sams/events/\n",
      "https://usjr.edu.ph/law/degrees/graduate/\n",
      "https://usjr.edu.ph/wp-content/uploads/2022/08/2022-Pre-Bar-Review-1-703x1024.png\n"
     ]
    },
    {
     "name": "stderr",
     "output_type": "stream",
     "text": [
      "Some characters could not be decoded, and were replaced with REPLACEMENT CHARACTER.\n"
     ]
    },
    {
     "name": "stdout",
     "output_type": "stream",
     "text": [
      "https://usjr.edu.ph/wp-content/uploads/2022/08/288212069_1207162646773150_5567849466773850606_n-703x1024.png\n"
     ]
    },
    {
     "name": "stderr",
     "output_type": "stream",
     "text": [
      "Some characters could not be decoded, and were replaced with REPLACEMENT CHARACTER.\n"
     ]
    },
    {
     "name": "stdout",
     "output_type": "stream",
     "text": [
      "https://usjr.edu.ph/law/about/\n",
      "https://usjr.edu.ph/2022/04/13/usj-r-produces-208-new-lawyers/\n",
      "https://usjr.edu.ph/2022/02/06/smooth-flow-of-systems-observed-at-regionalized-bar-exam-at-usj-r-basak/\n",
      "https://usjr.edu.ph/2022/02/03/usj-r-all-set-as-venue-for-2022-bar-exam/\n",
      "https://usjr.edu.ph/2019/03/08/usj-r-now-offers-master-laws-program/\n",
      "https://usjr.edu.ph/law/law-hall-fame/\n",
      "https://usjr.edu.ph/law/about\n",
      "https://usjr.edu.ph/law/clubs-and-organizations/\n",
      "https://usjr.edu.ph/law/faculty-and-staff/\n",
      "https://usjr.edu.ph/law/events/\n",
      "https://usjr.edu.ph/law/partners/\n",
      "https://usjr.edu.ph/virtual-tour/\n",
      "https://usjr.edu.ph/2021/01/06/complete-usj-r-online-enrollment-guide-for-ay-2020-2021/\n",
      "https://usjr.edu.ph/2020/06/18/usj-r-elementary-department-releases-primer-new-normal-classes/\n",
      "https://usjr.edu.ph/2020/06/11/usj-r-senior-high-department-releases-primer-new-normal-classes/\n",
      "https://usjr.edu.ph/2019/08/30/usj-r-reopens-playground-at-basak/\n",
      "https://usjr.edu.ph/2019/08/21/usj-r-opens-sportsfest-employees-feast-day-st-ezekiel/\n",
      "https://usjr.edu.ph/2018/09/21/mrmsintramurals2018/\n",
      "https://usjr.edu.ph/2018/07/16/usj-r-welcomes-freshmen-transferees/\n",
      "https://www.usjr.edu.ph\n",
      "https://usjr.edu.ph/2016/06/25/gstestpost/\n",
      "http://beta.usjr.edu.ph/cicct/hall-of-fame/\n",
      "https://usjr.edu.ph/elementary/about/\n",
      "http://beta.usjr.edu.ph/cicct/clubs-and-organizations/\n",
      "https://usjr.edu.ph/elementary/faculty-and-staff/\n",
      "https://usjr.edu.ph/elementary/elem-hall-of-fame/\n",
      "http://beta.usjr.edu.ph/cicct/partners\n",
      "https://usjr.edu.ph/elementary/events/\n",
      "https://usjr.edu.ph/juniorhighschool/programs/\n",
      "https://usjr.edu.ph/juniorhighschool/about/\n",
      "https://usjr.edu.ph/juniorhighschool/hall-of-fame/\n",
      "https://usjr.edu.ph/2020/08/03/340-junior-high-students-for-ay-2019-2020-move-up/\n",
      "https://usjr.edu.ph/2020/06/22/usj-r-junior-high-department-releases-primer-new-normal-classes/\n",
      "https://usjr.edu.ph/2020/01/06/pre-registration-1st-central-visayas-alliance-humss-students-now-open/\n",
      "https://usjr.edu.ph/2019/09/30/cebu-city-government-inaugurates-scoutmaster-sergio-p-damazo-jr-bridge/\n",
      "https://usjr.edu.ph/2019/09/03/josenian-educator-tops-august-2019-rgc-exam-gets-third-prc-license/\n",
      "https://usjr.edu.ph/2019/07/04/cebu-city-council-names-bridge-josenian-scoutmaster/\n",
      "https://usjr.edu.ph/juniorhighschool/about\n",
      "https://usjr.edu.ph/juniorhighschool/programs\n",
      "https://usjr.edu.ph/juniorhighschool/clubs-and-organizations/\n",
      "https://usjr.edu.ph/juniorhighschool/faculty-and-staff/\n",
      "https://usjr.edu.ph/juniorhighschool/partners\n",
      "https://usjr.edu.ph/juniorhighschool/events/\n",
      "https://usjr.edu.ph/seniorhighschool/track/\n",
      "https://usjr.edu.ph/seniorhighschool/about/\n",
      "https://usjr.edu.ph/2022/08/12/josenian-premier-ay-2021-2022/\n",
      "https://usjr.edu.ph/2022/06/09/campus-journos-release-ay-2021-2022-newsletter-for-senior-high/\n",
      "https://usjr.edu.ph/2020/11/04/usj-r-publishes-list-of-senior-high-awardees-for-ay-2019-2020/\n",
      "https://usjr.edu.ph/2020/08/13/university-bares-list-of-senior-high-grads-for-ay-2019-2020/\n",
      "https://usjr.edu.ph/2020/01/07/complete-list-degree-programs-offered-usj-r/\n",
      "https://usjr.edu.ph/seniorhighschool/hall-of-fame/\n",
      "https://usjr.edu.ph/seniorhighschool/about\n",
      "https://usjr.edu.ph/seniorhighschool/track\n",
      "https://usjr.edu.ph/seniorhighschool/clubs-and-organizations/\n",
      "https://usjr.edu.ph/seniorhighschool/faculty-and-staff/\n",
      "https://usjr.edu.ph/seniorhighschool/partners\n",
      "https://usjr.edu.ph/seniorhighschool/events/\n",
      "https://usjr.edu.ph/rittc/programs\n",
      "https://usjr.edu.ph/rittc/about\n",
      "https://usjr.edu.ph/rittc/hall-of-fame\n",
      "https://usjr.edu.ph/category/rittc\n",
      "https://usjr.edu.ph/rittc/programs/\n",
      "https://usjr.edu.ph/rittc/faculty-and-staff/\n",
      "https://usjr.edu.ph/rittc/hall-of-fame/\n",
      "https://usjr.edu.ph/rittc/partners\n",
      "https://usjr.edu.ph/rittc/events/\n",
      "https://usjr.edu.ph/student-life/campus-experience/\n",
      "https://usjr.edu.ph/student-life/campus-experience/facilities/\n",
      "https://usjr.edu.ph/student-life/campus-experience/safety-and-security/\n",
      "https://usjr.edu.ph/student-life/campus-experience/environmental-responsibility/\n",
      "https://usjr.edu.ph/student-life/student-services/\n",
      "https://usjr.edu.ph/student-life/student-activities/\n",
      "http://beta.usjr.edu.ph/cicct\n",
      "https://usjr.edu.ph/wp-content/uploads/2016/06/2-homepage_d.jpg\n"
     ]
    },
    {
     "name": "stderr",
     "output_type": "stream",
     "text": [
      "Some characters could not be decoded, and were replaced with REPLACEMENT CHARACTER.\n"
     ]
    },
    {
     "name": "stdout",
     "output_type": "stream",
     "text": [
      "https://usjr.edu.ph/wp-content/uploads/2016/06/2-homepage_c-1024x684.jpg\n"
     ]
    },
    {
     "name": "stderr",
     "output_type": "stream",
     "text": [
      "Some characters could not be decoded, and were replaced with REPLACEMENT CHARACTER.\n"
     ]
    },
    {
     "name": "stdout",
     "output_type": "stream",
     "text": [
      "https://usjr.edu.ph/wp-content/uploads/2016/06/2-homepage_a-1024x684.jpg\n"
     ]
    },
    {
     "name": "stderr",
     "output_type": "stream",
     "text": [
      "Some characters could not be decoded, and were replaced with REPLACEMENT CHARACTER.\n"
     ]
    },
    {
     "name": "stdout",
     "output_type": "stream",
     "text": [
      "https://usjr.edu.ph/wp-content/uploads/2016/06/2-homepage_e-1024x684.jpg\n"
     ]
    },
    {
     "name": "stderr",
     "output_type": "stream",
     "text": [
      "Some characters could not be decoded, and were replaced with REPLACEMENT CHARACTER.\n"
     ]
    },
    {
     "name": "stdout",
     "output_type": "stream",
     "text": [
      "https://usjr.edu.ph/wp-content/uploads/2017/05/DSC0404-1024x680.jpg\n"
     ]
    },
    {
     "name": "stderr",
     "output_type": "stream",
     "text": [
      "Some characters could not be decoded, and were replaced with REPLACEMENT CHARACTER.\n"
     ]
    },
    {
     "name": "stdout",
     "output_type": "stream",
     "text": [
      "https://usjr.edu.ph/wp-content/uploads/2017/05/1-homepage-1024x684.jpg\n"
     ]
    },
    {
     "name": "stderr",
     "output_type": "stream",
     "text": [
      "Some characters could not be decoded, and were replaced with REPLACEMENT CHARACTER.\n"
     ]
    },
    {
     "name": "stdout",
     "output_type": "stream",
     "text": [
      "https://usjr.edu.ph/tag/cebu/\n",
      "https://usjr.edu.ph/tag/courses/\n",
      "https://usjr.edu.ph/tag/programs/\n",
      "https://usjr.edu.ph/tag/universities/\n",
      "https://usjr.edu.ph/tag/usjr/\n",
      "https://usjr.edu.ph/2018/06/20/san-beda-college-alabang-library-visit/\n",
      "https://usjr.edu.ph/tag/benchmark/\n",
      "https://usjr.edu.ph/tag/library-visit/\n",
      "https://usjr.edu.ph/2016/09/07/usj-r-library-staff-visited-libraries/\n",
      "https://usjr.edu.ph/category/library\n",
      "https://usjr.edu.ph/sdpc/staff\n",
      "https://usjr.edu.ph/library/about/\n",
      "https://usjr.edu.ph/library/library-services/\n",
      "https://usjr.edu.ph/library/resources/\n",
      "https://usjr.edu.ph/library/branch-libraries/\n",
      "https://usjr.edu.ph/library/branch-libraries/library-imc/library-imc-main/\n",
      "https://usjr.edu.ph/library/branch-libraries/library-imc/library-imc-basak/\n",
      "https://usjr.edu.ph/library/library-staff/\n",
      "http://beta.usjr.edu.ph/cicct/about\n",
      "https://usjr.edu.ph/wp-content/uploads/2022/04/Library-Instruction-1024x768.jpeg\n"
     ]
    },
    {
     "name": "stderr",
     "output_type": "stream",
     "text": [
      "Some characters could not be decoded, and were replaced with REPLACEMENT CHARACTER.\n"
     ]
    },
    {
     "name": "stdout",
     "output_type": "stream",
     "text": [
      "https://usjr.edu.ph/wp-content/uploads/2022/04/The-Library-1024x768.jpg\n"
     ]
    },
    {
     "name": "stderr",
     "output_type": "stream",
     "text": [
      "Some characters could not be decoded, and were replaced with REPLACEMENT CHARACTER.\n"
     ]
    },
    {
     "name": "stdout",
     "output_type": "stream",
     "text": [
      "https://usjr.edu.ph/wp-content/uploads/2022/04/Storytelling-1024x768.jpeg\n"
     ]
    },
    {
     "name": "stderr",
     "output_type": "stream",
     "text": [
      "Some characters could not be decoded, and were replaced with REPLACEMENT CHARACTER.\n"
     ]
    },
    {
     "name": "stdout",
     "output_type": "stream",
     "text": [
      "https://usjr.edu.ph/wp-content/uploads/2022/04/Storytelling-Area-1024x662.jpg\n"
     ]
    },
    {
     "name": "stderr",
     "output_type": "stream",
     "text": [
      "Some characters could not be decoded, and were replaced with REPLACEMENT CHARACTER.\n"
     ]
    },
    {
     "name": "stdout",
     "output_type": "stream",
     "text": [
      "https://usjr.edu.ph/wp-content/uploads/2022/04/Reading-Area-for-Lower-Grades-2-1024x768.jpg\n"
     ]
    },
    {
     "name": "stderr",
     "output_type": "stream",
     "text": [
      "Some characters could not be decoded, and were replaced with REPLACEMENT CHARACTER.\n"
     ]
    },
    {
     "name": "stdout",
     "output_type": "stream",
     "text": [
      "https://usjr.edu.ph/wp-content/uploads/2022/04/Reading-Area-for-Lower-Grades-1.jpg\n"
     ]
    },
    {
     "name": "stderr",
     "output_type": "stream",
     "text": [
      "Some characters could not be decoded, and were replaced with REPLACEMENT CHARACTER.\n"
     ]
    },
    {
     "name": "stdout",
     "output_type": "stream",
     "text": [
      "https://usjr.edu.ph/wp-content/uploads/2022/04/Reading-Area-for-Higher-Grades-1024x768.jpg\n"
     ]
    },
    {
     "name": "stderr",
     "output_type": "stream",
     "text": [
      "Some characters could not be decoded, and were replaced with REPLACEMENT CHARACTER.\n"
     ]
    },
    {
     "name": "stdout",
     "output_type": "stream",
     "text": [
      "https://usjr.edu.ph/wp-content/uploads/2022/04/Library-Orientation.jpg\n"
     ]
    },
    {
     "name": "stderr",
     "output_type": "stream",
     "text": [
      "Some characters could not be decoded, and were replaced with REPLACEMENT CHARACTER.\n"
     ]
    },
    {
     "name": "stdout",
     "output_type": "stream",
     "text": [
      "https://usjr.edu.ph/wp-content/uploads/2022/04/The-Library.jpg\n"
     ]
    },
    {
     "name": "stderr",
     "output_type": "stream",
     "text": [
      "Some characters could not be decoded, and were replaced with REPLACEMENT CHARACTER.\n"
     ]
    },
    {
     "name": "stdout",
     "output_type": "stream",
     "text": [
      "https://usjr.edu.ph/wp-content/uploads/2022/04/Storytelling.jpeg\n"
     ]
    },
    {
     "name": "stderr",
     "output_type": "stream",
     "text": [
      "Some characters could not be decoded, and were replaced with REPLACEMENT CHARACTER.\n"
     ]
    },
    {
     "name": "stdout",
     "output_type": "stream",
     "text": [
      "https://usjr.edu.ph/wp-content/uploads/2022/04/Storytelling-Area.jpg\n"
     ]
    },
    {
     "name": "stderr",
     "output_type": "stream",
     "text": [
      "Some characters could not be decoded, and were replaced with REPLACEMENT CHARACTER.\n"
     ]
    },
    {
     "name": "stdout",
     "output_type": "stream",
     "text": [
      "https://usjr.edu.ph/wp-content/uploads/2022/04/Reading-Area-for-Lower-Grades-2.jpg\n"
     ]
    },
    {
     "name": "stderr",
     "output_type": "stream",
     "text": [
      "Some characters could not be decoded, and were replaced with REPLACEMENT CHARACTER.\n"
     ]
    },
    {
     "name": "stdout",
     "output_type": "stream",
     "text": [
      "https://usjr.edu.ph/wp-content/uploads/2022/04/Reading-Area-for-Higher-Grades.jpg\n"
     ]
    },
    {
     "name": "stderr",
     "output_type": "stream",
     "text": [
      "Some characters could not be decoded, and were replaced with REPLACEMENT CHARACTER.\n"
     ]
    },
    {
     "name": "stdout",
     "output_type": "stream",
     "text": [
      "https://usjr.edu.ph/wp-content/uploads/2022/04/Library-Instruction.jpeg\n"
     ]
    },
    {
     "name": "stderr",
     "output_type": "stream",
     "text": [
      "Some characters could not be decoded, and were replaced with REPLACEMENT CHARACTER.\n"
     ]
    },
    {
     "name": "stdout",
     "output_type": "stream",
     "text": [
      "https://usjr.edu.ph/wp-content/uploads/2021/09/body1-1024x683.jpg\n"
     ]
    },
    {
     "name": "stderr",
     "output_type": "stream",
     "text": [
      "Some characters could not be decoded, and were replaced with REPLACEMENT CHARACTER.\n"
     ]
    },
    {
     "name": "stdout",
     "output_type": "stream",
     "text": [
      "https://usjr.edu.ph/wp-content/uploads/2021/09/body2-1024x636.jpg\n"
     ]
    },
    {
     "name": "stderr",
     "output_type": "stream",
     "text": [
      "Some characters could not be decoded, and were replaced with REPLACEMENT CHARACTER.\n"
     ]
    },
    {
     "name": "stdout",
     "output_type": "stream",
     "text": [
      "https://usjr.edu.ph/wp-content/uploads/2021/09/body3-1024x555.jpg\n"
     ]
    },
    {
     "name": "stderr",
     "output_type": "stream",
     "text": [
      "Some characters could not be decoded, and were replaced with REPLACEMENT CHARACTER.\n"
     ]
    },
    {
     "name": "stdout",
     "output_type": "stream",
     "text": [
      "https://usjr.edu.ph/wp-content/uploads/2021/10/faculties-area-1024x682.jpg\n"
     ]
    },
    {
     "name": "stderr",
     "output_type": "stream",
     "text": [
      "Some characters could not be decoded, and were replaced with REPLACEMENT CHARACTER.\n"
     ]
    },
    {
     "name": "stdout",
     "output_type": "stream",
     "text": [
      "https://usjr.edu.ph/wp-content/uploads/2021/09/nat3-1024x499.jpg\n"
     ]
    },
    {
     "name": "stderr",
     "output_type": "stream",
     "text": [
      "Some characters could not be decoded, and were replaced with REPLACEMENT CHARACTER.\n"
     ]
    },
    {
     "name": "stdout",
     "output_type": "stream",
     "text": [
      "https://usjr.edu.ph/wp-content/uploads/2021/09/nat1-1024x513.jpg\n"
     ]
    },
    {
     "name": "stderr",
     "output_type": "stream",
     "text": [
      "Some characters could not be decoded, and were replaced with REPLACEMENT CHARACTER.\n"
     ]
    },
    {
     "name": "stdout",
     "output_type": "stream",
     "text": [
      "https://usjr.edu.ph/wp-content/uploads/2021/09/ref6-1024x500.jpg\n"
     ]
    },
    {
     "name": "stderr",
     "output_type": "stream",
     "text": [
      "Some characters could not be decoded, and were replaced with REPLACEMENT CHARACTER.\n"
     ]
    },
    {
     "name": "stdout",
     "output_type": "stream",
     "text": [
      "https://usjr.edu.ph/wp-content/uploads/2021/09/nat2-1024x561.jpg\n"
     ]
    },
    {
     "name": "stderr",
     "output_type": "stream",
     "text": [
      "Some characters could not be decoded, and were replaced with REPLACEMENT CHARACTER.\n"
     ]
    },
    {
     "name": "stdout",
     "output_type": "stream",
     "text": [
      "https://usjr.edu.ph/wp-content/uploads/2021/09/nat5-1024x682.jpg\n"
     ]
    },
    {
     "name": "stderr",
     "output_type": "stream",
     "text": [
      "Some characters could not be decoded, and were replaced with REPLACEMENT CHARACTER.\n"
     ]
    },
    {
     "name": "stdout",
     "output_type": "stream",
     "text": [
      "https://usjr.edu.ph/wp-content/uploads/2021/09/blind4-1024x573.jpg\n"
     ]
    },
    {
     "name": "stderr",
     "output_type": "stream",
     "text": [
      "Some characters could not be decoded, and were replaced with REPLACEMENT CHARACTER.\n"
     ]
    },
    {
     "name": "stdout",
     "output_type": "stream",
     "text": [
      "https://usjr.edu.ph/wp-content/uploads/2021/09/blind3-1024x486.jpg\n"
     ]
    },
    {
     "name": "stderr",
     "output_type": "stream",
     "text": [
      "Some characters could not be decoded, and were replaced with REPLACEMENT CHARACTER.\n"
     ]
    },
    {
     "name": "stdout",
     "output_type": "stream",
     "text": [
      "https://usjr.edu.ph/wp-content/uploads/2021/09/blind2-1024x682.jpg\n"
     ]
    },
    {
     "name": "stderr",
     "output_type": "stream",
     "text": [
      "Some characters could not be decoded, and were replaced with REPLACEMENT CHARACTER.\n"
     ]
    },
    {
     "name": "stdout",
     "output_type": "stream",
     "text": [
      "https://usjr.edu.ph/wp-content/uploads/2021/09/blind1-1024x559.jpg\n"
     ]
    },
    {
     "name": "stderr",
     "output_type": "stream",
     "text": [
      "Some characters could not be decoded, and were replaced with REPLACEMENT CHARACTER.\n"
     ]
    },
    {
     "name": "stdout",
     "output_type": "stream",
     "text": [
      "https://usjr.edu.ph/wp-content/uploads/2021/09/blind5-1024x682.jpg\n"
     ]
    },
    {
     "name": "stderr",
     "output_type": "stream",
     "text": [
      "Some characters could not be decoded, and were replaced with REPLACEMENT CHARACTER.\n"
     ]
    },
    {
     "name": "stdout",
     "output_type": "stream",
     "text": [
      "https://usjr.edu.ph/wp-content/uploads/2021/09/lib_inst2-1024x460.jpg\n"
     ]
    },
    {
     "name": "stderr",
     "output_type": "stream",
     "text": [
      "Some characters could not be decoded, and were replaced with REPLACEMENT CHARACTER.\n"
     ]
    },
    {
     "name": "stdout",
     "output_type": "stream",
     "text": [
      "https://usjr.edu.ph/wp-content/uploads/2021/09/lib_inst4-1-1024x493.jpg\n"
     ]
    },
    {
     "name": "stderr",
     "output_type": "stream",
     "text": [
      "Some characters could not be decoded, and were replaced with REPLACEMENT CHARACTER.\n"
     ]
    },
    {
     "name": "stdout",
     "output_type": "stream",
     "text": [
      "https://usjr.edu.ph/wp-content/uploads/2021/09/lib_inst3.jpg\n"
     ]
    },
    {
     "name": "stderr",
     "output_type": "stream",
     "text": [
      "Some characters could not be decoded, and were replaced with REPLACEMENT CHARACTER.\n"
     ]
    },
    {
     "name": "stdout",
     "output_type": "stream",
     "text": [
      "https://usjr.edu.ph/wp-content/uploads/2021/09/lib_inst1-1-1024x628.jpg\n"
     ]
    },
    {
     "name": "stderr",
     "output_type": "stream",
     "text": [
      "Some characters could not be decoded, and were replaced with REPLACEMENT CHARACTER.\n"
     ]
    },
    {
     "name": "stdout",
     "output_type": "stream",
     "text": [
      "https://usjr.edu.ph/wp-content/uploads/2021/09/lib_inst5-1024x682.jpg\n"
     ]
    },
    {
     "name": "stderr",
     "output_type": "stream",
     "text": [
      "Some characters could not be decoded, and were replaced with REPLACEMENT CHARACTER.\n"
     ]
    },
    {
     "name": "stdout",
     "output_type": "stream",
     "text": [
      "http://beta.usjr.edu.ph/coe\n",
      "https://usjr.edu.ph/tag/2023/\n",
      "https://usjr.edu.ph/tag/2024/\n",
      "https://usjr.edu.ph/tag/academic-year/\n",
      "https://usjr.edu.ph/tag/august/\n",
      "https://usjr.edu.ph/tag/college/\n",
      "https://usjr.edu.ph/tag/college-enrollment-schedule/\n",
      "https://usjr.edu.ph/tag/enrollment/\n",
      "https://usjr.edu.ph/tag/enrolment/\n",
      "https://usjr.edu.ph/tag/first-semester/\n",
      "https://usjr.edu.ph/tag/new-school-year/\n",
      "https://usjr.edu.ph/tag/schedule/\n",
      "https://usjr.edu.ph/tag/school/\n",
      "https://usjr.edu.ph/tag/university/\n",
      "https://usjr.edu.ph/tag/board/\n",
      "https://usjr.edu.ph/tag/education/\n",
      "https://usjr.edu.ph/tag/fee/\n",
      "https://usjr.edu.ph/tag/hike/\n",
      "https://usjr.edu.ph/tag/increase/\n",
      "https://usjr.edu.ph/tag/leb/\n",
      "https://usjr.edu.ph/tag/legal/\n",
      "https://usjr.edu.ph/tag/tuition/\n",
      "https://usjr.edu.ph/tag/iot/\n",
      "https://usjr.edu.ph/tag/it/\n",
      "https://usjr.edu.ph/tag/partner/\n",
      "https://usjr.edu.ph/tag/taiwan/\n",
      "https://usjr.edu.ph/tag/technology/\n",
      "https://usjr.edu.ph/2022/09/12/usj-r-starts-face-to-face-classes-after-two-years/\n",
      "https://usjr.edu.ph/tag/face-to-face/\n",
      "https://usjr.edu.ph/tag/research/\n",
      "https://usjr.edu.ph/tag/study/\n",
      "https://rmrj.usjr.edu.ph/\n",
      "https://usjr.edu.ph/research/downloadables/\n",
      "https://usjr.edu.ph/wp-content/uploads/2016/04/DSC_0097.jpg\n"
     ]
    },
    {
     "name": "stderr",
     "output_type": "stream",
     "text": [
      "Some characters could not be decoded, and were replaced with REPLACEMENT CHARACTER.\n"
     ]
    },
    {
     "name": "stdout",
     "output_type": "stream",
     "text": [
      "https://usjr.edu.ph/wp-content/uploads/2016/06/DSC_0086-1-1024x683.jpg\n"
     ]
    },
    {
     "name": "stderr",
     "output_type": "stream",
     "text": [
      "Some characters could not be decoded, and were replaced with REPLACEMENT CHARACTER.\n"
     ]
    },
    {
     "name": "stdout",
     "output_type": "stream",
     "text": [
      "https://usjr.edu.ph/wp-content/uploads/2016/06/DSC_0086-1024x584.jpg\n"
     ]
    },
    {
     "name": "stderr",
     "output_type": "stream",
     "text": [
      "Some characters could not be decoded, and were replaced with REPLACEMENT CHARACTER.\n"
     ]
    },
    {
     "name": "stdout",
     "output_type": "stream",
     "text": [
      "https://usjr.edu.ph/wp-content/uploads/2016/05/engineering-1-1024x768.png\n"
     ]
    },
    {
     "name": "stderr",
     "output_type": "stream",
     "text": [
      "Some characters could not be decoded, and were replaced with REPLACEMENT CHARACTER.\n"
     ]
    },
    {
     "name": "stdout",
     "output_type": "stream",
     "text": [
      "https://usjr.edu.ph/research/aboutus/\n",
      "https://usjr.edu.ph/research/services/\n",
      "https://usjr.edu.ph/wp-content/uploads/2017/02/650A5617-1024x683.jpg\n"
     ]
    },
    {
     "name": "stderr",
     "output_type": "stream",
     "text": [
      "Some characters could not be decoded, and were replaced with REPLACEMENT CHARACTER.\n"
     ]
    },
    {
     "name": "stdout",
     "output_type": "stream",
     "text": [
      "https://usjr.edu.ph/wp-content/uploads/2017/02/650A7107-1024x618.jpg\n"
     ]
    },
    {
     "name": "stderr",
     "output_type": "stream",
     "text": [
      "Some characters could not be decoded, and were replaced with REPLACEMENT CHARACTER.\n"
     ]
    },
    {
     "name": "stdout",
     "output_type": "stream",
     "text": [
      "https://usjr.edu.ph/wp-content/uploads/2016/07/2-1024x683.png\n"
     ]
    },
    {
     "name": "stderr",
     "output_type": "stream",
     "text": [
      "Some characters could not be decoded, and were replaced with REPLACEMENT CHARACTER.\n"
     ]
    },
    {
     "name": "stdout",
     "output_type": "stream",
     "text": [
      "https://usjr.edu.ph/wp-content/uploads/2016/05/551440_10151508686089804_270826951_n.jpg\n"
     ]
    },
    {
     "name": "stderr",
     "output_type": "stream",
     "text": [
      "Some characters could not be decoded, and were replaced with REPLACEMENT CHARACTER.\n"
     ]
    },
    {
     "name": "stdout",
     "output_type": "stream",
     "text": [
      "https://usjr.edu.ph/wp-content/uploads/2016/05/law-kunuhay-1024x768.png\n"
     ]
    },
    {
     "name": "stderr",
     "output_type": "stream",
     "text": [
      "Some characters could not be decoded, and were replaced with REPLACEMENT CHARACTER.\n"
     ]
    },
    {
     "name": "stdout",
     "output_type": "stream",
     "text": [
      "https://usjr.edu.ph/wp-content/uploads/2016/09/IMG_4564-1024x683.jpg\n"
     ]
    },
    {
     "name": "stderr",
     "output_type": "stream",
     "text": [
      "Some characters could not be decoded, and were replaced with REPLACEMENT CHARACTER.\n"
     ]
    },
    {
     "name": "stdout",
     "output_type": "stream",
     "text": [
      "https://usjr.edu.ph/wp-content/uploads/2016/05/1275223_10151946388189804_1670169053_o-1024x683.jpg\n"
     ]
    },
    {
     "name": "stderr",
     "output_type": "stream",
     "text": [
      "Some characters could not be decoded, and were replaced with REPLACEMENT CHARACTER.\n"
     ]
    },
    {
     "name": "stdout",
     "output_type": "stream",
     "text": [
      "https://usjr.edu.ph/2019/11/19/josenian-educators-given-study-grants-by-ched/\n",
      "https://usjr.edu.ph/2019/08/12/josenian-student-wins-best-paper-award-in-international-conference-on-nursing-ed/\n",
      "https://usjr.edu.ph/2019/03/08/3rd-recoletos-international-research-congress-garners-200-entries-across-globe/\n",
      "https://usjr.edu.ph/2019/02/11/ipophl-director-general-visits-usj-r/\n",
      "https://usjr.edu.ph/2019/01/17/3rd-recoletos-congress-accept-entries-january-31/\n",
      "https://usjr.edu.ph/2017/11/29/asean-citation-index-recognizes-usj-r-journal/\n",
      "https://usjr.edu.ph/category/research/\n",
      "http://edp.usjr.edu.ph/\n",
      "https://www.facebook.com/sao.usjr.edu.ph/\n",
      "https://eclass.law.usjr.edu.ph/login/index.php\n",
      "https://eclass.law.usjr.edu.ph/\n",
      "https://eclass.law.usjr.edu.ph/user/view.php\n",
      "https://eclass.law.usjr.edu.ph/mod/forum/discuss.php\n",
      "https://eclass.law.usjr.edu.ph/mod/forum/post.php\n",
      "https://eclass.law.usjr.edu.ph/my/\n",
      "https://usjr.edu.ph/cas/degrees/undergraduate/communication/\n",
      "https://usjr.edu.ph/cas/degrees/undergraduate/marketing-communication/\n",
      "https://usjr.edu.ph/cas/degrees/undergraduate/journalism/\n",
      "https://usjr.edu.ph/cas/degrees/undergraduate/english/\n",
      "https://usjr.edu.ph/cas/degrees/undergraduate/microbiology-major/\n",
      "https://usjr.edu.ph/cas/degrees/undergraduate/psychology/\n",
      "https://usjr.edu.ph/cas/degrees/undergraduate/library-and-information-science/\n",
      "https://usjr.edu.ph/cas/degrees/undergraduate/international-studies/\n",
      "https://usjr.edu.ph/cas/degrees/undergraduate/political-science/\n",
      "https://usjr.edu.ph/coc/degrees/undergraduate/bsa/\n",
      "https://usjr.edu.ph/coc/degrees/undergraduate/bsma/\n",
      "https://usjr.edu.ph/coc/degrees/undergraduate/bsba-fm/\n",
      "https://usjr.edu.ph/coc/degrees/undergraduate/bs-entrepreneurship/\n",
      "https://usjr.edu.ph/coc/degrees/undergraduate/bsba-mm/\n",
      "https://usjr.edu.ph/coc/degrees/undergraduate/bsba-hrdm/\n",
      "https://usjr.edu.ph/coc/degrees/undergraduate/bshm-food-and-beverages/\n",
      "https://usjr.edu.ph/coc/degrees/undergraduate/tourism/\n",
      "https://usjr.edu.ph/coeng/degrees/undergraduate/bsce/\n",
      "https://usjr.edu.ph/coeng/degrees/undergraduate/bs-com-eng/\n",
      "https://usjr.edu.ph/coeng/degrees/undergraduate/bsee/\n",
      "https://usjr.edu.ph/coeng/degrees/undergraduate/bsece/\n",
      "https://usjr.edu.ph/coeng/degrees/graduate/industrial-engineering-master-of-engineering-major/\n",
      "https://usjr.edu.ph/coeng/degrees/undergraduate/bsme/\n",
      "https://usjr.edu.ph/coe/degrees/undergraduate/beedsped/\n",
      "https://usjr.edu.ph/coe/degrees/undergraduate/beed-ece/\n",
      "https://usjr.edu.ph/coe/degrees/undergraduate/bsed-english/\n",
      "https://usjr.edu.ph/coe/degrees/undergraduate/bsed-filipino/\n",
      "https://usjr.edu.ph/coe/degrees/undergraduate/bsed-math/\n",
      "https://usjr.edu.ph/cicct/degrees/undergraduate/bscs/\n",
      "https://usjr.edu.ph/cicct/degrees/undergraduate/bsit/\n",
      "https://usjr.edu.ph/cicct/degrees/undergraduate/bsis/\n",
      "https://edp.usjr.edu.ph/applicant/admission_form/\n",
      "https://usjr.edu.ph/2021/06/01/ched-awards-three-plaques-to-usj-r/\n",
      "https://usjr.edu.ph/2017/06/29/josenian-elected-jea-president/\n",
      "https://usjr.edu.ph/2019/09/23/usj-r-educator-named-esd-fellow-by-seameo-unesco/\n",
      "https://usjr.edu.ph/2022/10/12/usj-r-school-of-education-inks-two-agreements-to-assist-daycare-teachers-in-cebu/\n",
      "https://usjr.edu.ph/2016/10/04/usj-r-breaks-ground-on-6-story-shs-bldg/\n",
      "http://external@usjr.edu.ph%20\n",
      "https://usjr.edu.ph/2019/05/27/usj-r-grad-tops-may-2019-cpa-exam-fulfills-promise-dad/\n",
      "https://usjr.edu.ph/2019/06/16/usj-r-application-tuition-fee-discount-now-open/\n",
      "https://usjr.edu.ph/2017/06/21/usj-r-coe-faculty-receives-ched-scholarship/\n",
      "https://usjr.edu.ph/2022/09/30/restless-heart-2021-issue-now-available-for-download/\n",
      "https://usjr.edu.ph/events/category/cas/\n",
      "https://usjr.edu.ph/portfolio/test-cas-awards/\n",
      "https://usjr.edu.ph/portfolio/system-support/\n",
      "https://usjr.edu.ph/events/category/cicct/\n",
      "https://usjr.edu.ph/events/category/coe/\n",
      "https://usjr.edu.ph/sams/degrees/undergraduate/nursing/\n",
      "https://usjr.edu.ph/cas\n",
      "https://usjr.edu.ph/cas/degrees/undergraduate/liberal-arts-in-commerce/\n",
      "https://usjr.edu.ph/cas/degrees/undergraduate/biology/\n",
      "https://usjr.edu.ph/sas/degrees/undergraduate/communication/\n",
      "https://usjr.edu.ph/sas/degrees/undergraduate/marketing-communication/\n",
      "https://usjr.edu.ph/sas/degrees/undergraduate/journalism/\n",
      "https://usjr.edu.ph/sas/degrees/undergraduate/liberal-arts-in-commerce/\n",
      "https://usjr.edu.ph/sas/degrees/undergraduate/biology/\n",
      "https://usjr.edu.ph/sas/degrees/undergraduate/microbiology-major/\n",
      "https://usjr.edu.ph/sas/degrees/undergraduate/psychology/\n",
      "https://usjr.edu.ph/sas/degrees/undergraduate/international-studies/\n",
      "https://usjr.edu.ph/sas/degrees/undergraduate/english/\n",
      "https://usjr.edu.ph/sas/degrees/undergraduate/political-science/\n",
      "https://usjr.edu.ph/sas/degrees/graduate/english-language-doctor-of-philosophy/\n",
      "https://usjr.edu.ph/sas/degrees/graduate/doctor-of-philosophy-english-literature/\n",
      "https://usjr.edu.ph/sas/degrees/graduate/communication-broadcast-doctor-of-philosophy/\n",
      "https://usjr.edu.ph/sas/degrees/graduate/doctor-of-philosophy-in-communication-print-media/\n",
      "https://usjr.edu.ph/sas/degrees/graduate/english-master-of-arts/\n",
      "https://usjr.edu.ph/sas/degrees/graduate/master-of-arts-in-english-literature/\n",
      "https://usjr.edu.ph/sas/degrees/graduate/media-studies-masters-degree/\n",
      "https://usjr.edu.ph/sas/degrees/graduate/development-communication-master-of-science/\n",
      "https://usjr.edu.ph/sas/degrees/graduate/pol-sci-masters-degree/\n",
      "https://usjr.edu.ph/sas/degrees/graduate/philosophy-master-of-arts/\n",
      "https://usjr.edu.ph/sas/degrees/graduate/psychology-master-of-arts-org-psych/\n",
      "https://usjr.edu.ph/sas/degrees/graduate/master-of-arts-in-psychology-social-psych/\n",
      "https://usjr.edu.ph/sas/degrees/graduate/master-of-library-information-science/\n",
      "https://usjr.edu.ph/sas/events/\n",
      "https://usjr.edu.ph/cas/degrees/graduate/english-language-doctor-of-philosophy/\n",
      "https://usjr.edu.ph/cas/degrees/graduate/doctor-of-philosophy-english-literature/\n",
      "https://usjr.edu.ph/cas/degrees/graduate/communication-broadcast-doctor-of-philosophy/\n",
      "https://usjr.edu.ph/cas/degrees/graduate/doctor-of-philosophy-in-communication-print-media/\n",
      "https://usjr.edu.ph/cas/degrees/graduate/english-master-of-arts/\n",
      "https://usjr.edu.ph/cas/degrees/graduate/master-of-arts-in-english-literature/\n",
      "https://usjr.edu.ph/cas/degrees/graduate/media-studies-masters-degree/\n",
      "https://usjr.edu.ph/cas/degrees/graduate/development-communication-master-of-science/\n",
      "https://usjr.edu.ph/cas/degrees/graduate/pol-sci-masters-degree/\n",
      "https://usjr.edu.ph/cas/degrees/graduate/philosophy-master-of-arts/\n",
      "https://usjr.edu.ph/cas/degrees/graduate/psychology-master-of-arts-org-psych/\n",
      "https://usjr.edu.ph/cas/degrees/graduate/master-of-arts-in-psychology-social-psych/\n",
      "https://usjr.edu.ph/cas/degrees/graduate/master-of-library-information-science/\n",
      "https://usjr.edu.ph/2022/06/29/usj-r-unveils-full-list-of-tertiary-graduates-for-ay-2021-2022/\n",
      "https://usjr.edu.ph/2019/07/02/usj-r-signs-pact-with-rafi-java/\n",
      "https://usjr.edu.ph/2018/02/05/synergy-forum-introduces-academe-partnerships/\n",
      "https://usjr.edu.ph/2018/07/02/southern-taiwan-university-and-usj-r-inks-cooperation-agreement/\n",
      "https://usjr.edu.ph/2021/07/30/josenians-urged-to-submit-grad-pic-for-virtual-graduation/\n",
      "https://usjr.edu.ph/2021/09/10/usj-r-extends-on-site-operations-to-include-saturdays/\n",
      "https://usjr.edu.ph/2021/02/18/usj-r-releases-list-of-graduate-school-grads-for-3rd-trimester-of-ay-2019-2020-1st-trimester-of-2020-2021/\n",
      "https://usjr.edu.ph/2021/04/30/augustinian-recollects-celebrate-400-years-of-missionary-presence-in-cebu/\n",
      "https://usjr.edu.ph/2022/06/06/usj-r-opens-its-front-gate-for-the-first-time-in-two-years/\n",
      "https://usjr.edu.ph/2021/11/03/the-homecoming-miss-universe-ph-2021-beatrice-gomez-visits-usj-r/\n",
      "https://usjr.edu.ph/2021/05/06/usjr-publishes-list-of-college-awardees-for-ay-2020-2021-1st-sem/\n",
      "https://usjr.edu.ph/2020/09/30/usj-r-2020-graduates-may-claim-graduation-fee-refund/2/\n",
      "https://usjr.edu.ph/2020/10/29/usj-r-recognizes-59-service-awardees-in-2020/\n",
      "https://usjr.edu.ph/sbm\n",
      "https://usjr.edu.ph/sbm/degrees/undergraduate/bsba/\n",
      "https://usjr.edu.ph/sbm/degrees/undergraduate/bsba-hrdm/\n",
      "https://usjr.edu.ph/sbm/degrees/undergraduate/bsba-mm/\n",
      "https://usjr.edu.ph/sbm/degrees/undergraduate/bsba-fm/\n",
      "https://usjr.edu.ph/sbm/degrees/undergraduate/bs-entrepreneurship/\n"
     ]
    },
    {
     "name": "stdout",
     "output_type": "stream",
     "text": [
      "https://usjr.edu.ph/sbm/degrees/undergraduate/bsa/\n",
      "https://usjr.edu.ph/sbm/degrees/undergraduate/bsma/\n",
      "https://usjr.edu.ph/sbm/degrees/undergraduate/bshm/\n",
      "https://usjr.edu.ph/sbm/degrees/undergraduate/bshm-food-and-beverages/\n",
      "https://usjr.edu.ph/sbm/degrees/undergraduate/tourism/\n",
      "https://usjr.edu.ph/sbm/degrees/undergraduate/associate-hm/\n",
      "https://usjr.edu.ph/coc/degrees/undergraduate/associate-tourism/\n",
      "https://usjr.edu.ph/sbm/degrees/sbm-graduate-programs/doctorate-business-ad/\n",
      "https://usjr.edu.ph/sbm/degrees/sbm-graduate-programs/dhrm/\n",
      "https://usjr.edu.ph/sbm/degrees/sbm-graduate-programs/doctorate-educational-management/\n",
      "https://usjr.edu.ph/sbm/degrees/sbm-graduate-programs/master-business-administration/\n",
      "https://usjr.edu.ph/sbm/degrees/sbm-graduate-programs/master-business-management/\n",
      "https://usjr.edu.ph/sbm/degrees/sbm-graduate-programs/master-educational-management/\n",
      "https://usjr.edu.ph/sbm/degrees/sbm-graduate-programs/master-public-service-management/\n",
      "https://usjr.edu.ph/coc\n",
      "https://usjr.edu.ph/2020/09/30/usj-r-releases-second-list-of-graduates-for-2nd-semester-of-ay-2019-2020/2/\n",
      "https://usjr.edu.ph/2020/09/15/virtual-usj-r-student-services-you-can-avail-online/\n",
      "https://usjr.edu.ph/portfolio/coc-awards-test/\n",
      "http://beta.usjr.edu.ph/coc\n",
      "https://usjr.edu.ph/soe/degrees/undergraduate/beed/\n",
      "https://usjr.edu.ph/soe/degrees/undergraduate/beed-ece/\n",
      "https://usjr.edu.ph/soe/degrees/undergraduate/bachelor-in-special-needs-education-generalist/\n",
      "https://usjr.edu.ph/soe/degrees/undergraduate/early-childhood-educationbsned/\n",
      "https://usjr.edu.ph/soe/degrees/undergraduate/bsned-major-in-elementary-school-teaching/\n",
      "https://usjr.edu.ph/soe/degrees/undergraduate/bsed-english/\n",
      "https://usjr.edu.ph/soe/degrees/undergraduate/bsed-filipino/\n",
      "https://usjr.edu.ph/bachelor-secondary-education-major-mathematics-bsed-math/\n",
      "https://usjr.edu.ph/bachelor-secondary-education-major-science-bsed-science/\n",
      "https://usjr.edu.ph/soe/degrees/graduate/physical-education/\n",
      "https://usjr.edu.ph/diploma-professional-education-dpe/\n",
      "https://usjr.edu.ph/diploma-professional-education-concentration-catechism/\n",
      "https://usjr.edu.ph/certificate-program-elementary-teaching/\n",
      "https://usjr.edu.ph/etteap/\n",
      "https://usjr.edu.ph/soe/degrees/undergraduate/bsned-gen/\n",
      "https://usjr.edu.ph/soe/degrees/undergraduate/bsned-ece/\n",
      "https://usjr.edu.ph/soe/degrees/undergraduate/bsned-est/\n",
      "https://usjr.edu.ph/soe/degrees/undergraduate/bsed-math/\n",
      "https://usjr.edu.ph/soe/degrees/undergraduate/bsed-science/\n",
      "https://usjr.edu.ph/soe/degrees/undergraduate/beedsped/\n",
      "https://usjr.edu.ph/soe/degrees/undergraduate/dpe/\n",
      "https://usjr.edu.ph/soe/degrees/undergraduate/dpe-cc/\n",
      "https://usjr.edu.ph/soe/degrees/undergraduate/cpet/\n",
      "https://usjr.edu.ph/soe/degrees/undergraduate/etteap/\n",
      "https://usjr.edu.ph/soe/degrees/graduate/ed-d-disrm/\n",
      "https://usjr.edu.ph/soe/degrees/graduate/master-education-educational-administration/\n",
      "https://usjr.edu.ph/soe/degrees/graduate/guidance-counseling/\n",
      "https://usjr.edu.ph/soe/degrees/graduate/elementary-education/\n",
      "https://usjr.edu.ph/soe/degrees/graduate/early-childhood-education/\n",
      "https://usjr.edu.ph/soe/degrees/graduate/special-education/\n",
      "https://usjr.edu.ph/soe/degrees/graduate/elementary-mathematics-teaching/\n",
      "https://usjr.edu.ph/soe/degrees/graduate/elementary-science-teaching/\n",
      "https://usjr.edu.ph/soe/degrees/graduate/english-language-teaching/\n",
      "https://usjr.edu.ph/soe/degrees/graduate/filipino-language-teaching/\n",
      "https://usjr.edu.ph/soe/degrees/graduate/biology/\n",
      "https://usjr.edu.ph/soe/degrees/graduate/chemistry/\n",
      "https://usjr.edu.ph/soe\n",
      "https://usjr.edu.ph/soe/degrees/graduate/doctor-of-education/\n",
      "https://usjr.edu.ph/soe/degrees/graduate/education-administration/\n",
      "https://usjr.edu.ph/wp-content/uploads/2018/12/Awards-and-Recognitions-2.jpg\n"
     ]
    },
    {
     "name": "stderr",
     "output_type": "stream",
     "text": [
      "Some characters could not be decoded, and were replaced with REPLACEMENT CHARACTER.\n"
     ]
    },
    {
     "name": "stdout",
     "output_type": "stream",
     "text": [
      "https://usjr.edu.ph/wp-content/uploads/2016/05/3-in-1-Affair.jpg\n"
     ]
    },
    {
     "name": "stderr",
     "output_type": "stream",
     "text": [
      "Some characters could not be decoded, and were replaced with REPLACEMENT CHARACTER.\n"
     ]
    },
    {
     "name": "stdout",
     "output_type": "stream",
     "text": [
      "https://usjr.edu.ph/wp-content/uploads/2016/05/Active-Participation-in-University-Intramurals-1-1024x859.jpg\n"
     ]
    },
    {
     "name": "stderr",
     "output_type": "stream",
     "text": [
      "Some characters could not be decoded, and were replaced with REPLACEMENT CHARACTER.\n"
     ]
    },
    {
     "name": "stdout",
     "output_type": "stream",
     "text": [
      "https://usjr.edu.ph/wp-content/uploads/2018/12/Attendance-of-Faculty-in-Conference-and-Seminars-2-1024x768.jpg\n"
     ]
    },
    {
     "name": "stderr",
     "output_type": "stream",
     "text": [
      "Some characters could not be decoded, and were replaced with REPLACEMENT CHARACTER.\n"
     ]
    },
    {
     "name": "stdout",
     "output_type": "stream",
     "text": [
      "https://usjr.edu.ph/wp-content/uploads/2018/12/Attendance-of-Faculty-in-Conference-and-Seminars-3-1024x871.jpg\n"
     ]
    },
    {
     "name": "stderr",
     "output_type": "stream",
     "text": [
      "Some characters could not be decoded, and were replaced with REPLACEMENT CHARACTER.\n"
     ]
    },
    {
     "name": "stdout",
     "output_type": "stream",
     "text": [
      "https://usjr.edu.ph/wp-content/uploads/2018/12/Attendance-of-Faculty-in-Conference-and-Seminars-1-1024x768.jpg\n"
     ]
    },
    {
     "name": "stderr",
     "output_type": "stream",
     "text": [
      "Some characters could not be decoded, and were replaced with REPLACEMENT CHARACTER.\n"
     ]
    },
    {
     "name": "stdout",
     "output_type": "stream",
     "text": [
      "https://usjr.edu.ph/wp-content/uploads/2016/05/Active-Participation-in-University-Intramurals-3-768x1024.jpg\n"
     ]
    },
    {
     "name": "stderr",
     "output_type": "stream",
     "text": [
      "Some characters could not be decoded, and were replaced with REPLACEMENT CHARACTER.\n"
     ]
    },
    {
     "name": "stdout",
     "output_type": "stream",
     "text": [
      "https://usjr.edu.ph/wp-content/uploads/2018/12/Teachers_-Day-2.jpg\n"
     ]
    },
    {
     "name": "stderr",
     "output_type": "stream",
     "text": [
      "Some characters could not be decoded, and were replaced with REPLACEMENT CHARACTER.\n"
     ]
    },
    {
     "name": "stdout",
     "output_type": "stream",
     "text": [
      "https://usjr.edu.ph/wp-content/uploads/2018/12/Awarding-of-Honor-Students.jpg\n"
     ]
    },
    {
     "name": "stderr",
     "output_type": "stream",
     "text": [
      "Some characters could not be decoded, and were replaced with REPLACEMENT CHARACTER.\n"
     ]
    },
    {
     "name": "stdout",
     "output_type": "stream",
     "text": [
      "https://usjr.edu.ph/wp-content/uploads/2018/12/Attendance-of-Faculty-in-Conference-and-Seminars-4-1024x576.jpg\n"
     ]
    },
    {
     "name": "stderr",
     "output_type": "stream",
     "text": [
      "Some characters could not be decoded, and were replaced with REPLACEMENT CHARACTER.\n"
     ]
    },
    {
     "name": "stdout",
     "output_type": "stream",
     "text": [
      "https://usjr.edu.ph/wp-content/uploads/2016/05/Active-Participation-in-University-Intramurals-6-768x1024.jpg\n"
     ]
    },
    {
     "name": "stderr",
     "output_type": "stream",
     "text": [
      "Some characters could not be decoded, and were replaced with REPLACEMENT CHARACTER.\n"
     ]
    },
    {
     "name": "stdout",
     "output_type": "stream",
     "text": [
      "https://usjr.edu.ph/wp-content/uploads/2016/05/Active-Participation-in-University-Intramurals-2-1024x576.jpg\n"
     ]
    },
    {
     "name": "stderr",
     "output_type": "stream",
     "text": [
      "Some characters could not be decoded, and were replaced with REPLACEMENT CHARACTER.\n"
     ]
    },
    {
     "name": "stdout",
     "output_type": "stream",
     "text": [
      "https://usjr.edu.ph/wp-content/uploads/2016/05/Active-Participation-in-University-Intramurals-5-1024x768.jpg\n"
     ]
    },
    {
     "name": "stderr",
     "output_type": "stream",
     "text": [
      "Some characters could not be decoded, and were replaced with REPLACEMENT CHARACTER.\n"
     ]
    },
    {
     "name": "stdout",
     "output_type": "stream",
     "text": [
      "https://usjr.edu.ph/wp-content/uploads/2018/12/Teachers_-Day-3-1024x576.jpg\n"
     ]
    },
    {
     "name": "stderr",
     "output_type": "stream",
     "text": [
      "Some characters could not be decoded, and were replaced with REPLACEMENT CHARACTER.\n"
     ]
    },
    {
     "name": "stdout",
     "output_type": "stream",
     "text": [
      "https://usjr.edu.ph/wp-content/uploads/2018/12/Awards-and-Recognitions-1.jpg\n"
     ]
    },
    {
     "name": "stderr",
     "output_type": "stream",
     "text": [
      "Some characters could not be decoded, and were replaced with REPLACEMENT CHARACTER.\n"
     ]
    },
    {
     "name": "stdout",
     "output_type": "stream",
     "text": [
      "https://usjr.edu.ph/coeng/degrees/undergraduate/bsie/\n",
      "https://usjr.edu.ph/soeng/degrees/undergraduate/bsme/\n",
      "https://usjr.edu.ph/soeng/degrees/undergraduate/bsie/\n",
      "https://usjr.edu.ph/soeng/degrees/undergraduate/bsee/\n",
      "https://usjr.edu.ph/soeng/degrees/undergraduate/bsece/\n",
      "https://usjr.edu.ph/soeng/degrees/undergraduate/bs-com-eng/\n",
      "https://usjr.edu.ph/soeng/degrees/undergraduate/bsce/\n",
      "https://usjr.edu.ph/soeng/degrees/graduate/me-ie/\n",
      "https://usjr.edu.ph/cicct/degrees/undergraduate/mit/\n",
      "https://usjr.edu.ph/cicct/degrees/undergraduate/act\n",
      "https://usjr.edu.ph/scs/degrees/undergraduate/bscs/\n",
      "https://usjr.edu.ph/scs/degrees/undergraduate/act/\n",
      "https://usjr.edu.ph/scs/degrees/undergraduate/bsis/\n",
      "https://usjr.edu.ph/scs/degrees/undergraduate/bsit/\n",
      "https://usjr.edu.ph/scs/degrees/graduate/mit/\n",
      "http://beta.usjr.edu.ph/cicct/degrees/undergraduate/mit\n",
      "https://usjr.edu.ph/2022/09/13/recoletos-multidisciplinary-research-journal-now-scopus-indexed/\n",
      "https://usjr.edu.ph/2022/10/10/usj-r-marks-75th-anniversary-celebration-with-diamond-jubilee-urns-and-fireworks/\n",
      "https://usjr.edu.ph/2019/07/26/usj-r-sent-three-cicct-students-taiwan-student-exchange-program/\n",
      "http://icto.usjr.edu.ph\n",
      "https://usjr.edu.ph/nursing/degrees/undergraduate/nursing/\n",
      "https://usjr.edu.ph/sams/degrees/undergraduate/bsmtlms/\n",
      "https://usjr.edu.ph/2020/08/03/registrar-releases-list-of-elementary-grads-for-ay-2019-2020/\n",
      "https://usjr.edu.ph/2020/07/16/josenian-civil-engineering-professor-qualifies-for-mext-goes-to-japan-for-post-grad-studies/\n",
      "http://beta.usjr.edu.ph/law\n",
      "https://usjr.edu.ph/law/degrees/graduate/regular-law\n",
      "https://usjr.edu.ph/law/degrees/graduate/executive-law\n",
      "https://usjr.edu.ph/law/degrees/\n",
      "https://usjr.edu.ph/law/degrees/graduate/regular-law/\n",
      "https://usjr.edu.ph/law/organizations/\n",
      "https://usjr.edu.ph/2022/03/04/usj-r-hailed-business-school-of-the-year-by-ja-philippines/\n",
      "https://usjr.edu.ph/2022/04/25/six-oar-priests-celebrate-25th-sacerdotal-ordination-anniversary/\n",
      "https://usjr.edu.ph/2022/02/14/usjr-to-implement-for-asynchronous-modality-in-feb-2022/\n",
      "https://usjr.edu.ph/2022/01/31/usj-r-to-celebrate-75-years-as-an-educational-institution-this-year/\n",
      "https://usjr.edu.ph/2019/01/29/usj-r-school-of-law-alumni-organize-first-ever-fun-run/\n",
      "https://usjr.edu.ph/2019/03/01/senior-high-school-first-research-summit/\n",
      "https://usjr.edu.ph/2019/03/11/ceap-holds-2019-nhec-summit-usj-r/\n",
      "https://usjr.edu.ph/2018/08/10/josenian-lawyer-places-15th-bar-exam/\n",
      "https://usjr.edu.ph/2018/02/08/new-zealand-govt-encourage-filipino-students-avail-scholarships/\n",
      "https://usjr.edu.ph/portfolio/test-law-award/\n",
      "https://usjr.edu.ph/virtual-tour/main-campus/\n",
      "https://usjr.edu.ph/virtual-tour/main-campus/mt-carmel/\n",
      "https://usjr.edu.ph/virtual-tour/main-campus/st-joseph/\n",
      "https://usjr.edu.ph/virtual-tour/main-campus/augustine/\n",
      "https://usjr.edu.ph/virtual-tour/basak-campus/\n",
      "https://usjr.edu.ph/virtual-tour/basak-campus/pius/\n",
      "https://usjr.edu.ph/virtual-tour/basak-campus/sem/\n",
      "https://usjr.edu.ph/virtual-tour/basak-campus/olcon/\n",
      "https://usjr.edu.ph/virtual-tour/basak-campus/coliseum/\n",
      "https://usjr.edu.ph/virtual-tour/basak-campus/mrf/\n",
      "https://usjr.edu.ph/virtual-tour/basak-campus/canteen/\n",
      "https://usjr.edu.ph/2020/12/03/usjr-ceremonial-lighting-2020/\n",
      "https://usjr.edu.ph/2020/06/02/faqs-2020-online-summer-enrollment-class/\n",
      "https://usjr.edu.ph/2019/08/26/local-superheroes-pinoy-mythical-creatures-highlight-ninth-enggrande/\n",
      "https://usjr.edu.ph/2017/09/03/agosto-2017-buwan-ng-wikang-mapagbago/\n",
      "https://usjr.edu.ph/2018/07/04/university-introduces-new-religious-administrators-2018-2022/\n",
      "https://usjr.edu.ph/2019/08/18/josenians-represent-ph-in-tri-country-workshop-on-robotics-in-taiwan/\n",
      "https://usjr.edu.ph/2018/09/04/josenian-student-organization-leaders-conduct-mural-painting-at-tungkil/\n",
      "https://usjr.edu.ph/2018/10/01/usj-r-university-days-intramurals-2018-results/\n",
      "https://usjr.edu.ph/2019/08/01/usj-r-named-itf-champion-for-the-fourth-consecutive-time/\n",
      "https://usjr.edu.ph/2018/07/12/university-president-trains-singapore/\n",
      "https://usjr.edu.ph/2018/07/16/13th-capping-badging-investiture/\n",
      "http://beta.usjr.edu.ph/juniorhighschool\n",
      "http://beta.usjr.edu.ph/cicct/degrees/undergraduate/\n",
      "https://usjr.edu.ph/juniorhighschool/partners/\n",
      "https://usjr.edu.ph/2020/08/01/usj-r-to-use-a-new-intl-educational-platform-for-online-learning/\n",
      "https://usjr.edu.ph/2019/12/02/josenian-debatistas-named-champions-at-5th-vubp-tournament/\n",
      "https://usjr.edu.ph/2019/09/23/commerce-dominates-2019-university-days-board-game-competitions/\n",
      "https://usjr.edu.ph/2019/10/18/greenest-man-planet-speaks-josenians-living-green/\n",
      "https://usjr.edu.ph/2019/07/03/filing-renewal-parking-agreement-guide/\n",
      "https://usjr.edu.ph/2019/07/10/six-josenians-return-summer-internship-japan/\n",
      "http://beta.usjr.edu.ph/seniorhighschool\n",
      "https://usjr.edu.ph/seniorhighschool/track/academic/\n",
      "http://beta.usjr.edu.ph/seniorhighschool/tracks/tech-voc-livelihood-track/\n",
      "https://usjr.edu.ph/seniorhighschool/track/academic/abm/\n",
      "https://usjr.edu.ph/seniorhighschool/track/academic/stem/\n",
      "https://usjr.edu.ph/seniorhighschool/track/academic/humss/\n",
      "https://usjr.edu.ph/seniorhighschool/track/academic/gas/\n",
      "https://usjr.edu.ph/seniorhighschool/track/tech-voc-livelihood/\n",
      "https://usjr.edu.ph/seniorhighschool/track/tech-voc-livelihood/ict/\n",
      "https://usjr.edu.ph/seniorhighschool/track/tech-voc-livelihood/he/\n",
      "https://usjr.edu.ph/seniorhighschool/partners/\n",
      "https://usjr.edu.ph/2022/08/24/orientation-on-new-normal-protocols-takes-off/\n",
      "https://usjr.edu.ph/2017/07/22/shs-publication-releases-first-magazine/\n",
      "https://usjr.edu.ph/2022/06/27/usj-r-releases-list-of-college-graduates-to-be-recognized-on-the-first-f2f-graduation-since-the-pandemic-started/\n",
      "https://usjr.edu.ph/2019/02/11/usj-r-jpia-academic-congress/\n",
      "https://usjr.edu.ph/2020/10/07/university-bares-second-list-of-senior-high-grads-for-ay-2019-2020/\n",
      "https://usjr.edu.ph/2020/11/04/usj-r-publishes-list-of-senior-high-awardees-for-ay-2019-2020/2/\n",
      "https://usjr.edu.ph/2018/08/31/gnea/\n",
      "https://usjr.edu.ph/2017/11/18/usj-r-inaugurates-shs-building-dedicated-la-salud/\n",
      "https://usjr.edu.ph/2020/08/23/taiwan-based-university-grants-full-scholarship-to-two-josenian-it-grads/\n",
      "https://usjr.edu.ph/2020/01/11/esd-center/\n",
      "https://usjr.edu.ph/rittc/programs/assessment/\n",
      "https://usjr.edu.ph/rittc/about/\n",
      "https://usjr.edu.ph/rittc/partners/\n",
      "http://beta.usjr.edu.ph/rittc/\n",
      "http://beta.usjr.edu.ph/rittc/about/\n",
      "http://beta.usjr.edu.ph/rittc/programs/\n",
      "http://beta.usjr.edu.ph/rittc/faculty-and-staff/\n",
      "http://beta.usjr.edu.ph/rittc/partners/\n",
      "http://beta.usjr.edu.ph/rittc/events/\n",
      "https://usjr.edu.ph/tag/outreach/\n",
      "https://usjr.edu.ph/tag/partnership/\n",
      "https://usjr.edu.ph/2018/07/10/royal-institution-singapore-grants-international-certification-rittc-grads/\n",
      "https://usjr.edu.ph/tag/international-certificate/\n",
      "https://usjr.edu.ph/tag/ri-singapore/\n",
      "https://usjr.edu.ph/tag/rittc/\n",
      "https://usjr.edu.ph/tag/royal-institution-singapore/\n",
      "https://usjr.edu.ph/2017/11/28/rittc-grads-get-international-certification-singapore/\n",
      "https://usjr.edu.ph/tag/certification/\n",
      "https://usjr.edu.ph/tag/international/\n",
      "https://usjr.edu.ph/2016/04/29/usj-r-signs-pact-with-montebello-hotel-for-ojt-program/\n",
      "http://beta.usjr.edu.ph/student-life/\n",
      "https://usjr.edu.ph/student-life/student-services/student-counseling/\n",
      "https://usjr.edu.ph/student-life/student-services/student-health/\n",
      "https://usjr.edu.ph/student-life/student-services/career-collaborative/\n",
      "https://usjr.edu.ph/student-life/student-services/student-data-processing-and-payments/\n",
      "https://usjr.edu.ph/student-life/student-services/school-supplies/\n",
      "https://usjr.edu.ph/student-life/student-services/photo-and-documentations/\n",
      "https://usjr.edu.ph/student-life/student-services/academic-support-services/\n",
      "https://usjr.edu.ph/student-life/student-activities/athletics/\n",
      "https://usjr.edu.ph/student-life/student-activities/clubs-and-organizations/\n",
      "https://usjr.edu.ph/student-life/student-activities/community-involvement/\n",
      "https://usjr.edu.ph/student-life/student-activities/ssc/\n",
      "https://usjr.edu.ph/student-life/student-activities/media-publications/\n",
      "https://usjr.edu.ph/student-life/student-activities/faith/\n",
      "https://usjr.edu.ph/student-life/student-activities/civic-education-and-training/\n",
      "https://usjr.edu.ph/student-life/student-activities/army-rotc/\n"
     ]
    },
    {
     "name": "stdout",
     "output_type": "stream",
     "text": [
      "https://usjr.edu.ph/2022/02/17/usj-r-launches-a-book-documenting-400-years-of-recollect-missionary-presence-in-cebu/\n",
      "https://usjr.edu.ph/tag/1621/\n",
      "https://usjr.edu.ph/tag/400/\n",
      "https://usjr.edu.ph/tag/book/\n",
      "https://usjr.edu.ph/tag/lazada/\n",
      "https://usjr.edu.ph/tag/recoletos/\n",
      "https://usjr.edu.ph/tag/recollects/\n",
      "https://usjr.edu.ph/tag/years/\n",
      "https://usjr.edu.ph/tag/2022/\n",
      "https://usjr.edu.ph/tag/bar/\n",
      "https://usjr.edu.ph/tag/digital/\n",
      "https://usjr.edu.ph/tag/exam/\n",
      "https://usjr.edu.ph/tag/localized/\n",
      "https://usjr.edu.ph/tag/regionalized/\n",
      "https://usjr.edu.ph/tag/bar-exam/\n",
      "https://usjr.edu.ph/tag/best-bar-ever/\n",
      "https://usjr.edu.ph/tag/law/\n",
      "https://usjr.edu.ph/tag/regional/\n",
      "https://usjr.edu.ph/tag/venue/\n",
      "https://usjr.edu.ph/tag/visayas/\n",
      "https://usjr.edu.ph/tag/gomez/\n",
      "https://usjr.edu.ph/tag/miss-universe/\n",
      "https://usjr.edu.ph/tag/2021/\n",
      "https://usjr.edu.ph/tag/office-hours/\n",
      "https://usjr.edu.ph/tag/pandemic/\n",
      "https://usjr.edu.ph/tag/award/\n",
      "https://usjr.edu.ph/tag/usj-r/\n",
      "https://usjr.edu.ph/tag/robotics/\n",
      "https://usjr.edu.ph/tag/cebu/page/2/\n",
      "https://usjr.edu.ph/tag/asynchronous/\n",
      "https://usjr.edu.ph/tag/memo/\n",
      "https://usjr.edu.ph/tag/2nd-sem/\n",
      "https://usjr.edu.ph/tag/graduates/\n",
      "https://usjr.edu.ph/tag/list/\n",
      "https://usjr.edu.ph/tag/elementary/\n",
      "https://usjr.edu.ph/tag/online-class/\n",
      "https://usjr.edu.ph/tag/primer/\n",
      "https://usjr.edu.ph/tag/gradeschool/\n",
      "https://usjr.edu.ph/tag/playground/\n",
      "https://usjr.edu.ph/tag/administrators/\n",
      "https://usjr.edu.ph/tag/new-admin/\n",
      "https://usjr.edu.ph/tag/buwan-ng-wika/\n",
      "https://usjr.edu.ph/tag/senior-high/\n",
      "https://usjr.edu.ph/tag/national-university-of-singapore/\n",
      "https://usjr.edu.ph/2016/09/07/usj-r-library-staff-visited-libraries/img_4468/\n",
      "https://usjr.edu.ph/2016/09/07/usj-r-library-staff-visited-libraries/img_4508/\n",
      "https://usjr.edu.ph/2016/09/07/usj-r-library-staff-visited-libraries/img_4513/\n",
      "https://usjr.edu.ph/2016/09/07/usj-r-library-staff-visited-libraries/img_4524/\n",
      "https://usjr.edu.ph/2016/09/07/usj-r-library-staff-visited-libraries/img_4530/\n",
      "https://usjr.edu.ph/2016/09/07/usj-r-library-staff-visited-libraries/img_4534/\n",
      "https://usjr.edu.ph/2016/09/07/usj-r-library-staff-visited-libraries/img_4564/\n",
      "https://usjr.edu.ph/2016/09/07/usj-r-library-staff-visited-libraries/img_4567/\n",
      "https://usjr.edu.ph/2016/09/07/usj-r-library-staff-visited-libraries/img_4333/\n",
      "https://usjr.edu.ph/2016/09/07/usj-r-library-staff-visited-libraries/img_4343/\n",
      "https://usjr.edu.ph/2016/09/07/usj-r-library-staff-visited-libraries/img_4419/\n",
      "https://usjr.edu.ph/2016/09/07/usj-r-library-staff-visited-libraries/img_4423/\n",
      "https://usjr.edu.ph/2016/09/07/usj-r-library-staff-visited-libraries/img_4431/\n",
      "https://usjr.edu.ph/2016/09/07/usj-r-library-staff-visited-libraries/img_4437/\n",
      "https://usjr.edu.ph/2016/09/07/usj-r-library-staff-visited-libraries/img_4444/\n",
      "https://usjr.edu.ph/2016/09/07/usj-r-library-staff-visited-libraries/img_4454/\n",
      "https://usjr.edu.ph/2016/09/07/usj-r-library-staff-visited-libraries/img_4455/\n",
      "https://usjr.edu.ph/2016/09/07/usj-r-library-staff-visited-libraries/img_4462/\n",
      "https://usjr.edu.ph/2016/09/07/campus-book-fair-16-a-success/\n",
      "https://usjr.edu.ph/2016/01/19/library-staff-development-through-echo-seminar/\n",
      "https://usjr.edu.ph/sdpc/services/\n",
      "http://ezproxy.usjr.edu.ph:2048/login\n",
      "https://usjr.edu.ph/library\n",
      "https://usjr.edu.ph/wp-content/uploads/2021/11/1-1024x682.jpg\n"
     ]
    },
    {
     "name": "stderr",
     "output_type": "stream",
     "text": [
      "Some characters could not be decoded, and were replaced with REPLACEMENT CHARACTER.\n"
     ]
    },
    {
     "name": "stdout",
     "output_type": "stream",
     "text": [
      "https://usjr.edu.ph/wp-content/uploads/2021/11/2-1024x682.jpg\n"
     ]
    },
    {
     "name": "stderr",
     "output_type": "stream",
     "text": [
      "Some characters could not be decoded, and were replaced with REPLACEMENT CHARACTER.\n"
     ]
    },
    {
     "name": "stdout",
     "output_type": "stream",
     "text": [
      "https://usjr.edu.ph/wp-content/uploads/2021/11/3-1024x682.jpg\n"
     ]
    },
    {
     "name": "stderr",
     "output_type": "stream",
     "text": [
      "Some characters could not be decoded, and were replaced with REPLACEMENT CHARACTER.\n"
     ]
    },
    {
     "name": "stdout",
     "output_type": "stream",
     "text": [
      "https://usjr.edu.ph/wp-content/uploads/2021/11/a1-1024x682.jpg\n"
     ]
    },
    {
     "name": "stderr",
     "output_type": "stream",
     "text": [
      "Some characters could not be decoded, and were replaced with REPLACEMENT CHARACTER.\n"
     ]
    },
    {
     "name": "stdout",
     "output_type": "stream",
     "text": [
      "https://usjr.edu.ph/wp-content/uploads/2021/11/a2-1024x682.jpg\n"
     ]
    },
    {
     "name": "stderr",
     "output_type": "stream",
     "text": [
      "Some characters could not be decoded, and were replaced with REPLACEMENT CHARACTER.\n"
     ]
    },
    {
     "name": "stdout",
     "output_type": "stream",
     "text": [
      "https://usjr.edu.ph/wp-content/uploads/2021/11/b2.jpg\n"
     ]
    },
    {
     "name": "stderr",
     "output_type": "stream",
     "text": [
      "Some characters could not be decoded, and were replaced with REPLACEMENT CHARACTER.\n"
     ]
    },
    {
     "name": "stdout",
     "output_type": "stream",
     "text": [
      "https://usjr.edu.ph/wp-content/uploads/2021/11/b1-1024x682.jpg\n"
     ]
    },
    {
     "name": "stderr",
     "output_type": "stream",
     "text": [
      "Some characters could not be decoded, and were replaced with REPLACEMENT CHARACTER.\n"
     ]
    },
    {
     "name": "stdout",
     "output_type": "stream",
     "text": [
      "https://usjr.edu.ph/wp-content/uploads/2021/11/c1.jpg\n"
     ]
    },
    {
     "name": "stderr",
     "output_type": "stream",
     "text": [
      "Some characters could not be decoded, and were replaced with REPLACEMENT CHARACTER.\n"
     ]
    },
    {
     "name": "stdout",
     "output_type": "stream",
     "text": [
      "https://usjr.edu.ph/wp-content/uploads/2021/11/d1edited-682x1024.jpg\n"
     ]
    },
    {
     "name": "stderr",
     "output_type": "stream",
     "text": [
      "Some characters could not be decoded, and were replaced with REPLACEMENT CHARACTER.\n"
     ]
    },
    {
     "name": "stdout",
     "output_type": "stream",
     "text": [
      "https://usjr.edu.ph/wp-content/uploads/2021/11/d2edited-682x1024.jpg\n"
     ]
    },
    {
     "name": "stderr",
     "output_type": "stream",
     "text": [
      "Some characters could not be decoded, and were replaced with REPLACEMENT CHARACTER.\n"
     ]
    },
    {
     "name": "stdout",
     "output_type": "stream",
     "text": [
      "https://usjr.edu.ph/wp-content/uploads/2021/11/d3edited-682x1024.jpg\n"
     ]
    },
    {
     "name": "stderr",
     "output_type": "stream",
     "text": [
      "Some characters could not be decoded, and were replaced with REPLACEMENT CHARACTER.\n"
     ]
    },
    {
     "name": "stdout",
     "output_type": "stream",
     "text": [
      "https://usjr.edu.ph/wp-content/uploads/2021/11/d4edited-682x1024.jpg\n"
     ]
    },
    {
     "name": "stderr",
     "output_type": "stream",
     "text": [
      "Some characters could not be decoded, and were replaced with REPLACEMENT CHARACTER.\n"
     ]
    },
    {
     "name": "stdout",
     "output_type": "stream",
     "text": [
      "https://usjr.edu.ph/wp-content/uploads/2021/11/e1-1024x683.jpg\n"
     ]
    },
    {
     "name": "stderr",
     "output_type": "stream",
     "text": [
      "Some characters could not be decoded, and were replaced with REPLACEMENT CHARACTER.\n"
     ]
    },
    {
     "name": "stdout",
     "output_type": "stream",
     "text": [
      "https://usjr.edu.ph/wp-content/uploads/2021/11/e2-1024x685.jpg\n"
     ]
    },
    {
     "name": "stderr",
     "output_type": "stream",
     "text": [
      "Some characters could not be decoded, and were replaced with REPLACEMENT CHARACTER.\n"
     ]
    },
    {
     "name": "stdout",
     "output_type": "stream",
     "text": [
      "https://usjr.edu.ph/wp-content/uploads/2021/11/f1-1024x737.jpg\n"
     ]
    },
    {
     "name": "stderr",
     "output_type": "stream",
     "text": [
      "Some characters could not be decoded, and were replaced with REPLACEMENT CHARACTER.\n"
     ]
    },
    {
     "name": "stdout",
     "output_type": "stream",
     "text": [
      "https://usjr.edu.ph/wp-content/uploads/2021/11/g1-1024x682.jpg\n"
     ]
    },
    {
     "name": "stderr",
     "output_type": "stream",
     "text": [
      "Some characters could not be decoded, and were replaced with REPLACEMENT CHARACTER.\n"
     ]
    },
    {
     "name": "stdout",
     "output_type": "stream",
     "text": [
      "https://usjr.edu.ph/wp-content/uploads/2021/11/g2-1024x723.jpg\n"
     ]
    },
    {
     "name": "stderr",
     "output_type": "stream",
     "text": [
      "Some characters could not be decoded, and were replaced with REPLACEMENT CHARACTER.\n"
     ]
    },
    {
     "name": "stdout",
     "output_type": "stream",
     "text": [
      "https://usjr.edu.ph/wp-content/uploads/2021/11/salvoedited-1024x680.jpg\n"
     ]
    },
    {
     "name": "stderr",
     "output_type": "stream",
     "text": [
      "Some characters could not be decoded, and were replaced with REPLACEMENT CHARACTER.\n"
     ]
    },
    {
     "name": "stdout",
     "output_type": "stream",
     "text": [
      "https://usjr.edu.ph/wp-content/uploads/2021/11/nutritionedited-1024x683.jpg\n"
     ]
    },
    {
     "name": "stderr",
     "output_type": "stream",
     "text": [
      "Some characters could not be decoded, and were replaced with REPLACEMENT CHARACTER.\n"
     ]
    },
    {
     "name": "stdout",
     "output_type": "stream",
     "text": [
      "https://usjr.edu.ph/wp-content/uploads/2021/11/buwan-1024x677.jpg\n"
     ]
    },
    {
     "name": "stderr",
     "output_type": "stream",
     "text": [
      "Some characters could not be decoded, and were replaced with REPLACEMENT CHARACTER.\n"
     ]
    },
    {
     "name": "stdout",
     "output_type": "stream",
     "text": [
      "https://usjr.edu.ph/wp-content/uploads/2021/11/buwan5-1024x677.jpg\n"
     ]
    },
    {
     "name": "stderr",
     "output_type": "stream",
     "text": [
      "Some characters could not be decoded, and were replaced with REPLACEMENT CHARACTER.\n"
     ]
    },
    {
     "name": "stdout",
     "output_type": "stream",
     "text": [
      "https://usjr.edu.ph/wp-content/uploads/2021/11/buwan4-1024x677.jpg\n"
     ]
    },
    {
     "name": "stderr",
     "output_type": "stream",
     "text": [
      "Some characters could not be decoded, and were replaced with REPLACEMENT CHARACTER.\n"
     ]
    },
    {
     "name": "stdout",
     "output_type": "stream",
     "text": [
      "https://usjr.edu.ph/wp-content/uploads/2021/11/buwan3-1024x677.jpg\n"
     ]
    },
    {
     "name": "stderr",
     "output_type": "stream",
     "text": [
      "Some characters could not be decoded, and were replaced with REPLACEMENT CHARACTER.\n"
     ]
    },
    {
     "name": "stdout",
     "output_type": "stream",
     "text": [
      "https://usjr.edu.ph/wp-content/uploads/2021/11/buwan2-1024x677.jpg\n"
     ]
    },
    {
     "name": "stderr",
     "output_type": "stream",
     "text": [
      "Some characters could not be decoded, and were replaced with REPLACEMENT CHARACTER.\n"
     ]
    },
    {
     "name": "stdout",
     "output_type": "stream",
     "text": [
      "https://usjr.edu.ph/wp-content/uploads/2022/10/osalvo2-1024x680.jpg\n"
     ]
    },
    {
     "name": "stderr",
     "output_type": "stream",
     "text": [
      "Some characters could not be decoded, and were replaced with REPLACEMENT CHARACTER.\n"
     ]
    },
    {
     "name": "stdout",
     "output_type": "stream",
     "text": [
      "https://usjr.edu.ph/wp-content/uploads/2022/10/osalvo4-1024x680.jpg\n"
     ]
    },
    {
     "name": "stderr",
     "output_type": "stream",
     "text": [
      "Some characters could not be decoded, and were replaced with REPLACEMENT CHARACTER.\n"
     ]
    },
    {
     "name": "stdout",
     "output_type": "stream",
     "text": [
      "https://usjr.edu.ph/wp-content/uploads/2022/10/osalvo-1024x680.jpg\n"
     ]
    },
    {
     "name": "stderr",
     "output_type": "stream",
     "text": [
      "Some characters could not be decoded, and were replaced with REPLACEMENT CHARACTER.\n"
     ]
    },
    {
     "name": "stdout",
     "output_type": "stream",
     "text": [
      "https://usjr.edu.ph/wp-content/uploads/2022/10/osalvo3-1024x680.jpg\n"
     ]
    },
    {
     "name": "stderr",
     "output_type": "stream",
     "text": [
      "Some characters could not be decoded, and were replaced with REPLACEMENT CHARACTER.\n"
     ]
    },
    {
     "name": "stdout",
     "output_type": "stream",
     "text": [
      "https://usjr.edu.ph/wp-content/uploads/2022/10/osalvo8-1024x680.jpg\n"
     ]
    },
    {
     "name": "stderr",
     "output_type": "stream",
     "text": [
      "Some characters could not be decoded, and were replaced with REPLACEMENT CHARACTER.\n"
     ]
    },
    {
     "name": "stdout",
     "output_type": "stream",
     "text": [
      "https://usjr.edu.ph/wp-content/uploads/2022/10/osalvo5-1024x680.jpg\n"
     ]
    },
    {
     "name": "stderr",
     "output_type": "stream",
     "text": [
      "Some characters could not be decoded, and were replaced with REPLACEMENT CHARACTER.\n"
     ]
    },
    {
     "name": "stdout",
     "output_type": "stream",
     "text": [
      "https://usjr.edu.ph/wp-content/uploads/2022/10/osalvo6-1024x680.jpg\n"
     ]
    },
    {
     "name": "stderr",
     "output_type": "stream",
     "text": [
      "Some characters could not be decoded, and were replaced with REPLACEMENT CHARACTER.\n"
     ]
    },
    {
     "name": "stdout",
     "output_type": "stream",
     "text": [
      "https://usjr.edu.ph/wp-content/uploads/2022/10/osalvo10-1024x680.jpg\n"
     ]
    },
    {
     "name": "stderr",
     "output_type": "stream",
     "text": [
      "Some characters could not be decoded, and were replaced with REPLACEMENT CHARACTER.\n"
     ]
    },
    {
     "name": "stdout",
     "output_type": "stream",
     "text": [
      "https://usjr.edu.ph/wp-content/uploads/2022/10/osalvo7-1024x680.jpg\n"
     ]
    },
    {
     "name": "stderr",
     "output_type": "stream",
     "text": [
      "Some characters could not be decoded, and were replaced with REPLACEMENT CHARACTER.\n"
     ]
    },
    {
     "name": "stdout",
     "output_type": "stream",
     "text": [
      "https://usjr.edu.ph/wp-content/uploads/2022/10/osalvo9-1024x680.jpg\n"
     ]
    },
    {
     "name": "stderr",
     "output_type": "stream",
     "text": [
      "Some characters could not be decoded, and were replaced with REPLACEMENT CHARACTER.\n"
     ]
    },
    {
     "name": "stdout",
     "output_type": "stream",
     "text": [
      "https://usjr.edu.ph/wp-content/uploads/2022/10/himamat7-1024x680.jpg\n"
     ]
    },
    {
     "name": "stderr",
     "output_type": "stream",
     "text": [
      "Some characters could not be decoded, and were replaced with REPLACEMENT CHARACTER.\n"
     ]
    },
    {
     "name": "stdout",
     "output_type": "stream",
     "text": [
      "https://usjr.edu.ph/wp-content/uploads/2022/10/himamat5-1024x680.jpg\n"
     ]
    },
    {
     "name": "stderr",
     "output_type": "stream",
     "text": [
      "Some characters could not be decoded, and were replaced with REPLACEMENT CHARACTER.\n"
     ]
    },
    {
     "name": "stdout",
     "output_type": "stream",
     "text": [
      "https://usjr.edu.ph/wp-content/uploads/2022/10/himamat6-1024x680.jpg\n"
     ]
    },
    {
     "name": "stderr",
     "output_type": "stream",
     "text": [
      "Some characters could not be decoded, and were replaced with REPLACEMENT CHARACTER.\n"
     ]
    },
    {
     "name": "stdout",
     "output_type": "stream",
     "text": [
      "https://usjr.edu.ph/wp-content/uploads/2022/10/himamat1-1024x680.jpg\n"
     ]
    },
    {
     "name": "stderr",
     "output_type": "stream",
     "text": [
      "Some characters could not be decoded, and were replaced with REPLACEMENT CHARACTER.\n"
     ]
    },
    {
     "name": "stdout",
     "output_type": "stream",
     "text": [
      "https://usjr.edu.ph/wp-content/uploads/2022/10/himamat2-1024x680.jpg\n"
     ]
    },
    {
     "name": "stderr",
     "output_type": "stream",
     "text": [
      "Some characters could not be decoded, and were replaced with REPLACEMENT CHARACTER.\n"
     ]
    },
    {
     "name": "stdout",
     "output_type": "stream",
     "text": [
      "https://usjr.edu.ph/wp-content/uploads/2022/10/himamat3-1024x680.jpg\n"
     ]
    },
    {
     "name": "stderr",
     "output_type": "stream",
     "text": [
      "Some characters could not be decoded, and were replaced with REPLACEMENT CHARACTER.\n"
     ]
    },
    {
     "name": "stdout",
     "output_type": "stream",
     "text": [
      "https://usjr.edu.ph/wp-content/uploads/2022/10/himamat4-1024x680.jpg\n"
     ]
    },
    {
     "name": "stderr",
     "output_type": "stream",
     "text": [
      "Some characters could not be decoded, and were replaced with REPLACEMENT CHARACTER.\n"
     ]
    },
    {
     "name": "stdout",
     "output_type": "stream",
     "text": [
      "https://usjr.edu.ph/wp-content/uploads/2021/11/intrams-1024x680.jpg\n"
     ]
    },
    {
     "name": "stderr",
     "output_type": "stream",
     "text": [
      "Some characters could not be decoded, and were replaced with REPLACEMENT CHARACTER.\n"
     ]
    },
    {
     "name": "stdout",
     "output_type": "stream",
     "text": [
      "https://usjr.edu.ph/wp-content/uploads/2021/11/intrams2-1024x680.jpg\n"
     ]
    },
    {
     "name": "stderr",
     "output_type": "stream",
     "text": [
      "Some characters could not be decoded, and were replaced with REPLACEMENT CHARACTER.\n"
     ]
    },
    {
     "name": "stdout",
     "output_type": "stream",
     "text": [
      "https://usjr.edu.ph/wp-content/uploads/2021/11/cat-1024x680.jpg\n"
     ]
    },
    {
     "name": "stderr",
     "output_type": "stream",
     "text": [
      "Some characters could not be decoded, and were replaced with REPLACEMENT CHARACTER.\n"
     ]
    },
    {
     "name": "stdout",
     "output_type": "stream",
     "text": [
      "https://usjr.edu.ph/wp-content/uploads/2021/11/scouting-1024x680.jpg\n"
     ]
    },
    {
     "name": "stderr",
     "output_type": "stream",
     "text": [
      "Some characters could not be decoded, and were replaced with REPLACEMENT CHARACTER.\n"
     ]
    },
    {
     "name": "stdout",
     "output_type": "stream",
     "text": [
      "https://usjr.edu.ph/wp-content/uploads/2021/11/pasko-1024x680.jpg\n"
     ]
    },
    {
     "name": "stderr",
     "output_type": "stream",
     "text": [
      "Some characters could not be decoded, and were replaced with REPLACEMENT CHARACTER.\n"
     ]
    },
    {
     "name": "stdout",
     "output_type": "stream",
     "text": [
      "https://usjr.edu.ph/wp-content/uploads/2021/11/pasko2-1024x680.jpg\n"
     ]
    },
    {
     "name": "stderr",
     "output_type": "stream",
     "text": [
      "Some characters could not be decoded, and were replaced with REPLACEMENT CHARACTER.\n"
     ]
    },
    {
     "name": "stdout",
     "output_type": "stream",
     "text": [
      "https://usjr.edu.ph/wp-content/uploads/2021/11/pasko3-1024x680.jpg\n"
     ]
    },
    {
     "name": "stderr",
     "output_type": "stream",
     "text": [
      "Some characters could not be decoded, and were replaced with REPLACEMENT CHARACTER.\n"
     ]
    },
    {
     "name": "stdout",
     "output_type": "stream",
     "text": [
      "https://usjr.edu.ph/wp-content/uploads/2021/11/pasko4-1024x680.jpg\n"
     ]
    },
    {
     "name": "stderr",
     "output_type": "stream",
     "text": [
      "Some characters could not be decoded, and were replaced with REPLACEMENT CHARACTER.\n"
     ]
    },
    {
     "name": "stdout",
     "output_type": "stream",
     "text": [
      "https://usjr.edu.ph/wp-content/uploads/2021/11/pasko5-1024x680.jpg\n"
     ]
    },
    {
     "name": "stderr",
     "output_type": "stream",
     "text": [
      "Some characters could not be decoded, and were replaced with REPLACEMENT CHARACTER.\n"
     ]
    },
    {
     "name": "stdout",
     "output_type": "stream",
     "text": [
      "https://usjr.edu.ph/wp-content/uploads/2021/11/pasko6-1024x680.jpg\n"
     ]
    },
    {
     "name": "stderr",
     "output_type": "stream",
     "text": [
      "Some characters could not be decoded, and were replaced with REPLACEMENT CHARACTER.\n"
     ]
    },
    {
     "name": "stdout",
     "output_type": "stream",
     "text": [
      "https://usjr.edu.ph/wp-content/uploads/2022/07/10-1024x517.png\n"
     ]
    },
    {
     "name": "stderr",
     "output_type": "stream",
     "text": [
      "Some characters could not be decoded, and were replaced with REPLACEMENT CHARACTER.\n"
     ]
    },
    {
     "name": "stdout",
     "output_type": "stream",
     "text": [
      "https://usjr.edu.ph/wp-content/uploads/2022/07/2-1-1024x680.jpg\n"
     ]
    },
    {
     "name": "stderr",
     "output_type": "stream",
     "text": [
      "Some characters could not be decoded, and were replaced with REPLACEMENT CHARACTER.\n"
     ]
    },
    {
     "name": "stdout",
     "output_type": "stream",
     "text": [
      "https://usjr.edu.ph/wp-content/uploads/2022/07/3-1-1024x680.jpg\n"
     ]
    },
    {
     "name": "stderr",
     "output_type": "stream",
     "text": [
      "Some characters could not be decoded, and were replaced with REPLACEMENT CHARACTER.\n"
     ]
    },
    {
     "name": "stdout",
     "output_type": "stream",
     "text": [
      "https://usjr.edu.ph/wp-content/uploads/2022/07/4-1024x680.jpg\n"
     ]
    },
    {
     "name": "stderr",
     "output_type": "stream",
     "text": [
      "Some characters could not be decoded, and were replaced with REPLACEMENT CHARACTER.\n"
     ]
    },
    {
     "name": "stdout",
     "output_type": "stream",
     "text": [
      "https://usjr.edu.ph/wp-content/uploads/2022/07/5-1024x680.jpg\n"
     ]
    },
    {
     "name": "stderr",
     "output_type": "stream",
     "text": [
      "Some characters could not be decoded, and were replaced with REPLACEMENT CHARACTER.\n"
     ]
    },
    {
     "name": "stdout",
     "output_type": "stream",
     "text": [
      "https://usjr.edu.ph/wp-content/uploads/2022/07/6-1024x678.jpg\n"
     ]
    },
    {
     "name": "stderr",
     "output_type": "stream",
     "text": [
      "Some characters could not be decoded, and were replaced with REPLACEMENT CHARACTER.\n"
     ]
    },
    {
     "name": "stdout",
     "output_type": "stream",
     "text": [
      "https://usjr.edu.ph/wp-content/uploads/2022/07/7-1024x678.jpg\n"
     ]
    },
    {
     "name": "stderr",
     "output_type": "stream",
     "text": [
      "Some characters could not be decoded, and were replaced with REPLACEMENT CHARACTER.\n"
     ]
    },
    {
     "name": "stdout",
     "output_type": "stream",
     "text": [
      "https://usjr.edu.ph/wp-content/uploads/2022/07/9-1024x678.jpg\n"
     ]
    },
    {
     "name": "stderr",
     "output_type": "stream",
     "text": [
      "Some characters could not be decoded, and were replaced with REPLACEMENT CHARACTER.\n"
     ]
    },
    {
     "name": "stdout",
     "output_type": "stream",
     "text": [
      "https://usjr.edu.ph/wp-content/uploads/2022/07/8-1024x680.jpg\n"
     ]
    },
    {
     "name": "stderr",
     "output_type": "stream",
     "text": [
      "Some characters could not be decoded, and were replaced with REPLACEMENT CHARACTER.\n"
     ]
    },
    {
     "name": "stdout",
     "output_type": "stream",
     "text": [
      "https://usjr.edu.ph/wp-content/uploads/2022/07/12-1024x521.png\n"
     ]
    },
    {
     "name": "stderr",
     "output_type": "stream",
     "text": [
      "Some characters could not be decoded, and were replaced with REPLACEMENT CHARACTER.\n"
     ]
    },
    {
     "name": "stdout",
     "output_type": "stream",
     "text": [
      "https://usjr.edu.ph/wp-content/uploads/2022/07/11-1024x544.png\n"
     ]
    },
    {
     "name": "stderr",
     "output_type": "stream",
     "text": [
      "Some characters could not be decoded, and were replaced with REPLACEMENT CHARACTER.\n"
     ]
    },
    {
     "name": "stdout",
     "output_type": "stream",
     "text": [
      "https://usjr.edu.ph/tag/sinulog/\n",
      "https://usjr.edu.ph/tag/admission-test/\n",
      "https://usjr.edu.ph/tag/admissions/\n",
      "https://usjr.edu.ph/tag/entrance-exam/\n",
      "https://usjr.edu.ph/tag/jcat/\n",
      "https://usjr.edu.ph/tag/awardees/\n",
      "https://usjr.edu.ph/tag/batch-2020/\n",
      "https://usjr.edu.ph/tag/daycare-teacher/\n",
      "https://usjr.edu.ph/tag/special-education/\n",
      "https://usjr.edu.ph/tag/coe/\n",
      "https://usjr.edu.ph/tag/esd/\n",
      "https://usjr.edu.ph/tag/sdg/\n",
      "https://usjr.edu.ph/tag/unesco/\n",
      "https://usjr.edu.ph/tag/united-nations/\n",
      "https://usjr.edu.ph/tag/josenian-leaders/\n",
      "https://usjr.edu.ph/tag/abroad/\n",
      "https://usjr.edu.ph/tag/internship/\n",
      "https://usjr.edu.ph/2022/09/08/oar-installs-new-president-for-usj-r/\n",
      "https://usjr.edu.ph/2018/07/11/usj-r-holds-first-international-conference-methodological-advances-research/\n",
      "https://usjr.edu.ph/2022/06/06/usj-r-to-conduct-f2f-ceremony-for-ay-2021-2022-college-graduates-on-july-2/\n",
      "https://usjr.edu.ph/tag/f2f/\n",
      "https://usjr.edu.ph/tag/f2f-graduation/\n",
      "https://usjr.edu.ph/tag/guidelines/\n",
      "https://usjr.edu.ph/tag/class/\n",
      "https://usjr.edu.ph/tag/gate/\n",
      "https://usjr.edu.ph/tag/graduation/\n",
      "https://usjr.edu.ph/tag/best-in-podium-presentation/\n",
      "https://usjr.edu.ph/tag/nursing/\n",
      "https://usjr.edu.ph/tag/recoletos-research-congress/\n",
      "https://usjr.edu.ph/tag/shs/\n",
      "https://usjr.edu.ph/tag/research-journal/\n",
      "https://rmrj.usjr.edu.ph/rmrj/index.php/RMRJ/article/view/1229\n",
      "https://rmrj.usjr.edu.ph\n",
      "https://rmrj.usjr.edu.ph/rmrj/index.php/RMRJ/about\n",
      "https://rmrj.usjr.edu.ph/rmrj/index.php/RMRJ/about/editorialTeam\n",
      "https://rmrj.usjr.edu.ph/rmrj/index.php/RMRJ/author_guidelines\n",
      "https://rmrj.usjr.edu.ph/rmrj/index.php/RMRJ/Pub_Ethics\n",
      "https://rmrj.usjr.edu.ph/rmrj/index.php/RMRJ/Copyright_Policy\n",
      "https://rmrj.usjr.edu.ph/rmrj/index.php/RMRJ/about/submissions\n",
      "https://rmrj.usjr.edu.ph/rmrj/index.php/RMRJ/about/contact\n",
      "https://rmrj.usjr.edu.ph/rmrj/index.php/RMRJ/issue/view/32\n",
      "https://rmrj.usjr.edu.ph/rmrj/index.php/RMRJ/issue/archive\n",
      "https://rmrj.usjr.edu.ph/rmrj/index.php/RMRJ/announcement\n",
      "https://rmrj.usjr.edu.ph/rmrj/index.php/RMRJ/user/register\n",
      "https://rmrj.usjr.edu.ph/rmrj/index.php/RMRJ/login\n",
      "https://rmrj.usjr.edu.ph/rmrj/index.php/RMRJ/announcement/view/17\n",
      "https://rmrj.usjr.edu.ph/index.php/category/slider/\n",
      "https://rmrj.usjr.edu.ph/index.php/author/admin/\n",
      "https://rmrj.usjr.edu.ph/rmrj/index.php/RMRJ/issue/view/31\n",
      "https://rmrj.usjr.edu.ph/index.php/2022/08/31/scopus-acceptance/\n",
      "https://rmrj.usjr.edu.ph/index.php/2019/10/02/a-brief-auhtors-guide-to-article-submission/\n",
      "https://rmrj.usjr.edu.ph/rmrj/index.php/RMRJ/article/view/1328\n",
      "https://rmrj.usjr.edu.ph/index.php/category/current/\n",
      "https://rmrj.usjr.edu.ph/rmrj/index.php/RMRJ/article/view/1351\n",
      "https://rmrj.usjr.edu.ph/rmrj/index.php/RMRJ/article/view/1413\n",
      "https://rmrj.usjr.edu.ph/rmrj/index.php/RMRJ/issue/view/30\n",
      "https://rmrj.usjr.edu.ph/index.php/category/archive/\n",
      "https://rmrj.usjr.edu.ph/rmrj/index.php/RMRJ/issue/view/29\n",
      "https://rmrj.usjr.edu.ph/rmrj/index.php/RMRJ/issue/view/28\n",
      "https://rmrj.usjr.edu.ph/rmrj/index.php/RMRJ/issue/view/27\n",
      "https://rmrj.usjr.edu.ph/wp-content/uploads/2022/07/A-Brief-Authors-Guide-to-Article-Submission-1.mp4\n"
     ]
    },
    {
     "name": "stderr",
     "output_type": "stream",
     "text": [
      "Some characters could not be decoded, and were replaced with REPLACEMENT CHARACTER.\n"
     ]
    },
    {
     "name": "stdout",
     "output_type": "stream",
     "text": [
      "https://rmrj.usjr.edu.ph/rmrj/index.php/RMRJ/user/register/\n",
      "https://rmrj.usjr.edu.ph/rmrj/index.php/RMRJ/login/\n",
      "https://rmrj.usjr.edu.ph/rmrj/index.php/RMRJ/issue/view/24/\n",
      "https://rmrj.usjr.edu.ph/rmrj/index.php/RMRJ/issue/archive/\n",
      "https://rmrj.usjr.edu.ph/rmrj/index.php/RMRJ/announcement/\n",
      "https://rmrj.usjr.edu.ph/rmrj/index.php/RMRJ/about/\n",
      "https://rmrj.usjr.edu.ph/rmrj/index.php/RMRJ/about/editorialTeam/\n",
      "https://rmrj.usjr.edu.ph/rmrj/index.php/RMRJ/editorial_policy/\n",
      "https://rmrj.usjr.edu.ph/rmrj/index.php/RMRJ/about/submissions/\n",
      "https://rmrj.usjr.edu.ph/rmrj/index.php/RMRJ/about/contact/\n",
      "https://rmrj.usjr.edu.ph/rmrj/index.php/RMRJ/information/readers/\n",
      "https://rmrj.usjr.edu.ph/rmrj/index.php/RMRJ/information/authors/\n",
      "https://rmrj.usjr.edu.ph/rmrj/index.php/RMRJ/information/librarians/\n",
      "https://usjr.edu.ph/research\n",
      "https://usjr.edu.ph/student-research-program-forms/\n",
      "https://usjr.edu.ph/research/downloadables/faculty-research-program-formsdownload/\n",
      "https://usjr.edu.ph/research/downloadables/ethics-review-board-forms/\n",
      "http://rmrj.usjr.edu.ph/index.php/RMRJ\n",
      "https://usjr.edu.ph/2019/11/07/fake-id-statement/\n",
      "https://usjr.edu.ph/2019/07/29/usj-r-team-wins-2019-picpa/\n",
      "https://usjr.edu.ph/2019/02/07/cambridge-university-dedicated-teacher-award-goes-josenian-educator/\n",
      "http://recoletoscongress.usjr.edu.ph\n",
      "https://usjr.edu.ph/2018/03/08/2nd-recoletos-national-research-congress-opens-non-recollect-schools-nationwide/\n",
      "https://usjr.edu.ph/2017/08/28/usj-r-ie-students-granted-utility-model/\n",
      "https://usjr.edu.ph/2017/11/26/college-engineering-fluor-philippines-hold-first-eitc/\n",
      "https://usjr.edu.ph/tag/government/\n",
      "https://usjr.edu.ph/tag/visit/\n",
      "https://usjr.edu.ph/tag/asean-citation-index/\n",
      "https://usjr.edu.ph/tag/ched/\n",
      "https://usjr.edu.ph/2017/08/28/university-wins-grant-journal-incentive-program/\n",
      "https://usjr.edu.ph/tag/grant/\n",
      "https://usjr.edu.ph/tag/journal-incentives-program/\n",
      "https://usjr.edu.ph/2017/08/07/usj-r-renews-contract-itso-cebu-chamber-commerce-industry/\n",
      "https://usjr.edu.ph/2017/07/04/seminar-workshop-textbook-writing/\n",
      "https://usjr.edu.ph/category/research/page/2/\n",
      "https://eclass.law.usjr.edu.ph/login/forgot_password.php\n",
      "https://usjr.edu.ph/coeng/\n",
      "https://usjr.edu.ph/cicct/\n",
      "https://edp.usjr.edu.ph/\n",
      "https://edp.usjr.edu.ph/dashboard\n",
      "https://edp.usjr.edu.ph/dashboard/logout\n",
      "https://edp.usjr.edu.ph/applicant/download_undertaking/\n"
     ]
    },
    {
     "name": "stderr",
     "output_type": "stream",
     "text": [
      "Some characters could not be decoded, and were replaced with REPLACEMENT CHARACTER.\n"
     ]
    },
    {
     "name": "stdout",
     "output_type": "stream",
     "text": [
      "https://usjr.edu.ph/2017/06/25/coe-dean-receives-garbo-sa-cnu-award/\n",
      "https://usjr.edu.ph/2019/03/20/central-visayas-launches-international-year-indigenous-languages-celebration-usj-r/\n",
      "https://usjr.edu.ph/2016/10/04/herrell-urges-josenians-to-care-for-environment/\n",
      "https://usjr.edu.ph/2017/04/10/jeo-holds-three-day-leadership-program-new-leaders/\n",
      "https://usjr.edu.ph/2022/03/18/on-ukraine-russia-armed-conflict/\n",
      "https://usjr.edu.ph/2019/05/23/josenians-develop-app-find-parking-space-win-national-competition/\n",
      "https://usjr.edu.ph/2019/05/28/usj-r-tops-visayas-mindanao-producing-cpa-passers/\n",
      "https://usjr.edu.ph/2017/05/18/usj-r-junior-senior-highs-first-student-cultural-exchange-program-japan/\n",
      "https://usjr.edu.ph/2018/06/01/school-law-alumni-association-welcomes-new-breed-officers/\n",
      "https://usjr.edu.ph/2019/06/11/josenian-wins-miss-universe-philippines-crown/\n",
      "https://usjr.edu.ph/2019/06/22/usj-r-canteen-concessionaires-undergo-food-safety-orientation/\n",
      "https://usjr.edu.ph/2017/06/12/juniors-welcome-new-academic-year-cultural-performances/\n",
      "https://usjr.edu.ph/2022/03/16/usj-r-senior-high-department-publishes-its-digital-magazine-for-ay-2021-2022/\n",
      "https://usjr.edu.ph/events/category/cas/page/2/\n",
      "https://usjr.edu.ph/events/event/lecture-forum-nutrition-month/\n",
      "https://usjr.edu.ph/portfolio/test-coe-award/\n",
      "https://usjr.edu.ph/portfolio/individual-student-planning/\n",
      "https://usjr.edu.ph/events/category/cicct/page/2/\n",
      "https://usjr.edu.ph/events/event/cicct-christmas-party/\n",
      "https://usjr.edu.ph/events/event/prelim-2nd-sem-2017/\n",
      "https://usjr.edu.ph/events/event/cicct-christmas-party-2/\n",
      "https://usjr.edu.ph/events/event/coe-lab-use-basic-intermediate-advanced-ict-training-pbl-integration/\n",
      "https://usjr.edu.ph/events/event/cicct-convocation/\n",
      "https://usjr.edu.ph/events/category/sdpc/\n",
      "https://usjr.edu.ph/events/event/college-pakighimamat/\n",
      "https://usjr.edu.ph/events/category/coc/\n",
      "https://usjr.edu.ph/events/category/coeng/\n",
      "https://usjr.edu.ph/events/category/con/\n",
      "https://usjr.edu.ph/events/event/teambuilding-cicct-4th-year-students/\n",
      "https://usjr.edu.ph/events/event/icto-bootcamp/\n",
      "https://usjr.edu.ph/events/event/cicct-student-forum/\n",
      "https://usjr.edu.ph/events/event/sds-coe-cicct-3rd-years/\n",
      "https://usjr.edu.ph/academics/graduate/\n",
      "https://usjr.edu.ph/academics/undergraduate/\n",
      "https://usjr.edu.ph/blank/\n",
      "https://usjr.edu.ph/contact/\n",
      "https://usjr.edu.ph/events/\n",
      "https://usjr.edu.ph/events/categories/\n",
      "https://usjr.edu.ph/events/locations/\n",
      "https://usjr.edu.ph/events/my-bookings/\n",
      "https://usjr.edu.ph/events/tags/\n",
      "https://usjr.edu.ph/eteeap/\n",
      "https://usjr.edu.ph/gen-info/\n",
      "https://usjr.edu.ph/history/\n",
      "https://usjr.edu.ph/home/\n",
      "https://usjr.edu.ph/home-backup/\n",
      "https://usjr.edu.ph/hometest/\n",
      "https://usjr.edu.ph/impact/\n",
      "https://usjr.edu.ph/involve/\n",
      "https://usjr.edu.ph/junior-high-school-library/\n",
      "https://usjr.edu.ph/library2/\n",
      "https://usjr.edu.ph/login-customizer/\n",
      "https://usjr.edu.ph/news-events/\n",
      "https://usjr.edu.ph/poster-section/\n",
      "https://usjr.edu.ph/rittc/programs/assessment/bookkeeping/\n",
      "https://usjr.edu.ph/rittc/programs/assessment/bookkeeping-nc-iii/\n",
      "https://usjr.edu.ph/rittc/programs/assessment/bread-and-pastry/\n",
      "https://usjr.edu.ph/rittc/programs/assessment/java/\n",
      "https://usjr.edu.ph/rittc/programs/assessment/microsoft-net/\n",
      "https://usjr.edu.ph/rittc/programs/assessment/oracle/\n",
      "https://usjr.edu.ph/rittc/programs/assessment/computer-hardware/\n",
      "https://usjr.edu.ph/rittc/programs/assessment/computer-programming/\n",
      "https://usjr.edu.ph/rittc/programs/assessment/computer-systems-servicing/\n",
      "https://usjr.edu.ph/rittc/programs/assessment/commercial-cooking/\n",
      "https://usjr.edu.ph/rittc/programs/assessment/dressmaking/\n",
      "https://usjr.edu.ph/rittc/programs/assessment/housekeeping/\n",
      "https://usjr.edu.ph/rittc/programs/assessment/machining-nc-i/\n",
      "https://usjr.edu.ph/rittc/programs/assessment/machining-nc-ii/\n",
      "https://usjr.edu.ph/rittc/programs/assessment/medical-transcriptionist-nc-high-school-graduate/\n",
      "https://usjr.edu.ph/rittc/programs/assessment/medical-transcriptionist/\n",
      "https://usjr.edu.ph/rittc/programs/assessment/tailoring/\n",
      "https://usjr.edu.ph/rittc/programs/assessment/technical-drafting/\n",
      "https://usjr.edu.ph/rittc/programs/assessment/trainers-methodology-level-i/\n",
      "https://usjr.edu.ph/regs-test-page/\n",
      "https://usjr.edu.ph/research/research-abstracts/\n",
      "https://usjr.edu.ph/research/downloadables/downloadable-research-forms/\n",
      "https://usjr.edu.ph/research/downloadables/downloadable-research-forms/student-research-program-forms/\n",
      "https://usjr.edu.ph/reverse-engineering/\n",
      "https://usjr.edu.ph/reverse-eng-page/\n",
      "https://usjr.edu.ph/scholarships/\n",
      "https://usjr.edu.ph/sas/degrees/undergraduate/economics/\n",
      "https://usjr.edu.ph/sas/degrees/undergraduate/library-and-information-science/\n",
      "https://usjr.edu.ph/sas/degrees/undergraduate/philosophy/\n",
      "https://usjr.edu.ph/sas/departments/\n",
      "https://usjr.edu.ph/sbm/degrees/sbm-graduate-programs/supply-management-master-in-management/\n",
      "https://usjr.edu.ph/sbm/degrees/undergraduate/associate-tourism/\n",
      "https://usjr.edu.ph/scs/adelanteoer/\n",
      "https://usjr.edu.ph/scs/contact/\n",
      "https://usjr.edu.ph/soeng/degrees/graduate/management-engineering-master-of-science/\n",
      "https://usjr.edu.ph/law/degrees/graduate/executive-law/\n",
      "https://usjr.edu.ph/sdpc-old/\n",
      "https://usjr.edu.ph/sdpc-test/\n",
      "https://usjr.edu.ph/sdpc2/\n",
      "https://usjr.edu.ph/shs-faculty-staff/\n",
      "https://usjr.edu.ph/site-map/\n",
      "https://usjr.edu.ph/social-media/\n",
      "https://usjr.edu.ph/sdpc/staff/\n",
      "https://usjr.edu.ph/test-com/\n",
      "https://usjr.edu.ph/testengrfac/\n",
      "https://usjr.edu.ph/university-calendar/\n",
      "https://usjr.edu.ph/virtual-tour/balamban-campus/\n",
      "https://usjr.edu.ph/virtual-tour/basak-campus/bunao-highway/\n",
      "https://usjr.edu.ph/virtual-tour/basak-campus/parking-lot/\n",
      "https://usjr.edu.ph/virtual-tour/basak-campus/rittc/\n",
      "https://usjr.edu.ph/yoland/\n",
      "https://usjr.edu.ph/2023/06/\n",
      "https://usjr.edu.ph/2023/05/\n",
      "https://usjr.edu.ph/2023/02/\n",
      "https://usjr.edu.ph/2023/01/\n",
      "https://usjr.edu.ph/2022/11/\n",
      "https://usjr.edu.ph/2022/10/\n",
      "https://usjr.edu.ph/2022/09/\n",
      "https://usjr.edu.ph/2022/08/\n",
      "https://usjr.edu.ph/2022/06/\n",
      "https://usjr.edu.ph/2022/04/\n",
      "https://usjr.edu.ph/2022/03/\n",
      "https://usjr.edu.ph/2022/02/\n",
      "https://usjr.edu.ph/2022/01/\n",
      "https://usjr.edu.ph/2021/12/\n",
      "https://usjr.edu.ph/2021/11/\n",
      "https://usjr.edu.ph/2021/10/\n",
      "https://usjr.edu.ph/2021/09/\n",
      "https://usjr.edu.ph/2021/08/\n",
      "https://usjr.edu.ph/2021/07/\n",
      "https://usjr.edu.ph/2021/06/\n",
      "https://usjr.edu.ph/2021/05/\n",
      "https://usjr.edu.ph/2021/04/\n",
      "https://usjr.edu.ph/2021/02/\n",
      "https://usjr.edu.ph/2021/01/\n",
      "https://usjr.edu.ph/2020/12/\n",
      "https://usjr.edu.ph/2020/11/\n",
      "https://usjr.edu.ph/2020/10/\n",
      "https://usjr.edu.ph/2020/09/\n",
      "https://usjr.edu.ph/2020/08/\n",
      "https://usjr.edu.ph/2020/07/\n",
      "https://usjr.edu.ph/2020/06/\n",
      "https://usjr.edu.ph/2020/02/\n",
      "https://usjr.edu.ph/2020/01/\n",
      "https://usjr.edu.ph/2019/12/\n",
      "https://usjr.edu.ph/2019/11/\n",
      "https://usjr.edu.ph/2019/10/\n",
      "https://usjr.edu.ph/2019/09/\n",
      "https://usjr.edu.ph/2019/08/\n",
      "https://usjr.edu.ph/2019/07/\n",
      "https://usjr.edu.ph/2019/06/\n",
      "https://usjr.edu.ph/2019/05/\n",
      "https://usjr.edu.ph/2019/04/\n",
      "https://usjr.edu.ph/2019/03/\n",
      "https://usjr.edu.ph/2019/02/\n",
      "https://usjr.edu.ph/2019/01/\n",
      "https://usjr.edu.ph/2018/12/\n",
      "https://usjr.edu.ph/2018/11/\n",
      "https://usjr.edu.ph/2018/10/\n",
      "https://usjr.edu.ph/2018/09/\n",
      "https://usjr.edu.ph/2018/08/\n",
      "https://usjr.edu.ph/2018/07/\n",
      "https://usjr.edu.ph/2018/06/\n",
      "https://usjr.edu.ph/2018/05/\n",
      "https://usjr.edu.ph/2018/03/\n",
      "https://usjr.edu.ph/2018/02/\n",
      "https://usjr.edu.ph/2018/01/\n",
      "https://usjr.edu.ph/2017/11/\n",
      "https://usjr.edu.ph/2017/09/\n",
      "https://usjr.edu.ph/2017/08/\n",
      "https://usjr.edu.ph/2017/07/\n",
      "https://usjr.edu.ph/2017/06/\n",
      "https://usjr.edu.ph/2017/05/\n",
      "https://usjr.edu.ph/2017/04/\n",
      "https://usjr.edu.ph/2017/03/\n",
      "https://usjr.edu.ph/2017/02/\n",
      "https://usjr.edu.ph/2017/01/\n",
      "https://usjr.edu.ph/2016/12/\n",
      "https://usjr.edu.ph/2016/11/\n",
      "https://usjr.edu.ph/2016/10/\n",
      "https://usjr.edu.ph/2016/09/\n",
      "https://usjr.edu.ph/2016/08/\n",
      "https://usjr.edu.ph/2016/07/\n",
      "https://usjr.edu.ph/2016/06/\n",
      "https://usjr.edu.ph/2016/05/\n",
      "https://usjr.edu.ph/2016/04/\n",
      "https://usjr.edu.ph/2016/01/\n",
      "https://usjr.edu.ph/2010/06/\n",
      "https://usjr.edu.ph/category/alumni/\n",
      "https://usjr.edu.ph/category/announcement/\n",
      "https://usjr.edu.ph/category/balamban-campus/\n",
      "https://usjr.edu.ph/category/basak-campus/\n",
      "https://usjr.edu.ph/category/blog/\n",
      "https://usjr.edu.ph/category/business/\n"
     ]
    },
    {
     "name": "stdout",
     "output_type": "stream",
     "text": [
      "https://usjr.edu.ph/category/commerce/\n",
      "https://usjr.edu.ph/category/community/\n",
      "https://usjr.edu.ph/category/competitions/\n",
      "https://usjr.edu.ph/category/cre/\n",
      "https://usjr.edu.ph/category/electronic-data-processing/\n",
      "https://usjr.edu.ph/category/education/\n",
      "https://usjr.edu.ph/category/education-news/\n",
      "https://usjr.edu.ph/category/eteeap/\n",
      "https://usjr.edu.ph/category/events/\n",
      "https://usjr.edu.ph/category/features/\n",
      "https://usjr.edu.ph/category/gallery/\n",
      "https://usjr.edu.ph/category/grade-school/\n",
      "https://usjr.edu.ph/category/graduate-school/\n",
      "https://usjr.edu.ph/category/infecop/\n",
      "https://usjr.edu.ph/category/institutional/\n",
      "https://usjr.edu.ph/category/junior-high/\n",
      "https://usjr.edu.ph/category/law/\n",
      "https://usjr.edu.ph/category/library/\n",
      "https://usjr.edu.ph/category/main-campus/\n",
      "https://usjr.edu.ph/category/news/\n",
      "https://usjr.edu.ph/category/partners/\n",
      "https://usjr.edu.ph/category/partnership/\n",
      "https://usjr.edu.ph/category/press-release/\n",
      "https://usjr.edu.ph/category/quick-links/\n",
      "https://usjr.edu.ph/category/rittc/\n",
      "https://usjr.edu.ph/category/sams/\n",
      "https://usjr.edu.ph/category/sas/\n",
      "https://usjr.edu.ph/category/sba/\n",
      "https://usjr.edu.ph/category/scs/\n",
      "https://usjr.edu.ph/category/sdpc/\n",
      "https://usjr.edu.ph/category/senior-high/\n",
      "https://usjr.edu.ph/category/soe/\n",
      "https://usjr.edu.ph/category/soeng/\n",
      "https://usjr.edu.ph/category/uncategorized/\n",
      "https://usjr.edu.ph/events/category/coe/page/2/\n",
      "https://usjr.edu.ph/events/event/let-exam/\n",
      "https://usjr.edu.ph/events/event/todays-event/\n",
      "https://usjr.edu.ph/events/event/education-week/\n",
      "https://usjr.edu.ph/events/event/jeldp/\n",
      "https://usjr.edu.ph/events/event/joed-grand-opening-induction-officers/\n",
      "https://usjr.edu.ph/events/event/nutrition-month-opening-ceremonies-academic-contests/\n",
      "https://usjr.edu.ph/events/event/education-sustainable-development-esd-launching-2018/\n",
      "https://usjr.edu.ph/events/event/coe-convocation/\n",
      "https://usjr.edu.ph/events/event/recognition-honorspinning-ceremony/\n",
      "https://usjr.edu.ph/2019/07/01/usj-r-eco-bus-joins-denrs-northern-cebu-environmental-caravan/\n",
      "https://usjr.edu.ph/2018/12/01/japanese-mentors-prep-josenians-4th-industrial-revolution/\n",
      "https://usjr.edu.ph/2017/08/12/usj-r-partners-inner-outer-travel-cultural-exchange-program/\n",
      "https://usjr.edu.ph/2018/01/13/jaguars-celebrities-tie-basketball-match/\n",
      "https://usjr.edu.ph/2018/06/19/new-vps-introduced-opening-salvo-maspara-continues-tenure/\n",
      "http://edp.usjr.edu.ph\n",
      "https://usjr.edu.ph/2019/08/09/two-usj-r-alumni-win-in-wcopa-2019/\n",
      "https://usjr.edu.ph/2021/12/08/usj-r-quadricentennial-campus/\n",
      "https://usjr.edu.ph/2017/11/13/josenians-bag-manunuri-award-film/\n",
      "https://usjr.edu.ph/2018/11/30/cmma-confers-john-paul-award-to-usjr/\n",
      "https://usjr.edu.ph/2020/09/03/usj-r-colleges-renamed-into-schools/\n",
      "https://usjr.edu.ph/portfolio/college-of-law/\n",
      "https://usjr.edu.ph/portfolio/rittc/\n",
      "https://usjr.edu.ph/2019/02/01/college-of-nursing-15-years/\n",
      "https://usjr.edu.ph/2019/07/18/usj-r-makes-grand-slam-history-gma-network-excellence-awards/\n",
      "https://usjr.edu.ph/2019/02/24/oar-prior-general-visits-usj-r-invites-josenians-creators-communion/\n",
      "https://usjr.edu.ph/2019/05/30/talavera-house-of-prayer-culminates-20th-founding-anniversary-celebration/\n",
      "https://usjr.edu.ph/2019/02/25/usj-r-dota-2-mayors-cup-2019/\n",
      "https://usjr.edu.ph/2019/03/15/greenpeace-campus-tour-2019/\n",
      "https://usjr.edu.ph/2018/08/09/cebuanos-at-wcopa-2018/\n",
      "https://usjr.edu.ph/2018/08/16/6th-recoletos-run-slated-september-16/\n",
      "https://usjr.edu.ph/2019/01/03/josenian-ranks-top-9-september-2018-let/\n",
      "https://usjr.edu.ph/2018/05/04/prior-provincial-incumbency-extended-four-years/\n",
      "https://usjr.edu.ph/portfolio/test-rittc-award/\n",
      "https://usjr.edu.ph/portfolio/test-gs-award/\n",
      "https://usjr.edu.ph/2019/02/18/usjr-help-ermita-fire-victims/\n",
      "https://usjr.edu.ph/2019/12/16/families-receive-christmas-treats-from-usj-r-at-recoletos-ecopark/\n",
      "https://usjr.edu.ph/2018/10/21/josenian-ece-students-champ-first-cebu-inter-university-robotics-competition/\n",
      "https://usjr.edu.ph/2019/08/07/six-arcores-representatives-from-spain-train-in-usj-r/\n",
      "https://usjr.edu.ph/2018/10/16/usj-r-joins-kaon-na-food-travel-festival/\n",
      "https://usjr.edu.ph/2018/11/24/nursing-students-won-digital-poster-awards-8th-international-conference-nurses/\n",
      "https://usjr.edu.ph/2019/09/07/usj-r-opens-first-grand-marian-exhibit/\n",
      "https://usjr.edu.ph/2019/10/24/cpa-exam-october-2019/\n",
      "https://usjr.edu.ph/2019/02/02/international-fellows-share-english-teaching-strategies-cebu-based-teachers/\n",
      "https://usjr.edu.ph/2019/06/27/application-campus-parking-july-2/\n",
      "https://usjr.edu.ph/2019/07/08/usj-r-holds-free-german-classes/\n",
      "https://usjr.edu.ph/2016/05/10/enroll-usj-r-college-education/\n",
      "http://beta.usjr.edu.ph/seniorhighschool/track/academic/abm/\n",
      "http://beta.usjr.edu.ph/seniorhighschool/track/academic/stem/\n",
      "http://beta.usjr.edu.ph/seniorhighschool/track/academic/humss/\n",
      "http://beta.usjr.edu.ph/seniorhighschool/track/academic/gas/\n",
      "http://beta.usjr.edu.ph/seniorhighschool/track/tech-voc-livelihood/ict/\n",
      "http://beta.usjr.edu.ph/seniorhighschool/track/tech-voc-livelihood/he/\n",
      "http://beta.usjr.edu.ph/cicct/degrees/undergraduate/bsit/\n",
      "http://beta.usjr.edu.ph/cicct/degrees/undergraduate/mit/\n",
      "http://beta.usjr.edu.ph/cicct/degrees/undergraduate/bsis/\n",
      "http://beta.usjr.edu.ph/cicct/degrees/undergraduate/act\n",
      "https://usjr.edu.ph/2022/08/31/usj-r-unveils-diamond-jubilee-celebrations/\n",
      "https://usjr.edu.ph/2017/07/15/shs-promote-peace-digital-times-hashtag/\n",
      "https://usjr.edu.ph/2017/09/01/josenian-first-cebuano-recipient-gma-excellence-award/\n",
      "https://usjr.edu.ph/2019/02/13/josenian-couple-vies-latin-honors/\n",
      "https://usjr.edu.ph/2020/10/07/university-bares-second-list-of-senior-high-grads-for-ay-2019-2020/2/\n",
      "https://usjr.edu.ph/2019/12/14/2nd-josenian-shs-research-summit-accept-abstracts-december-20/\n",
      "https://usjr.edu.ph/2021/01/28/josenian-premier-releases-first-digital-magazine-for-ay-2020-2021/\n",
      "https://usjr.edu.ph/2017/09/01/josenian-team-tops-campus-patrol/\n",
      "https://usjr.edu.ph/2018/08/21/opening-recoletos-de-cebu-2018/\n",
      "https://usjr.edu.ph/2020/09/01/josenian-educators-win-at-ched-asean-tilt/\n",
      "https://usjr.edu.ph/2020/01/21/74-presenters-john-paul-ii-centennial-international-conference-cebu-2020/\n",
      "https://usjr.edu.ph/tag/kopo/\n",
      "https://usjr.edu.ph/tag/korea/\n",
      "https://usjr.edu.ph/tag/linkage/\n",
      "https://usjr.edu.ph/tag/south/\n",
      "https://usjr.edu.ph/tag/south-korea/\n",
      "https://usjr.edu.ph/tag/ai/\n",
      "https://usjr.edu.ph/tag/engineering/\n",
      "https://usjr.edu.ph/tag/monozukuri/\n",
      "https://usjr.edu.ph/tag/moa/\n",
      "https://usjr.edu.ph/tag/sister-university/\n",
      "https://usjr.edu.ph/tag/forum/\n",
      "https://usjr.edu.ph/tag/industry/\n",
      "https://usjr.edu.ph/tag/knowles/\n",
      "https://usjr.edu.ph/tag/stride/\n",
      "https://usjr.edu.ph/tag/tsuneishi/\n",
      "https://usjr.edu.ph/tag/cultural-exchange/\n",
      "https://usjr.edu.ph/2019/01/13/pioneer-group-cas-completes-internship-japan/\n",
      "https://usjr.edu.ph/tag/wcopa/\n",
      "https://usjr.edu.ph/tag/engineering-conference/\n",
      "https://usjr.edu.ph/2017/11/08/jaguars-rank-third-xiamen-international-colleges-basketball-tournament/\n",
      "https://usjr.edu.ph/tag/basketball/\n",
      "https://usjr.edu.ph/tag/filipino-basketball/\n",
      "https://usjr.edu.ph/tag/jaguars/\n",
      "https://usjr.edu.ph/tag/pilipinas/\n",
      "https://usjr.edu.ph/tag/xiamen/\n",
      "https://usjr.edu.ph/2019/12/07/recoletos-schools-benchmark-usj-r-guidance-counselling-program/\n",
      "https://usjr.edu.ph/tag/basak-campus/\n",
      "https://usjr.edu.ph/tag/new-building/\n",
      "https://usjr.edu.ph/tag/oar/\n",
      "https://usjr.edu.ph/tag/senior-high-school/\n",
      "https://usjr.edu.ph/tag/75/\n",
      "https://usjr.edu.ph/tag/anniversary/\n",
      "https://usjr.edu.ph/tag/diamond-jubilee/\n",
      "https://usjr.edu.ph/tag/2017/\n",
      "https://usjr.edu.ph/tag/topnotcher/\n",
      "https://usjr.edu.ph/tag/masters/\n",
      "https://usjr.edu.ph/tag/honor/\n",
      "https://usjr.edu.ph/tag/service/\n",
      "https://usjr.edu.ph/tag/cmma/\n",
      "https://usjr.edu.ph/tag/community/\n",
      "https://usjr.edu.ph/tag/djc/\n",
      "https://usjr.edu.ph/tag/journalism/\n",
      "https://usjr.edu.ph/tag/gma-excellence/\n",
      "https://usjr.edu.ph/tag/cebuano/\n",
      "https://usjr.edu.ph/tag/first/\n",
      "https://usjr.edu.ph/tag/national/\n",
      "https://usjr.edu.ph/tag/campus-patrol/\n",
      "https://usjr.edu.ph/tag/masscom/\n",
      "https://usjr.edu.ph/2017/07/22/commerce-dean-receives-picpa-leadership-award/\n",
      "https://usjr.edu.ph/tag/accountancy/\n",
      "https://usjr.edu.ph/tag/commerce/\n",
      "https://usjr.edu.ph/tag/college-of-education/\n",
      "https://usjr.edu.ph/tag/faculty/\n"
     ]
    },
    {
     "name": "stdout",
     "output_type": "stream",
     "text": [
      "https://usjr.edu.ph/tag/lgu/\n",
      "https://usjr.edu.ph/tag/ormoc/\n",
      "https://usjr.edu.ph/tag/program/\n",
      "https://usjr.edu.ph/tag/cpa/\n",
      "https://usjr.edu.ph/tag/awards/\n",
      "https://usjr.edu.ph/tag/philippines/\n",
      "https://usjr.edu.ph/tag/college-of-arts-and-sciences/\n",
      "https://usjr.edu.ph/tag/japan/\n",
      "https://usjr.edu.ph/tag/alumni/\n",
      "https://usjr.edu.ph/tag/city-sports-club/\n",
      "https://usjr.edu.ph/tag/lawyers/\n",
      "https://usjr.edu.ph/tag/school-of-law/\n",
      "https://usjr.edu.ph/tag/celebrity/\n",
      "https://usjr.edu.ph/tag/events/\n",
      "https://usjr.edu.ph/tag/sports/\n",
      "https://usjr.edu.ph/tag/university-sports/\n",
      "https://usjr.edu.ph/tag/exchange-program/\n",
      "https://usjr.edu.ph/tag/immersion/\n",
      "https://usjr.edu.ph/tag/graduate-school/\n",
      "https://usjr.edu.ph/tag/honors/\n",
      "https://usjr.edu.ph/tag/2020/\n",
      "https://usjr.edu.ph/tag/josenian-premier/\n",
      "https://usjr.edu.ph/tag/jpia/\n",
      "https://usjr.edu.ph/tag/black-virgin-mary/\n",
      "https://usjr.edu.ph/tag/la-salud/\n",
      "https://usjr.edu.ph/tag/new-school-building/\n",
      "https://usjr.edu.ph/wp-content/uploads/2016/09/IMG_4468.jpg\n"
     ]
    },
    {
     "name": "stderr",
     "output_type": "stream",
     "text": [
      "Some characters could not be decoded, and were replaced with REPLACEMENT CHARACTER.\n"
     ]
    },
    {
     "name": "stdout",
     "output_type": "stream",
     "text": [
      "https://usjr.edu.ph/wp-login.php\n",
      "https://usjr.edu.ph/wp-content/uploads/2016/09/IMG_4508.jpg\n"
     ]
    },
    {
     "name": "stderr",
     "output_type": "stream",
     "text": [
      "Some characters could not be decoded, and were replaced with REPLACEMENT CHARACTER.\n"
     ]
    },
    {
     "name": "stdout",
     "output_type": "stream",
     "text": [
      "https://usjr.edu.ph/wp-content/uploads/2016/09/IMG_4513.jpg\n"
     ]
    },
    {
     "name": "stderr",
     "output_type": "stream",
     "text": [
      "Some characters could not be decoded, and were replaced with REPLACEMENT CHARACTER.\n"
     ]
    },
    {
     "name": "stdout",
     "output_type": "stream",
     "text": [
      "https://usjr.edu.ph/wp-content/uploads/2016/09/IMG_4524.jpg\n"
     ]
    },
    {
     "name": "stderr",
     "output_type": "stream",
     "text": [
      "Some characters could not be decoded, and were replaced with REPLACEMENT CHARACTER.\n"
     ]
    },
    {
     "name": "stdout",
     "output_type": "stream",
     "text": [
      "https://usjr.edu.ph/wp-content/uploads/2016/09/IMG_4530.jpg\n"
     ]
    },
    {
     "name": "stderr",
     "output_type": "stream",
     "text": [
      "Some characters could not be decoded, and were replaced with REPLACEMENT CHARACTER.\n"
     ]
    },
    {
     "name": "stdout",
     "output_type": "stream",
     "text": [
      "https://usjr.edu.ph/wp-content/uploads/2016/09/IMG_4534.jpg\n"
     ]
    },
    {
     "name": "stderr",
     "output_type": "stream",
     "text": [
      "Some characters could not be decoded, and were replaced with REPLACEMENT CHARACTER.\n"
     ]
    },
    {
     "name": "stdout",
     "output_type": "stream",
     "text": [
      "https://usjr.edu.ph/wp-content/uploads/2016/09/IMG_4564.jpg\n"
     ]
    },
    {
     "name": "stderr",
     "output_type": "stream",
     "text": [
      "Some characters could not be decoded, and were replaced with REPLACEMENT CHARACTER.\n"
     ]
    },
    {
     "name": "stdout",
     "output_type": "stream",
     "text": [
      "https://usjr.edu.ph/wp-content/uploads/2016/09/IMG_4567.jpg\n"
     ]
    },
    {
     "name": "stderr",
     "output_type": "stream",
     "text": [
      "Some characters could not be decoded, and were replaced with REPLACEMENT CHARACTER.\n"
     ]
    },
    {
     "name": "stdout",
     "output_type": "stream",
     "text": [
      "https://usjr.edu.ph/wp-content/uploads/2016/09/IMG_4333.jpg\n"
     ]
    },
    {
     "name": "stderr",
     "output_type": "stream",
     "text": [
      "Some characters could not be decoded, and were replaced with REPLACEMENT CHARACTER.\n"
     ]
    },
    {
     "name": "stdout",
     "output_type": "stream",
     "text": [
      "https://usjr.edu.ph/wp-content/uploads/2016/09/IMG_4343.jpg\n"
     ]
    },
    {
     "name": "stderr",
     "output_type": "stream",
     "text": [
      "Some characters could not be decoded, and were replaced with REPLACEMENT CHARACTER.\n"
     ]
    },
    {
     "name": "stdout",
     "output_type": "stream",
     "text": [
      "https://usjr.edu.ph/wp-content/uploads/2016/09/IMG_4419.jpg\n"
     ]
    },
    {
     "name": "stderr",
     "output_type": "stream",
     "text": [
      "Some characters could not be decoded, and were replaced with REPLACEMENT CHARACTER.\n"
     ]
    },
    {
     "name": "stdout",
     "output_type": "stream",
     "text": [
      "https://usjr.edu.ph/wp-content/uploads/2016/09/IMG_4423.jpg\n"
     ]
    },
    {
     "name": "stderr",
     "output_type": "stream",
     "text": [
      "Some characters could not be decoded, and were replaced with REPLACEMENT CHARACTER.\n"
     ]
    },
    {
     "name": "stdout",
     "output_type": "stream",
     "text": [
      "https://usjr.edu.ph/wp-content/uploads/2016/09/IMG_4431.jpg\n"
     ]
    },
    {
     "name": "stderr",
     "output_type": "stream",
     "text": [
      "Some characters could not be decoded, and were replaced with REPLACEMENT CHARACTER.\n"
     ]
    },
    {
     "name": "stdout",
     "output_type": "stream",
     "text": [
      "https://usjr.edu.ph/wp-content/uploads/2016/09/IMG_4437.jpg\n"
     ]
    },
    {
     "name": "stderr",
     "output_type": "stream",
     "text": [
      "Some characters could not be decoded, and were replaced with REPLACEMENT CHARACTER.\n"
     ]
    },
    {
     "name": "stdout",
     "output_type": "stream",
     "text": [
      "https://usjr.edu.ph/wp-content/uploads/2016/09/IMG_4444.jpg\n"
     ]
    },
    {
     "name": "stderr",
     "output_type": "stream",
     "text": [
      "Some characters could not be decoded, and were replaced with REPLACEMENT CHARACTER.\n"
     ]
    },
    {
     "name": "stdout",
     "output_type": "stream",
     "text": [
      "https://usjr.edu.ph/wp-content/uploads/2016/09/IMG_4454.jpg\n"
     ]
    },
    {
     "name": "stderr",
     "output_type": "stream",
     "text": [
      "Some characters could not be decoded, and were replaced with REPLACEMENT CHARACTER.\n"
     ]
    },
    {
     "name": "stdout",
     "output_type": "stream",
     "text": [
      "https://usjr.edu.ph/wp-content/uploads/2016/09/IMG_4455.jpg\n"
     ]
    },
    {
     "name": "stderr",
     "output_type": "stream",
     "text": [
      "Some characters could not be decoded, and were replaced with REPLACEMENT CHARACTER.\n"
     ]
    },
    {
     "name": "stdout",
     "output_type": "stream",
     "text": [
      "https://usjr.edu.ph/wp-content/uploads/2016/09/IMG_4462.jpg\n"
     ]
    },
    {
     "name": "stderr",
     "output_type": "stream",
     "text": [
      "Some characters could not be decoded, and were replaced with REPLACEMENT CHARACTER.\n"
     ]
    },
    {
     "name": "stdout",
     "output_type": "stream",
     "text": [
      "https://usjr.edu.ph/2016/09/07/campus-book-fair-16-a-success/img_8342/\n",
      "https://usjr.edu.ph/2016/09/07/campus-book-fair-16-a-success/img_8347/\n",
      "https://usjr.edu.ph/2016/09/07/campus-book-fair-16-a-success/img_8352/\n",
      "https://usjr.edu.ph/2016/09/07/campus-book-fair-16-a-success/img_8353/\n",
      "https://usjr.edu.ph/2016/09/07/campus-book-fair-16-a-success/img_8358/\n",
      "https://usjr.edu.ph/2016/09/07/campus-book-fair-16-a-success/img_8367/\n",
      "https://usjr.edu.ph/2016/09/07/campus-book-fair-16-a-success/img_8329-300x200/\n",
      "https://usjr.edu.ph/2016/09/07/campus-book-fair-16-a-success/img_8341/\n",
      "https://usjr.edu.ph/2016/01/19/library-staff-development-through-echo-seminar/sam_4359/\n",
      "https://usjr.edu.ph/2016/01/19/library-staff-development-through-echo-seminar/sam_4364/\n",
      "https://usjr.edu.ph/2016/01/19/library-staff-development-through-echo-seminar/sam_4364-300x179-2/\n",
      "https://usjr.edu.ph/2016/01/19/library-staff-development-through-echo-seminar/sam_4368/\n",
      "https://usjr.edu.ph/2016/01/19/library-staff-development-through-echo-seminar/sam_4408/\n",
      "https://usjr.edu.ph/2016/01/19/library-staff-development-through-echo-seminar/sam_4358/\n",
      "https://usjr.edu.ph/tag/international-year-of-indigenous-languages/\n",
      "https://usjr.edu.ph/2019/06/25/22-companies-look-josenian-interns/\n",
      "https://usjr.edu.ph/tag/fair/\n",
      "https://usjr.edu.ph/tag/refund/\n",
      "https://usjr.edu.ph/tag/badging/\n",
      "https://usjr.edu.ph/tag/capping/\n",
      "https://rmrj.usjr.edu.ph/rmrj/index.php/RMRJ/index\n",
      "https://rmrj.usjr.edu.ph/rmrj/index.php/RMRJ/issue/current\n",
      "https://rmrj.usjr.edu.ph/rmrj/index.php/RMRJ/author-guidelines\n",
      "https://rmrj.usjr.edu.ph/rmrj/index.php/RMRJ/search\n",
      "https://rmrj.usjr.edu.ph/rmrj/index.php/RMRJ/article/view/1229/280\n",
      "https://rmrj.usjr.edu.ph/rmrj/index.php/RMRJ/citationstylelanguage/get/acm-sig-proceedings\n",
      "https://rmrj.usjr.edu.ph/rmrj/index.php/RMRJ/citationstylelanguage/get/acs-nano\n",
      "https://rmrj.usjr.edu.ph/rmrj/index.php/RMRJ/citationstylelanguage/get/apa\n",
      "https://rmrj.usjr.edu.ph/rmrj/index.php/RMRJ/citationstylelanguage/get/associacao-brasileira-de-normas-tecnicas\n",
      "https://rmrj.usjr.edu.ph/rmrj/index.php/RMRJ/citationstylelanguage/get/chicago-author-date\n",
      "https://rmrj.usjr.edu.ph/rmrj/index.php/RMRJ/citationstylelanguage/get/harvard-cite-them-right\n",
      "https://rmrj.usjr.edu.ph/rmrj/index.php/RMRJ/citationstylelanguage/get/ieee\n",
      "https://rmrj.usjr.edu.ph/rmrj/index.php/RMRJ/citationstylelanguage/get/modern-language-association\n",
      "https://rmrj.usjr.edu.ph/rmrj/index.php/RMRJ/citationstylelanguage/get/turabian-fullnote-bibliography\n",
      "https://rmrj.usjr.edu.ph/rmrj/index.php/RMRJ/citationstylelanguage/get/vancouver\n",
      "https://rmrj.usjr.edu.ph/rmrj/index.php/RMRJ/citationstylelanguage/download/ris\n",
      "https://rmrj.usjr.edu.ph/rmrj/index.php/RMRJ/citationstylelanguage/download/bibtex\n",
      "https://rmrj.usjr.edu.ph/rmrj/index.php/RMRJ/information/readers\n",
      "https://rmrj.usjr.edu.ph/rmrj/index.php/RMRJ/information/authors\n",
      "https://rmrj.usjr.edu.ph/rmrj/index.php/RMRJ/information/librarians\n",
      "https://rmrj.usjr.edu.ph/rmrj/index.php/RMRJ/about/aboutThisPublishingSystem\n",
      "https://rmrj.usjr.edu.ph/rmrj/index.php/RMRJ/issue/view/11\n",
      "https://rmrj.usjr.edu.ph/rmrj/index.php/RMRJ/article/view/1328/281\n",
      "https://rmrj.usjr.edu.ph/rmrj/index.php/RMRJ/article/view/1413/278\n",
      "https://rmrj.usjr.edu.ph/rmrj/index.php/RMRJ/article/view/1351/279\n",
      "https://rmrj.usjr.edu.ph/rmrj/index.php/RMRJ/article/view/1408\n",
      "https://rmrj.usjr.edu.ph/rmrj/index.php/RMRJ/article/view/1408/277\n",
      "https://rmrj.usjr.edu.ph/rmrj/index.php/RMRJ/issue/view/26\n",
      "https://rmrj.usjr.edu.ph/rmrj/index.php/RMRJ/issue/view/25\n",
      "https://rmrj.usjr.edu.ph/rmrj/index.php/RMRJ/issue/view/24\n",
      "https://rmrj.usjr.edu.ph/rmrj/index.php/RMRJ/issue/view/23\n",
      "https://rmrj.usjr.edu.ph/rmrj/index.php/RMRJ/issue/view/22\n",
      "https://rmrj.usjr.edu.ph/rmrj/index.php/RMRJ/issue/view/21\n",
      "https://rmrj.usjr.edu.ph/rmrj/index.php/RMRJ/issue/view/19\n",
      "https://rmrj.usjr.edu.ph/rmrj/index.php/RMRJ/issue/view/9\n",
      "https://rmrj.usjr.edu.ph/rmrj/index.php/RMRJ/issue/view/8\n",
      "https://rmrj.usjr.edu.ph/rmrj/index.php/RMRJ/issue/view/10\n",
      "https://rmrj.usjr.edu.ph/rmrj/index.php/RMRJ/issue/view/5\n",
      "https://rmrj.usjr.edu.ph/rmrj/index.php/RMRJ/issue/view/18\n",
      "https://rmrj.usjr.edu.ph/rmrj/index.php/RMRJ/issue/view/16\n",
      "https://rmrj.usjr.edu.ph/rmrj/index.php/RMRJ/issue/view/12\n",
      "https://rmrj.usjr.edu.ph/rmrj/index.php/RMRJ/announcement/view/16\n",
      "https://rmrj.usjr.edu.ph/rmrj/index.php/RMRJ/announcement/view/14\n",
      "https://rmrj.usjr.edu.ph/rmrj/index.php/RMRJ/announcement/view/10\n",
      "https://rmrj.usjr.edu.ph/rmrj/index.php/RMRJ/announcement/view/8\n",
      "https://rmrj.usjr.edu.ph/rmrj/index.php/RMRJ/announcement/view/7\n",
      "https://rmrj.usjr.edu.ph/rmrj/index.php/RMRJ/announcement/view/5\n",
      "https://rmrj.usjr.edu.ph/rmrj/index.php/RMRJ/announcement/view/4\n",
      "https://rmrj.usjr.edu.ph/rmrj/index.php/RMRJ/announcement/view/3\n",
      "https://rmrj.usjr.edu.ph/rmrj/index.php/RMRJ/announcement/view/1\n",
      "https://rmrj.usjr.edu.ph/rmrj/index.php/RMRJ/about/privacy\n",
      "https://rmrj.usjr.edu.ph/rmrj/index.php/RMRJ/login/lostPassword\n",
      "https://rmrj.usjr.edu.ph/rmrj/index.php/RMRJ/article/view/958\n",
      "https://rmrj.usjr.edu.ph/index.php/tag/rmrj-vol-10-2/\n",
      "https://rmrj.usjr.edu.ph/rmrj/index.php/RMRJ/article/view/1414\n",
      "https://rmrj.usjr.edu.ph/index.php/tag/anxiety/\n",
      "https://rmrj.usjr.edu.ph/index.php/tag/covid-19/\n",
      "https://rmrj.usjr.edu.ph/index.php/tag/cross-sectional-data-analysis/\n",
      "https://rmrj.usjr.edu.ph/index.php/tag/depression/\n",
      "https://rmrj.usjr.edu.ph/index.php/tag/latvia-europe/\n",
      "https://rmrj.usjr.edu.ph/index.php/tag/philippines/\n",
      "https://rmrj.usjr.edu.ph/index.php/tag/stress/\n",
      "https://rmrj.usjr.edu.ph/index.php/tag/students/\n",
      "https://rmrj.usjr.edu.ph/index.php/tag/teachers/\n",
      "https://rmrj.usjr.edu.ph/index.php/tag/cebu/\n",
      "https://rmrj.usjr.edu.ph/index.php/tag/emerging-nation/\n",
      "https://rmrj.usjr.edu.ph/index.php/tag/employee-led-initiatives/\n",
      "https://rmrj.usjr.edu.ph/index.php/tag/hospitality-industry/\n",
      "https://rmrj.usjr.edu.ph/index.php/tag/ocb/\n",
      "https://rmrj.usjr.edu.ph/index.php/tag/financial-performance/\n",
      "https://rmrj.usjr.edu.ph/index.php/tag/quantitative/\n",
      "https://rmrj.usjr.edu.ph/index.php/tag/rural-banks/\n",
      "https://rmrj.usjr.edu.ph/index.php/tag/sustainability-practices/\n",
      "https://rmrj.usjr.edu.ph/index.php/tag/sustainable-banking-business-model/\n",
      "https://rmrj.usjr.edu.ph/index.php/tag/filipinos-abroad/\n",
      "https://rmrj.usjr.edu.ph/index.php/tag/migration/\n",
      "https://rmrj.usjr.edu.ph/index.php/tag/multiculturalism/\n",
      "https://rmrj.usjr.edu.ph/index.php/tag/school-engagement/\n",
      "https://rmrj.usjr.edu.ph/rmrj/index.php/RMRJ/article/view/1407\n",
      "https://rmrj.usjr.edu.ph/index.php/tag/bsp-national-retail-payment-system/\n",
      "https://rmrj.usjr.edu.ph/index.php/tag/commercial-banks/\n",
      "https://rmrj.usjr.edu.ph/index.php/tag/digital-financial-inclusion/\n",
      "https://rmrj.usjr.edu.ph/index.php/tag/universal-banks/\n",
      "https://rmrj.usjr.edu.ph/index.php/tag/covid-19-pandemic/\n",
      "https://rmrj.usjr.edu.ph/index.php/tag/e-payment-system/\n",
      "https://rmrj.usjr.edu.ph/index.php/tag/pls-sem/\n",
      "https://rmrj.usjr.edu.ph/index.php/tag/technology-acceptance-model/\n",
      "https://rmrj.usjr.edu.ph/rmrj/index.php/RMRJ/article/view/1322\n",
      "https://rmrj.usjr.edu.ph/index.php/tag/adaptation/\n",
      "https://rmrj.usjr.edu.ph/index.php/tag/collectivism/\n",
      "https://rmrj.usjr.edu.ph/index.php/tag/perceived-credibility/\n",
      "https://rmrj.usjr.edu.ph/index.php/tag/social-endorsement/\n",
      "https://rmrj.usjr.edu.ph/index.php/tag/social-support/\n",
      "https://rmrj.usjr.edu.ph/index.php/author/admin/page/2/\n",
      "https://rmrj.usjr.edu.ph/rmrj/index.php/RMRJ/article/view/1320\n",
      "https://rmrj.usjr.edu.ph/rmrj/index.php/RMRJ/article/view/1320/271\n",
      "https://rmrj.usjr.edu.ph/rmrj/index.php/RMRJ/article/view/1322/270\n",
      "https://rmrj.usjr.edu.ph/rmrj/index.php/RMRJ/article/view/1200\n",
      "https://rmrj.usjr.edu.ph/rmrj/index.php/RMRJ/article/view/1200/272\n",
      "https://rmrj.usjr.edu.ph/rmrj/index.php/RMRJ/article/view/1414/275\n",
      "https://rmrj.usjr.edu.ph/rmrj/index.php/RMRJ/article/view/1407/276\n",
      "https://rmrj.usjr.edu.ph/rmrj/index.php/RMRJ/article/view/1130\n",
      "https://rmrj.usjr.edu.ph/rmrj/index.php/RMRJ/article/view/1130/273\n",
      "https://rmrj.usjr.edu.ph/rmrj/index.php/RMRJ/article/view/1222\n",
      "https://rmrj.usjr.edu.ph/rmrj/index.php/RMRJ/article/view/1222/274\n",
      "https://rmrj.usjr.edu.ph/index.php/2019/10/28/351/\n",
      "https://rmrj.usjr.edu.ph/rmrj/index.php/RMRJ/article/view/828\n",
      "https://rmrj.usjr.edu.ph/rmrj/index.php/RMRJ/article/view/1047\n"
     ]
    },
    {
     "name": "stdout",
     "output_type": "stream",
     "text": [
      "https://rmrj.usjr.edu.ph/index.php/category/current/page/2/\n",
      "https://rmrj.usjr.edu.ph/rmrj/index.php/RMRJ/article/view/986\n",
      "https://rmrj.usjr.edu.ph/rmrj/index.php/RMRJ/article/view/986/248\n",
      "https://rmrj.usjr.edu.ph/rmrj/index.php/RMRJ/article/view/1147\n",
      "https://rmrj.usjr.edu.ph/rmrj/index.php/RMRJ/article/view/1147/255\n",
      "https://rmrj.usjr.edu.ph/rmrj/index.php/RMRJ/article/view/1181\n",
      "https://rmrj.usjr.edu.ph/rmrj/index.php/RMRJ/article/view/1181/249\n",
      "https://rmrj.usjr.edu.ph/rmrj/index.php/RMRJ/article/view/1211\n",
      "https://rmrj.usjr.edu.ph/rmrj/index.php/RMRJ/article/view/1211/250\n",
      "https://rmrj.usjr.edu.ph/rmrj/index.php/RMRJ/article/view/1188\n",
      "https://rmrj.usjr.edu.ph/rmrj/index.php/RMRJ/article/view/1188/252\n",
      "https://rmrj.usjr.edu.ph/rmrj/index.php/RMRJ/article/view/1205\n",
      "https://rmrj.usjr.edu.ph/rmrj/index.php/RMRJ/article/view/1205/251\n",
      "https://rmrj.usjr.edu.ph/rmrj/index.php/RMRJ/article/view/1212\n",
      "https://rmrj.usjr.edu.ph/rmrj/index.php/RMRJ/article/view/1212/253\n",
      "https://rmrj.usjr.edu.ph/rmrj/index.php/RMRJ/article/view/1220\n",
      "https://rmrj.usjr.edu.ph/rmrj/index.php/RMRJ/article/view/1220/254\n",
      "https://rmrj.usjr.edu.ph/rmrj/index.php/RMRJ/article/view/1070\n",
      "https://rmrj.usjr.edu.ph/rmrj/index.php/RMRJ/article/view/1070/256\n",
      "https://rmrj.usjr.edu.ph/rmrj/index.php/RMRJ/article/view/1086\n",
      "https://rmrj.usjr.edu.ph/rmrj/index.php/RMRJ/article/view/1086/257\n",
      "https://rmrj.usjr.edu.ph/rmrj/index.php/RMRJ/article/view/1215\n",
      "https://rmrj.usjr.edu.ph/rmrj/index.php/RMRJ/article/view/1215/258\n",
      "https://rmrj.usjr.edu.ph/rmrj/index.php/RMRJ/article/view/1221\n",
      "https://rmrj.usjr.edu.ph/rmrj/index.php/RMRJ/article/view/1221/261\n",
      "https://rmrj.usjr.edu.ph/rmrj/index.php/RMRJ/article/view/1206\n",
      "https://rmrj.usjr.edu.ph/rmrj/index.php/RMRJ/article/view/1206/259\n",
      "https://rmrj.usjr.edu.ph/rmrj/index.php/RMRJ/article/view/1219\n",
      "https://rmrj.usjr.edu.ph/rmrj/index.php/RMRJ/article/view/1219/260\n",
      "https://rmrj.usjr.edu.ph/rmrj/index.php/RMRJ/article/view/1063\n",
      "https://rmrj.usjr.edu.ph/index.php/tag/rmrj-vol-10-1/\n",
      "https://rmrj.usjr.edu.ph/index.php/2020/06/04/439/\n",
      "https://rmrj.usjr.edu.ph/index.php/category/archive/page/2/\n",
      "https://rmrj.usjr.edu.ph/rmrj/index.php/RMRJ/article/view/958/243\n",
      "https://rmrj.usjr.edu.ph/rmrj/index.php/RMRJ/article/view/1061\n",
      "https://rmrj.usjr.edu.ph/rmrj/index.php/RMRJ/article/view/1061/240\n",
      "https://rmrj.usjr.edu.ph/rmrj/index.php/RMRJ/article/view/1044\n",
      "https://rmrj.usjr.edu.ph/rmrj/index.php/RMRJ/article/view/1044/239\n",
      "https://rmrj.usjr.edu.ph/rmrj/index.php/RMRJ/article/view/985\n",
      "https://rmrj.usjr.edu.ph/rmrj/index.php/RMRJ/article/view/985/244\n",
      "https://rmrj.usjr.edu.ph/rmrj/index.php/RMRJ/article/view/1071\n",
      "https://rmrj.usjr.edu.ph/rmrj/index.php/RMRJ/article/view/1071/245\n",
      "https://rmrj.usjr.edu.ph/rmrj/index.php/RMRJ/article/view/959\n",
      "https://rmrj.usjr.edu.ph/rmrj/index.php/RMRJ/article/view/959/241\n",
      "https://rmrj.usjr.edu.ph/rmrj/index.php/RMRJ/article/view/1087\n",
      "https://rmrj.usjr.edu.ph/rmrj/index.php/RMRJ/article/view/1087/247\n",
      "https://rmrj.usjr.edu.ph/rmrj/index.php/RMRJ/article/view/988\n",
      "https://rmrj.usjr.edu.ph/rmrj/index.php/RMRJ/article/view/988/242\n",
      "https://rmrj.usjr.edu.ph/rmrj/index.php/RMRJ/article/view/1022\n",
      "https://rmrj.usjr.edu.ph/rmrj/index.php/RMRJ/article/view/1022/246\n",
      "https://rmrj.usjr.edu.ph/rmrj/index.php/RMRJ/article/view/1063/237\n",
      "https://rmrj.usjr.edu.ph/rmrj/index.php/RMRJ/article/view/987\n",
      "https://rmrj.usjr.edu.ph/rmrj/index.php/RMRJ/article/view/987/222\n",
      "https://rmrj.usjr.edu.ph/rmrj/index.php/RMRJ/article/view/895\n",
      "https://rmrj.usjr.edu.ph/rmrj/index.php/RMRJ/article/view/895/227\n",
      "https://rmrj.usjr.edu.ph/rmrj/index.php/RMRJ/article/view/962\n",
      "https://rmrj.usjr.edu.ph/rmrj/index.php/RMRJ/article/view/962/223\n",
      "https://rmrj.usjr.edu.ph/rmrj/index.php/RMRJ/article/view/1011\n",
      "https://rmrj.usjr.edu.ph/rmrj/index.php/RMRJ/article/view/1011/224\n",
      "https://rmrj.usjr.edu.ph/rmrj/index.php/RMRJ/article/view/982\n",
      "https://rmrj.usjr.edu.ph/rmrj/index.php/RMRJ/article/view/982/228\n",
      "https://rmrj.usjr.edu.ph/rmrj/index.php/RMRJ/article/view/989\n",
      "https://rmrj.usjr.edu.ph/rmrj/index.php/RMRJ/article/view/989/236\n",
      "https://rmrj.usjr.edu.ph/rmrj/index.php/RMRJ/article/view/965\n",
      "https://rmrj.usjr.edu.ph/rmrj/index.php/RMRJ/article/view/965/226\n",
      "https://rmrj.usjr.edu.ph/rmrj/index.php/RMRJ/article/view/967\n",
      "https://rmrj.usjr.edu.ph/rmrj/index.php/RMRJ/article/view/967/230\n",
      "https://rmrj.usjr.edu.ph/rmrj/index.php/RMRJ/article/view/1047/229\n",
      "https://rmrj.usjr.edu.ph/rmrj/index.php/RMRJ/article/view/845\n",
      "https://rmrj.usjr.edu.ph/rmrj/index.php/RMRJ/article/view/845/231\n",
      "https://rmrj.usjr.edu.ph/rmrj/index.php/RMRJ/article/view/977\n",
      "https://rmrj.usjr.edu.ph/rmrj/index.php/RMRJ/article/view/977/232\n",
      "https://rmrj.usjr.edu.ph/rmrj/index.php/RMRJ/article/view/1027\n",
      "https://rmrj.usjr.edu.ph/rmrj/index.php/RMRJ/article/view/1027/233\n",
      "https://rmrj.usjr.edu.ph/rmrj/index.php/RMRJ/article/view/955\n",
      "https://rmrj.usjr.edu.ph/rmrj/index.php/RMRJ/article/view/955/235\n",
      "https://rmrj.usjr.edu.ph/rmrj/index.php/RMRJ/article/view/861\n",
      "https://rmrj.usjr.edu.ph/rmrj/index.php/RMRJ/article/view/861/214\n",
      "https://rmrj.usjr.edu.ph/rmrj/index.php/RMRJ/article/view/876\n",
      "https://rmrj.usjr.edu.ph/rmrj/index.php/RMRJ/article/view/876/217\n",
      "https://rmrj.usjr.edu.ph/rmrj/index.php/RMRJ/article/view/828/215\n",
      "https://rmrj.usjr.edu.ph/rmrj/index.php/RMRJ/article/view/884\n",
      "https://rmrj.usjr.edu.ph/rmrj/index.php/RMRJ/article/view/884/216\n",
      "https://rmrj.usjr.edu.ph/rmrj/index.php/RMRJ/article/view/880\n",
      "https://rmrj.usjr.edu.ph/rmrj/index.php/RMRJ/article/view/880/218\n",
      "https://rmrj.usjr.edu.ph/rmrj/index.php/RMRJ/article/view/964\n",
      "https://rmrj.usjr.edu.ph/rmrj/index.php/RMRJ/article/view/964/219\n",
      "https://rmrj.usjr.edu.ph/rmrj/index.php/RMRJ/article/view/934\n",
      "https://rmrj.usjr.edu.ph/rmrj/index.php/RMRJ/article/view/934/220\n",
      "https://rmrj.usjr.edu.ph/rmrj/index.php/RMRJ/article/view/970\n",
      "https://rmrj.usjr.edu.ph/rmrj/index.php/RMRJ/article/view/970/221\n",
      "https://rmrj.usjr.edu.ph/rmrj/index.php/RMRJ/article/view/614\n",
      "https://rmrj.usjr.edu.ph/rmrj/index.php/RMRJ/article/view/614/191\n",
      "https://rmrj.usjr.edu.ph/rmrj/index.php/RMRJ/article/view/587\n",
      "https://rmrj.usjr.edu.ph/rmrj/index.php/RMRJ/article/view/587/192\n",
      "https://rmrj.usjr.edu.ph/rmrj/index.php/RMRJ/article/view/619\n",
      "https://rmrj.usjr.edu.ph/rmrj/index.php/RMRJ/article/view/619/193\n",
      "https://rmrj.usjr.edu.ph/rmrj/index.php/RMRJ/article/view/631\n",
      "https://rmrj.usjr.edu.ph/rmrj/index.php/RMRJ/article/view/631/194\n",
      "https://rmrj.usjr.edu.ph/rmrj/index.php/RMRJ/article/view/625\n",
      "https://rmrj.usjr.edu.ph/rmrj/index.php/RMRJ/article/view/625/195\n",
      "https://rmrj.usjr.edu.ph/rmrj/index.php/RMRJ/article/view/680\n",
      "https://rmrj.usjr.edu.ph/rmrj/index.php/RMRJ/article/view/680/196\n",
      "https://rmrj.usjr.edu.ph/index.php/RMRJ/about/submissions\n",
      "https://usjr.edu.ph/wp-content/uploads/2022/05/Form-14-Approval-Sheet.docx\n"
     ]
    },
    {
     "name": "stderr",
     "output_type": "stream",
     "text": [
      "Some characters could not be decoded, and were replaced with REPLACEMENT CHARACTER.\n"
     ]
    },
    {
     "name": "stdout",
     "output_type": "stream",
     "text": [
      "https://usjr.edu.ph/2019/11/04/ched-renews-autonomous-status-of-usj-r/\n",
      "https://usjr.edu.ph/2019/04/11/official-statement-usj-r-condemns-shooting-incident-injuring-one-josenian-student-coffee-shop/\n",
      "https://usjr.edu.ph/2017/07/18/josenians-excel-international-travel-festival-2017/\n",
      "https://usjr.edu.ph/2018/05/31/two-josenians-top-cpa-passers-may-2018/\n",
      "https://usjr.edu.ph/2017/11/27/commerce-dean-receives-two-national-awards-month/\n",
      "https://usjr.edu.ph/2018/05/01/1st-r-e-s-c-u-e/\n",
      "https://usjr.edu.ph/tag/career-advancement/\n",
      "https://usjr.edu.ph/tag/professional-development/\n",
      "https://usjr.edu.ph/tag/scholarship/\n",
      "https://usjr.edu.ph/2017/08/07/usj-r-sends-1st-mechanical-engineering-student-intern-japan/\n",
      "https://usjr.edu.ph/2017/06/07/research-sets-pace/\n",
      "https://usjr.edu.ph/2017/06/06/usj-r-researchers-provide-training-external-contributors/\n",
      "https://edp.usjr.edu.ph/login/forgotPassword\n",
      "https://edp.usjr.edu.ph/login/register/\n",
      "https://edp.usjr.edu.ph/applicant/basiced/\n",
      "https://edp.usjr.edu.ph/applicant/postgrad/\n",
      "https://edp.usjr.edu.ph/applicant/cpar/\n",
      "https://edp.usjr.edu.ph/applicant/lawrev/\n",
      "https://edp.usjr.edu.ph/applicant/eteeap/\n",
      "https://edp.usjr.edu.ph/applicant/sped/\n",
      "https://edp.usjr.edu.ph/index/guidelines/\n",
      "https://edp.usjr.edu.ph/index/faq/\n",
      "https://usjr.edu.ph/2019/03/18/peac-tes-orientation/\n",
      "https://usjr.edu.ph/2019/03/24/500-josenians-complete-yma-program-implement-community-extension-projects/\n",
      "https://usjr.edu.ph/2016/10/03/usj-r-alumni-card-entitles-holder-to-discounts/\n",
      "https://usjr.edu.ph/2017/05/09/usj-r-hold-ed-tech-innovation-summit/\n",
      "https://usjr.edu.ph/2019/05/15/eighteen-finish-off-campus-mbm-program-eastern-visasyas/\n",
      "https://usjr.edu.ph/2019/05/29/fourteen-josenians-make-biggest-tapioca-dessert-world/\n",
      "https://usjr.edu.ph/2018/07/30/josenians-bag-12-awards-2018-cebu-accountancy-week/\n",
      "https://usjr.edu.ph/2017/08/01/junior-high-students-dance-advocate-health-wellness/\n",
      "https://usjr.edu.ph/2021/12/17/usj-r-ties-with-nqc-to-stream-philippine-international-quincentennial-conference/\n",
      "https://usjr.edu.ph/events/category/cas/page/3/\n",
      "https://usjr.edu.ph/events/event/audition-cas-words-music/\n",
      "https://usjr.edu.ph/events/event/national-psychometrician-summit/\n",
      "https://usjr.edu.ph/events/event/lecture-forum-nutrition-month-2/\n",
      "https://usjr.edu.ph/events/event/opening-academic-contest-buwan-ng-wika/\n",
      "https://usjr.edu.ph/events/event/seminar-gender-equity/\n",
      "https://usjr.edu.ph/events/event/career-assessment-sophomores/\n",
      "https://usjr.edu.ph/events/event/general-rehearsal-words-music/\n",
      "https://usjr.edu.ph/events/event/cas-words-music/\n",
      "https://usjr.edu.ph/events/event/departmental-seminars/\n",
      "https://usjr.edu.ph/portfolio/test-coeng-award/\n",
      "https://usjr.edu.ph/portfolio/responsive-services/\n",
      "https://usjr.edu.ph/events/category/cicct/page/3/\n",
      "https://usjr.edu.ph/events/event/cicct-acquaintance-party/\n",
      "https://usjr.edu.ph/events/event/career-assessment-sophomores-2/\n",
      "https://usjr.edu.ph/events/event/job-hunting-cicct/\n",
      "https://usjr.edu.ph/events/event/practicum-orientation-ojt-job-fair/\n",
      "https://usjr.edu.ph/events/event/job-fair/\n",
      "https://usjr.edu.ph/events/event/cicct-departmental-examination/\n",
      "https://usjr.edu.ph/events/event/it-seminar-2/\n",
      "https://usjr.edu.ph/events/event/it-seminar-3/\n",
      "https://usjr.edu.ph/events/event/midyear-planning/\n",
      "https://usjr.edu.ph/events/category/sdpc/page/2/\n",
      "https://usjr.edu.ph/events/event/pakighimamat/\n",
      "https://usjr.edu.ph/events/event/shs-practices-pakighimamat/\n",
      "https://usjr.edu.ph/events/category/senior-high-school/\n",
      "https://usjr.edu.ph/events/event/shs-practices-pakighimamat-2/\n",
      "https://usjr.edu.ph/events/event/shs-practices-pakighimamat-3/\n",
      "https://usjr.edu.ph/events/event/pakighimamat-practices/\n",
      "https://usjr.edu.ph/events/category/junior-high-school/\n",
      "https://usjr.edu.ph/events/event/shs-practices-pakighimamat-4/\n",
      "https://usjr.edu.ph/events/event/pakighimamat-general-rehearsal/\n",
      "https://usjr.edu.ph/events/category/grade-school/\n",
      "https://usjr.edu.ph/events/event/pakighimamat-practice/\n",
      "https://usjr.edu.ph/events/event/grade-school-pakighimamat/\n",
      "https://usjr.edu.ph/events/category/coc/page/2/\n",
      "https://usjr.edu.ph/events/event/commerce-week/\n",
      "https://usjr.edu.ph/events/event/jpmap-welcoming-josenians/\n",
      "https://usjr.edu.ph/events/event/junior-entrepreneurs-general-assembly/\n",
      "https://usjr.edu.ph/events/event/jbees-magkahi-usa-kita/\n",
      "https://usjr.edu.ph/events/event/jpia-campus-fresh/\n",
      "https://usjr.edu.ph/events/event/tco-first-general-assembly/\n",
      "https://usjr.edu.ph/events/event/jpia-first-general-assembly/\n",
      "https://usjr.edu.ph/events/event/jpmap-general-membership-meeting/\n",
      "https://usjr.edu.ph/events/event/jfinex-general-assembly/\n",
      "https://usjr.edu.ph/events/event/jbees-general-assembly/\n",
      "https://usjr.edu.ph/events/category/coeng/page/2/\n",
      "https://usjr.edu.ph/events/event/product-launching/\n",
      "https://usjr.edu.ph/events/event/ie-research-forum/\n",
      "https://usjr.edu.ph/events/event/engineering-officers-teambuilding/\n",
      "https://usjr.edu.ph/events/event/ee-general-assembly/\n",
      "https://usjr.edu.ph/events/event/cpe-freshmen-assembly/\n",
      "https://usjr.edu.ph/events/event/ce-freshmen-treat/\n",
      "https://usjr.edu.ph/events/event/ie-general-assembly/\n",
      "https://usjr.edu.ph/events/event/cpe-general-assembly/\n",
      "https://usjr.edu.ph/events/event/ee-acquaintance-party/\n",
      "https://usjr.edu.ph/events/event/engineering-sportsfest/\n",
      "https://usjr.edu.ph/events/category/con/page/2/\n",
      "https://usjr.edu.ph/events/event/orientation-bsn-students-manual/\n",
      "https://usjr.edu.ph/events/event/nursing-convocation/\n",
      "https://usjr.edu.ph/events/event/13th-capping-badge-investiture-candle-lighting-ceremony/\n",
      "https://usjr.edu.ph/events/event/bsn-days/\n",
      "https://usjr.edu.ph/events/event/poea-pre-employment-orientation-seminar/\n",
      "https://usjr.edu.ph/events/event/orientation-of-bsn-students-manual/\n",
      "https://usjr.edu.ph/news-events\n",
      "https://usjr.edu.ph/gen-info\n",
      "https://usjr.edu.ph/academics\n",
      "http://webdevteam@usjr.edu.ph\n",
      "https://usjr.edu.ph/2021/10/22/usj-r-elementary-department-releases-its-first-digital-magazine/\n",
      "https://usjr.edu.ph/2021/05/08/usj-r-holds-first-virtual-graduation-for-elementary-level/\n",
      "https://usjr.edu.ph/2020/02/07/environmentalists-discuss-philippine-social-realities-and-church-responses-in-usj-r/\n",
      "https://usjr.edu.ph/2020/01/16/josenian-wins-binibining-cebu-2020-crown/\n",
      "https://usjr.edu.ph/2019/12/19/unesco-accredited-orgs-in-usj-r-receive-awards/\n",
      "https://usjr.edu.ph/2019/11/27/4th-recoletos-international-research-congress-accept-abstracts-january-7-2020/\n",
      "https://usjr.edu.ph/2019/11/26/lady-jaguars-sweeps-way-claim-2019-volleyball-crown/\n",
      "https://usjr.edu.ph/2019/09/06/us-embassy-conducts-extensive-reading-seminar-workshop-usj-r/\n",
      "https://usjr.edu.ph/wp-content/uploads/2017/11/Desert-300x225.jpg\n"
     ]
    },
    {
     "name": "stderr",
     "output_type": "stream",
     "text": [
      "Some characters could not be decoded, and were replaced with REPLACEMENT CHARACTER.\n"
     ]
    },
    {
     "name": "stdout",
     "output_type": "stream",
     "text": [
      "https://usjr.edu.ph/wp-content/uploads/2017/08/post-photo2-300x200.jpg\n"
     ]
    },
    {
     "name": "stderr",
     "output_type": "stream",
     "text": [
      "Some characters could not be decoded, and were replaced with REPLACEMENT CHARACTER.\n"
     ]
    },
    {
     "name": "stdout",
     "output_type": "stream",
     "text": [
      "https://usjr.edu.ph/wp-content/uploads/2017/08/post-photo1-300x200.jpg\n"
     ]
    },
    {
     "name": "stderr",
     "output_type": "stream",
     "text": [
      "Some characters could not be decoded, and were replaced with REPLACEMENT CHARACTER.\n"
     ]
    },
    {
     "name": "stdout",
     "output_type": "stream",
     "text": [
      "https://usjr.edu.ph/wp-content/uploads/2017/08/featured-photo-1-300x200.jpg\n"
     ]
    },
    {
     "name": "stderr",
     "output_type": "stream",
     "text": [
      "Some characters could not be decoded, and were replaced with REPLACEMENT CHARACTER.\n"
     ]
    },
    {
     "name": "stdout",
     "output_type": "stream",
     "text": [
      "https://usjr.edu.ph/wp-content/uploads/2017/08/featured-photo-300x225.jpg\n"
     ]
    },
    {
     "name": "stderr",
     "output_type": "stream",
     "text": [
      "Some characters could not be decoded, and were replaced with REPLACEMENT CHARACTER.\n"
     ]
    },
    {
     "name": "stdout",
     "output_type": "stream",
     "text": [
      "https://usjr.edu.ph/wp-content/uploads/2017/08/CAAA-basketball-champs-300x200.jpg\n"
     ]
    },
    {
     "name": "stderr",
     "output_type": "stream",
     "text": [
      "Some characters could not be decoded, and were replaced with REPLACEMENT CHARACTER.\n"
     ]
    },
    {
     "name": "stdout",
     "output_type": "stream",
     "text": [
      "https://usjr.edu.ph/wp-content/uploads/2017/08/journal-grant-300x247.jpg\n"
     ]
    },
    {
     "name": "stderr",
     "output_type": "stream",
     "text": [
      "Some characters could not be decoded, and were replaced with REPLACEMENT CHARACTER.\n"
     ]
    },
    {
     "name": "stdout",
     "output_type": "stream",
     "text": [
      "https://usjr.edu.ph/wp-content/uploads/2017/12/USJR8012.jpg\n"
     ]
    },
    {
     "name": "stderr",
     "output_type": "stream",
     "text": [
      "Some characters could not be decoded, and were replaced with REPLACEMENT CHARACTER.\n"
     ]
    },
    {
     "name": "stdout",
     "output_type": "stream",
     "text": [
      "https://usjr.edu.ph/wp-content/uploads/2017/12/USJR7616.jpg\n"
     ]
    },
    {
     "name": "stderr",
     "output_type": "stream",
     "text": [
      "Some characters could not be decoded, and were replaced with REPLACEMENT CHARACTER.\n"
     ]
    },
    {
     "name": "stdout",
     "output_type": "stream",
     "text": [
      "https://usjr.edu.ph/wp-content/uploads/2017/12/USJR7977.jpg\n"
     ]
    },
    {
     "name": "stderr",
     "output_type": "stream",
     "text": [
      "Some characters could not be decoded, and were replaced with REPLACEMENT CHARACTER.\n"
     ]
    },
    {
     "name": "stdout",
     "output_type": "stream",
     "text": [
      "https://usjr.edu.ph/wp-content/uploads/2017/12/commerce-degree.png\n"
     ]
    },
    {
     "name": "stderr",
     "output_type": "stream",
     "text": [
      "Some characters could not be decoded, and were replaced with REPLACEMENT CHARACTER.\n"
     ]
    },
    {
     "name": "stdout",
     "output_type": "stream",
     "text": [
      "https://usjr.edu.ph/wp-content/uploads/2017/12/650A3872.jpg\n"
     ]
    },
    {
     "name": "stderr",
     "output_type": "stream",
     "text": [
      "Some characters could not be decoded, and were replaced with REPLACEMENT CHARACTER.\n"
     ]
    },
    {
     "name": "stdout",
     "output_type": "stream",
     "text": [
      "https://usjr.edu.ph/wp-content/uploads/2017/12/650A3834.jpg\n"
     ]
    },
    {
     "name": "stderr",
     "output_type": "stream",
     "text": [
      "Some characters could not be decoded, and were replaced with REPLACEMENT CHARACTER.\n"
     ]
    },
    {
     "name": "stdout",
     "output_type": "stream",
     "text": [
      "https://usjr.edu.ph/wp-content/uploads/2017/08/post-photo2.jpg\n"
     ]
    },
    {
     "name": "stderr",
     "output_type": "stream",
     "text": [
      "Some characters could not be decoded, and were replaced with REPLACEMENT CHARACTER.\n"
     ]
    },
    {
     "name": "stdout",
     "output_type": "stream",
     "text": [
      "http://beta.usjr.edu.ph/cas/\n",
      "http://beta.usjr.edu.ph/coeng/\n",
      "http://beta.usjr.edu.ph/con/\n",
      "http://beta.usjr.edu.ph/law/\n",
      "http://beta.usjr.edu.ph/etteap\n",
      "http://beta.usjr.edu.ph/rittc\n",
      "http://opac.usjr.edu.ph:8080/\n",
      "http://beta.usjr.edu.ph/library\n",
      "https://usjr.edu.ph/library/usjr-library-services/\n",
      "https://usjr.edu.ph/wp-content/uploads/2016/05/commerce-1-1024x768.png\n"
     ]
    },
    {
     "name": "stderr",
     "output_type": "stream",
     "text": [
      "Some characters could not be decoded, and were replaced with REPLACEMENT CHARACTER.\n"
     ]
    },
    {
     "name": "stdout",
     "output_type": "stream",
     "text": [
      "https://usjr.edu.ph/wp-content/uploads/2016/06/OEAM8427-1024x683.jpg\n"
     ]
    },
    {
     "name": "stderr",
     "output_type": "stream",
     "text": [
      "Some characters could not be decoded, and were replaced with REPLACEMENT CHARACTER.\n"
     ]
    },
    {
     "name": "stdout",
     "output_type": "stream",
     "text": [
      "https://usjr.edu.ph/wp-content/uploads/2016/04/OEAM8412-1024x683.jpg\n"
     ]
    },
    {
     "name": "stderr",
     "output_type": "stream",
     "text": [
      "Some characters could not be decoded, and were replaced with REPLACEMENT CHARACTER.\n"
     ]
    },
    {
     "name": "stdout",
     "output_type": "stream",
     "text": [
      "https://usjr.edu.ph/wp-content/uploads/2016/05/EAL9370-1024x683.jpg\n"
     ]
    },
    {
     "name": "stderr",
     "output_type": "stream",
     "text": [
      "Some characters could not be decoded, and were replaced with REPLACEMENT CHARACTER.\n"
     ]
    },
    {
     "name": "stdout",
     "output_type": "stream",
     "text": [
      "https://usjr.edu.ph/research/research-abstracts/page/2/\n",
      "https://usjr.edu.ph/research/research-abstracts/page/3/\n",
      "https://usjr.edu.ph/research/research-abstracts/page/4/\n",
      "https://usjr.edu.ph/research/research-abstracts/page/6/\n",
      "https://usjr.edu.ph/wp-content/uploads/2022/05/Form-14-Approval-Sheet-1.docx\n"
     ]
    },
    {
     "name": "stderr",
     "output_type": "stream",
     "text": [
      "Some characters could not be decoded, and were replaced with REPLACEMENT CHARACTER.\n"
     ]
    },
    {
     "name": "stdout",
     "output_type": "stream",
     "text": [
      "http://beta.usjr.edu.ph/coeng\n",
      "http://beta.usjr.edu.ph/coeng/degrees/undergraduate/bsece/\n",
      "http://beta.usjr.edu.ph/cicct/degrees/graduate/\n",
      "https://usjr.edu.ph/library/services/\n",
      "https://usjr.edu.ph/coc/degrees/undergraduate\n",
      "https://usjr.edu.ph/coc/degrees/graduate\n",
      "https://usjr.edu.ph/admissions\n",
      "https://usjr.edu.ph/coc/hall-of-fame\n",
      "https://usjr.edu.ph/category/coc\n",
      "https://usjr.edu.ph/coc/about\n",
      "https://usjr.edu.ph/coc/degrees\n",
      "https://usjr.edu.ph/coc/clubs-and-organizations/\n",
      "https://usjr.edu.ph/coc/faculty-and-staff/\n",
      "https://usjr.edu.ph/coc/partners\n",
      "https://usjr.edu.ph/coc/events/\n",
      "https://usjr.edu.ph/cicct/degrees/undergraduate/\n",
      "https://usjr.edu.ph/cicct/degrees/graduate/\n",
      "https://usjr.edu.ph/cicct/about\n",
      "https://usjr.edu.ph/cicct/hall-of-fame\n",
      "https://usjr.edu.ph/cicct/degrees\n",
      "https://usjr.edu.ph/cicct/clubs-and-organizations/\n",
      "https://usjr.edu.ph/cicct/faculty-and-staff/\n",
      "https://usjr.edu.ph/cicct/hall-of-fame/\n",
      "https://usjr.edu.ph/cicct/partners\n",
      "https://usjr.edu.ph/cicct/events/\n",
      "https://usjr.edu.ph/2023/\n",
      "https://usjr.edu.ph/tag/calendar/\n",
      "https://usjr.edu.ph/tag/discount/\n",
      "https://usjr.edu.ph/tag/how-to/\n",
      "https://usjr.edu.ph/2022/\n",
      "https://usjr.edu.ph/tag/supply-management/\n",
      "https://usjr.edu.ph/tag/aerial/\n",
      "https://usjr.edu.ph/tag/drone/\n",
      "https://usjr.edu.ph/tag/usjr-at-75/\n",
      "https://usjr.edu.ph/tag/magazine/\n",
      "https://usjr.edu.ph/tag/pdf/\n",
      "https://usjr.edu.ph/tag/restless-heart/\n",
      "https://usjr.edu.ph/tag/installation/\n",
      "https://usjr.edu.ph/tag/investiture/\n",
      "https://usjr.edu.ph/tag/president/\n",
      "https://usjr.edu.ph/tag/health-and-safety-protocols/\n",
      "https://usjr.edu.ph/tag/student-publication/\n",
      "https://usjr.edu.ph/tag/renew/\n",
      "https://usjr.edu.ph/tag/sacerdotal/\n",
      "https://usjr.edu.ph/tag/conflict/\n",
      "https://usjr.edu.ph/tag/russia/\n",
      "https://usjr.edu.ph/tag/statement/\n",
      "https://usjr.edu.ph/tag/ukraine/\n",
      "https://usjr.edu.ph/tag/war/\n",
      "https://usjr.edu.ph/tag/best/\n",
      "https://usjr.edu.ph/tag/business-school/\n",
      "https://usjr.edu.ph/tag/ja/\n",
      "https://usjr.edu.ph/2021/\n",
      "https://usjr.edu.ph/tag/campus/\n",
      "https://usjr.edu.ph/tag/cebu-city/\n",
      "https://usjr.edu.ph/tag/colon/\n",
      "https://usjr.edu.ph/tag/new/\n",
      "https://usjr.edu.ph/2020/\n",
      "https://usjr.edu.ph/tag/services/\n",
      "https://usjr.edu.ph/tag/student/\n",
      "https://usjr.edu.ph/tag/support/\n",
      "https://usjr.edu.ph/tag/heartsolidaritycampaign-greenliving-infecop-catholic/\n",
      "https://usjr.edu.ph/tag/international-conference/\n",
      "https://usjr.edu.ph/tag/binibiningcebu-beatriceluigigomez/\n",
      "https://usjr.edu.ph/tag/formerstudent/\n",
      "https://usjr.edu.ph/2019/\n",
      "https://usjr.edu.ph/tag/christmas/\n",
      "https://usjr.edu.ph/tag/community-outreach-program/\n",
      "https://usjr.edu.ph/tag/danao/\n",
      "https://usjr.edu.ph/tag/gifts-and-goodies/\n",
      "https://usjr.edu.ph/tag/infecop/\n",
      "https://usjr.edu.ph/tag/maslug/\n",
      "https://usjr.edu.ph/tag/sharing/\n",
      "https://usjr.edu.ph/tag/press-release/\n",
      "https://usjr.edu.ph/tag/conference/\n",
      "https://usjr.edu.ph/tag/scouting/\n",
      "https://usjr.edu.ph/tag/scoutmasterdamazo/\n",
      "https://usjr.edu.ph/tag/commerce-tatakcommerce/\n",
      "https://usjr.edu.ph/tag/intrams-2019/\n",
      "https://usjr.edu.ph/tag/extensivereading/\n",
      "https://usjr.edu.ph/tag/usembassy/\n",
      "https://usjr.edu.ph/tag/top/\n",
      "https://usjr.edu.ph/2019/09/03/josenian-bags-siklab-award-in-manila/\n",
      "https://usjr.edu.ph/tag/enggrande/\n",
      "https://usjr.edu.ph/tag/recoletos-de-cebu-sportsfest/\n",
      "https://usjr.edu.ph/tag/itf/\n",
      "https://usjr.edu.ph/tag/pageant/\n",
      "https://usjr.edu.ph/tag/tourism/\n",
      "https://usjr.edu.ph/tag/champion/\n",
      "https://usjr.edu.ph/tag/level-2/\n",
      "https://usjr.edu.ph/tag/picpa/\n",
      "https://usjr.edu.ph/2019/07/15/university-utilizes-website-online-event-booking/\n",
      "https://usjr.edu.ph/tag/booking/\n",
      "https://usjr.edu.ph/tag/event/\n",
      "https://usjr.edu.ph/tag/online/\n",
      "https://usjr.edu.ph/tag/recollection/\n",
      "https://usjr.edu.ph/tag/free/\n",
      "https://usjr.edu.ph/tag/german/\n",
      "https://usjr.edu.ph/tag/language-class/\n",
      "https://usjr.edu.ph/tag/bridge/\n",
      "https://usjr.edu.ph/tag/parking/\n",
      "https://usjr.edu.ph/tag/denr/\n",
      "https://usjr.edu.ph/tag/ecobus/\n",
      "https://usjr.edu.ph/tag/environment/\n",
      "https://usjr.edu.ph/2019/06/26/university-president-names-five-new-lay-administrators-ay-2019-2020/\n",
      "https://usjr.edu.ph/tag/lay-admin/\n",
      "https://usjr.edu.ph/tag/org-chart/\n",
      "https://usjr.edu.ph/tag/concessionaires/\n",
      "https://usjr.edu.ph/tag/food-safety/\n",
      "https://usjr.edu.ph/tag/orientation/\n",
      "https://usjr.edu.ph/tag/beauty-queen/\n",
      "https://usjr.edu.ph/tag/gazini-ganados/\n",
      "https://usjr.edu.ph/tag/talavera-house-of-prayer/\n",
      "https://usjr.edu.ph/tag/biggest-dessert/\n",
      "https://usjr.edu.ph/tag/culinary/\n",
      "https://usjr.edu.ph/tag/world-record/\n",
      "https://usjr.edu.ph/tag/review/\n",
      "https://usjr.edu.ph/tag/app/\n",
      "https://usjr.edu.ph/tag/car-space/\n",
      "https://usjr.edu.ph/2019/05/14/josenian-grad-proposes-girlfriend-eteeap-graduation-day/\n",
      "https://usjr.edu.ph/2019/04/24/usj-r-trains-employees-disaster-preparedness/\n",
      "https://usjr.edu.ph/tag/official-statement/\n",
      "https://usjr.edu.ph/tag/ceap/\n",
      "https://usjr.edu.ph/tag/summit/\n",
      "https://usjr.edu.ph/tag/dota/\n",
      "https://usjr.edu.ph/tag/tournament/\n",
      "https://usjr.edu.ph/2019/02/25/usj-r-college-arts-sciences-celebrates-72nd-anniversary/\n",
      "https://usjr.edu.ph/tag/speechfest/\n",
      "https://usjr.edu.ph/tag/augustinian-recollects/\n",
      "https://usjr.edu.ph/tag/disaster/\n",
      "https://usjr.edu.ph/2019/02/16/cash-gc-anti-envelopmental-journalism-campaign-turned-adopted-community/\n",
      "https://usjr.edu.ph/2019/02/15/application-new-zealand-post-graduate-scholarships-now-open/\n",
      "https://usjr.edu.ph/tag/feature/\n",
      "https://usjr.edu.ph/tag/cambridge-university/\n",
      "https://usjr.edu.ph/tag/educator/\n",
      "https://usjr.edu.ph/tag/teacher/\n",
      "https://usjr.edu.ph/2019/02/page/2/\n",
      "https://usjr.edu.ph/2019/01/08/usjr-local-number-directory/\n",
      "https://usjr.edu.ph/tag/josenian/\n",
      "https://usjr.edu.ph/tag/let-2018/\n",
      "https://usjr.edu.ph/2018/\n",
      "https://usjr.edu.ph/2018/11/30/year-2018-back-back-awards-cibo-leadership-president-dr-gregg-victor-gabison-dean-cicct-usj-r/\n",
      "https://usjr.edu.ph/2018/11/17/josenian-ranks-first-among-october-2018-psychometrician-topnotchers-cebu/\n",
      "https://usjr.edu.ph/tag/board-exam/\n",
      "https://usjr.edu.ph/tag/psychology/\n",
      "https://usjr.edu.ph/tag/psychometrician/\n",
      "https://usjr.edu.ph/2018/10/21/ibp-organized-4th-justice-forum-usj-r/\n",
      "https://usjr.edu.ph/tag/extra-judicial-killings/\n",
      "https://usjr.edu.ph/tag/icc/\n",
      "https://usjr.edu.ph/tag/integrated-bar-of-the-philippines/\n",
      "https://usjr.edu.ph/tag/justice-forum/\n",
      "https://usjr.edu.ph/tag/withdrawal-from-the-international-criminal-court/\n",
      "https://usjr.edu.ph/tag/competition/\n",
      "https://usjr.edu.ph/tag/interscholastic-robotics-competition/\n",
      "https://usjr.edu.ph/tag/department-of-tourism/\n",
      "https://usjr.edu.ph/tag/festival/\n",
      "https://usjr.edu.ph/tag/hotel-management/\n",
      "https://usjr.edu.ph/tag/intrams/\n",
      "https://usjr.edu.ph/tag/intramurals/\n",
      "https://usjr.edu.ph/tag/results/\n",
      "https://usjr.edu.ph/tag/mural-painting/\n",
      "https://usjr.edu.ph/tag/student-leaders/\n",
      "https://usjr.edu.ph/tag/fun-run/\n",
      "https://usjr.edu.ph/tag/fund-raising/\n",
      "https://usjr.edu.ph/tag/recoletos-run/\n",
      "https://usjr.edu.ph/tag/cebu-federation/\n",
      "https://usjr.edu.ph/2018/07/20/university-celebrates-religious-affairs-week-2018/\n",
      "https://usjr.edu.ph/tag/administation/\n",
      "https://usjr.edu.ph/tag/order-of-the-augustinian-recollects/\n",
      "https://usjr.edu.ph/tag/recoletos-coliseum/\n",
      "https://usjr.edu.ph/2018/06/03/cicct-visits-taiwan-universities-research-collaboration/\n",
      "https://usjr.edu.ph/2018/06/03/cicct-wins-national-pitching-contest-back-back/\n",
      "https://usjr.edu.ph/tag/may-2018/\n",
      "https://usjr.edu.ph/tag/philippine-institute-of-certified-public-accountants/\n",
      "https://usjr.edu.ph/2018/05/05/usj-r-best-local-jpia-chapter/\n",
      "https://usjr.edu.ph/tag/7th-provincial-chapter/\n",
      "https://usjr.edu.ph/tag/ezekiel-moreno/\n",
      "https://usjr.edu.ph/tag/fray-dionisio-selma/\n",
      "https://usjr.edu.ph/tag/prior-provincial/\n",
      "https://usjr.edu.ph/2018/05/01/josenian-graduate-passes-foreign-service-officer-fso-examination/\n",
      "https://usjr.edu.ph/tag/foreign-service-officer-exam/\n",
      "https://usjr.edu.ph/tag/international-studies/\n",
      "https://usjr.edu.ph/tag/emergency-services/\n",
      "https://usjr.edu.ph/tag/ems/\n",
      "https://usjr.edu.ph/tag/new-zealand/\n",
      "https://usjr.edu.ph/tag/scholarships/\n",
      "https://usjr.edu.ph/2018/01/17/accenture-visits-usj-r/\n",
      "https://usjr.edu.ph/2017/\n",
      "https://usjr.edu.ph/tag/dean/\n",
      "https://usjr.edu.ph/2017/09/28/usj-r-builds-bakeshop-behind-bars/\n",
      "https://usjr.edu.ph/tag/dance/\n",
      "https://usjr.edu.ph/tag/junior-high/\n",
      "https://usjr.edu.ph/tag/nutrition/\n",
      "https://usjr.edu.ph/tag/campus-journalism/\n"
     ]
    },
    {
     "name": "stdout",
     "output_type": "stream",
     "text": [
      "https://usjr.edu.ph/tag/international-travel-festival/\n",
      "https://usjr.edu.ph/tag/usjrshsadvocates4peace/\n",
      "https://usjr.edu.ph/tag/advocacy/\n",
      "https://usjr.edu.ph/tag/formation/\n",
      "https://usjr.edu.ph/tag/human-peace-sign/\n",
      "https://usjr.edu.ph/tag/peace/\n",
      "https://usjr.edu.ph/2017/07/04/graduate-school-additional-off-campus-site-mepz/\n",
      "https://usjr.edu.ph/tag/masters-degree-program/\n",
      "https://usjr.edu.ph/tag/off-campus/\n",
      "https://usjr.edu.ph/2017/06/19/8033/\n",
      "https://usjr.edu.ph/2017/06/08/usj-r-opens-off-campus-masteral-program-region-viii/\n",
      "https://usjr.edu.ph/tag/masteral-program/\n",
      "https://usjr.edu.ph/tag/region-8/\n",
      "https://usjr.edu.ph/2017/05/31/usj-r-scores-3-cpa-topnotchers/\n",
      "https://usjr.edu.ph/2017/05/30/cicct-concluded-forward-startup-demo-day-2017/\n",
      "https://usjr.edu.ph/2017/05/30/jpia-usj-r-named-outstanding-local-chapter/\n",
      "https://usjr.edu.ph/tag/cebu-chapter/\n",
      "https://usjr.edu.ph/tag/local-chapter/\n",
      "https://usjr.edu.ph/tag/teacher-education/\n",
      "https://usjr.edu.ph/2017/05/08/josenians-develop-app-bridge-blood-supply-demand/\n",
      "https://usjr.edu.ph/tag/development-program/\n",
      "https://usjr.edu.ph/2017/03/27/usj-r-holds-1st-recoletos-film-fest/\n",
      "https://usjr.edu.ph/2017/03/21/usj-r-launches-food-sharing-program-poor/\n",
      "https://usjr.edu.ph/2017/03/13/usj-r-now-testing-venue-ielts/\n",
      "https://usjr.edu.ph/2017/03/02/usj-r-inks-exchange-student-deal-hiroshima-based-school/\n",
      "https://usjr.edu.ph/2017/02/13/usj-r-partners-with-colombian-sister-school/\n",
      "https://usjr.edu.ph/2017/02/12/engineering-students-sent-to-japan-for-technology-immersion/\n",
      "https://usjr.edu.ph/2017/02/08/21-japanese-execs-drop-by-usj-r-for-business-mission/\n",
      "https://usjr.edu.ph/2017/02/05/usj-r-forges-link-with-ausn-for-scholarly-exchange/\n",
      "https://usjr.edu.ph/2017/01/24/usj-r-to-hold-training-on-ethical-research-practices/\n",
      "https://usjr.edu.ph/2016/\n",
      "https://usjr.edu.ph/2016/12/11/christmas-message-from-the-president/\n",
      "https://usjr.edu.ph/2016/12/10/josenian-filmmakers-dominate-national-film-fests/\n",
      "https://usjr.edu.ph/2016/11/14/usj-r-rules-2nd-visayas-universities-debate-championship/\n",
      "https://usjr.edu.ph/2016/10/23/usj-r-admin-gifts-pope-francis-with-painting/\n",
      "https://usjr.edu.ph/2016/10/12/usj-r-helps-lady-inmates-get-ncii/\n",
      "https://usjr.edu.ph/tag/jamie-herrell/\n",
      "https://usjr.edu.ph/tag/miss-earth/\n",
      "https://usjr.edu.ph/tag/miss-philippines-earth/\n",
      "https://usjr.edu.ph/tag/nature-preservation/\n",
      "https://usjr.edu.ph/tag/alumni-crown-regency-alota-union-galva-steel-usj-r/\n",
      "https://usjr.edu.ph/2016/09/30/usj-r-to-engage-japanese-school-in-exchange-program/\n",
      "https://usjr.edu.ph/2016/09/30/usj-r-holds-4th-recoletos-run/\n",
      "https://usjr.edu.ph/2016/09/05/usj-r-among-top-performing-schools-has-4-cpa-topnotchers/\n",
      "https://usjr.edu.ph/2016/09/05/usj-r-forges-pact-with-mitsumi-for-robotics-engineering-class/\n",
      "https://usjr.edu.ph/2016/08/23/recollects-dedicate-first-ecopark-to-mary-2/\n",
      "https://usjr.edu.ph/2016/07/04/4-teams-among-the-semi-finalists-for-the-accenture-program-the-future/\n",
      "https://usjr.edu.ph/2016/07/04/cicct-won-2nd-runner-up-in-12-th-smart-sweep/\n",
      "https://usjr.edu.ph/2016/07/04/cicct-recognized-by-ched-as-center-of-excellence-for-i-t-education/\n",
      "https://usjr.edu.ph/2016/07/04/cicct-produces-another-batch-of-philnits-passers/\n",
      "https://usjr.edu.ph/2016/07/04/cicct-awards-new-batch-of-ibm-db2-passers-2/\n",
      "https://usjr.edu.ph/2016/05/30/cicct-elevated-to-center-of-excellence-status/\n",
      "https://usjr.edu.ph/2016/05/12/future-entrepreneurs-engage-in-go-negosyo-creativity-and-innovation-summit-2014/\n",
      "https://usjr.edu.ph/2016/05/12/jbees-exudes-black-and-white-fever/\n",
      "https://usjr.edu.ph/2016/05/12/commerce-week-2015-a-cut-above-the-rest/\n",
      "https://usjr.edu.ph/2016/05/12/jaguar-jpians-dominate-cfjpia-2015/\n",
      "https://usjr.edu.ph/2016/05/12/hms-wins-back-spotlight-2016-battle-of-the-wild/\n",
      "https://usjr.edu.ph/2016/05/12/jems-and-tco-rep-win-mr-and-ms-commerce-2016/\n",
      "https://usjr.edu.ph/2016/05/11/80-deped-teachers-awarded-mtb-mle-certificates/\n",
      "https://usjr.edu.ph/2016/05/11/mega-cebus-teachers-competition-flash-cards-for-better-education/\n",
      "https://usjr.edu.ph/2016/05/11/home-about-programs-faculty-students-facilities-search-usj-r-coe-microsoft-recognizes-two-usj-r-coe-profs-for-ambassadors-program/\n",
      "https://usjr.edu.ph/2016/05/page/2/\n",
      "https://usjr.edu.ph/2016/04/29/usj-r-admin-is-first-filipino-green-ring-awardee/\n",
      "https://usjr.edu.ph/tag/climate-reality-leader-award/\n",
      "https://usjr.edu.ph/tag/filipino/\n",
      "https://usjr.edu.ph/tag/green-ring/\n",
      "https://usjr.edu.ph/2016/04/29/usj-r-usc-ctu-sign-pact-for-monozukuri-training/\n",
      "https://usjr.edu.ph/2016/04/23/usj-r-summer-enrollment-2016/\n",
      "https://usjr.edu.ph/2016/04/23/pert-taps-usj-r-for-off-campus-management-program/\n",
      "https://usjr.edu.ph/2016/04/23/ched-renews-excellence-status-of-usj-r-teacher-education/\n",
      "https://usjr.edu.ph/2010/\n",
      "https://usjr.edu.ph/2010/06/26/balamban-campus/\n",
      "https://usjr.edu.ph/2010/06/26/basak-campus/\n",
      "https://usjr.edu.ph/2010/06/26/main-campus/\n",
      "https://usjr.edu.ph/category/alumni/page/2/\n",
      "https://usjr.edu.ph/category/alumni/page/3/\n",
      "https://usjr.edu.ph/category/announcement/page/2/\n",
      "https://usjr.edu.ph/category/announcement/page/3/\n",
      "https://usjr.edu.ph/category/announcement/page/4/\n",
      "https://usjr.edu.ph/category/announcement/page/6/\n",
      "https://usjr.edu.ph/category/basak-campus/page/2/\n",
      "https://usjr.edu.ph/category/basak-campus/page/3/\n",
      "https://usjr.edu.ph/category/basak-campus/page/4/\n",
      "https://usjr.edu.ph/category/commerce/page/2/\n",
      "https://usjr.edu.ph/category/commerce/page/3/\n",
      "https://usjr.edu.ph/category/commerce/page/4/\n",
      "https://usjr.edu.ph/category/community/page/2/\n",
      "https://usjr.edu.ph/category/education/page/2/\n",
      "https://usjr.edu.ph/category/education/page/3/\n",
      "https://usjr.edu.ph/category/education/page/4/\n",
      "https://usjr.edu.ph/category/education-news/page/2/\n",
      "https://usjr.edu.ph/category/education-news/page/3/\n",
      "https://usjr.edu.ph/category/events/page/2/\n",
      "https://usjr.edu.ph/category/events/page/3/\n",
      "https://usjr.edu.ph/category/events/page/4/\n",
      "https://usjr.edu.ph/category/events/page/5/\n",
      "https://usjr.edu.ph/category/features/page/2/\n",
      "https://usjr.edu.ph/category/features/page/3/\n",
      "https://usjr.edu.ph/category/infecop/page/2/\n",
      "https://usjr.edu.ph/category/institutional/page/2/\n",
      "https://usjr.edu.ph/category/institutional/page/3/\n",
      "https://usjr.edu.ph/category/institutional/page/4/\n",
      "https://usjr.edu.ph/category/institutional/page/11/\n",
      "https://usjr.edu.ph/category/junior-high/page/2/\n",
      "https://usjr.edu.ph/category/law/page/2/\n",
      "https://usjr.edu.ph/category/main-campus/page/2/\n",
      "https://usjr.edu.ph/category/main-campus/page/3/\n",
      "https://usjr.edu.ph/category/main-campus/page/4/\n",
      "https://usjr.edu.ph/category/main-campus/page/8/\n",
      "https://usjr.edu.ph/category/news/page/2/\n",
      "https://usjr.edu.ph/category/news/page/3/\n",
      "https://usjr.edu.ph/category/news/page/4/\n",
      "https://usjr.edu.ph/category/news/page/14/\n",
      "https://usjr.edu.ph/category/partners/page/2/\n",
      "https://usjr.edu.ph/category/partnership/page/2/\n",
      "https://usjr.edu.ph/category/press-release/page/2/\n",
      "https://usjr.edu.ph/category/press-release/page/3/\n",
      "https://usjr.edu.ph/category/press-release/page/4/\n",
      "https://usjr.edu.ph/category/press-release/page/5/\n",
      "https://usjr.edu.ph/category/sams/page/2/\n",
      "https://usjr.edu.ph/category/sas/page/2/\n",
      "https://usjr.edu.ph/category/sas/page/3/\n",
      "https://usjr.edu.ph/category/sas/page/4/\n",
      "https://usjr.edu.ph/category/sba/page/2/\n",
      "https://usjr.edu.ph/category/scs/page/2/\n",
      "https://usjr.edu.ph/category/scs/page/3/\n",
      "https://usjr.edu.ph/category/scs/page/4/\n",
      "https://usjr.edu.ph/category/senior-high/page/2/\n",
      "https://usjr.edu.ph/category/senior-high/page/3/\n",
      "https://usjr.edu.ph/category/soe/page/2/\n",
      "https://usjr.edu.ph/category/soe/page/3/\n",
      "https://usjr.edu.ph/category/soeng/page/2/\n",
      "https://usjr.edu.ph/category/soeng/page/3/\n",
      "https://usjr.edu.ph/category/uncategorized/page/2/\n",
      "https://usjr.edu.ph/category/uncategorized/page/3/\n",
      "https://usjr.edu.ph/category/uncategorized/page/4/\n",
      "https://usjr.edu.ph/events/category/coe/page/3/\n",
      "https://usjr.edu.ph/events/event/2-nd-coe-pta-general-assembly-family-day/\n",
      "https://usjr.edu.ph/events/event/teambuilding-coe-4-th-year-students/\n",
      "https://usjr.edu.ph/events/event/coe-culminating-activity-nutrition-month-sports-festival/\n",
      "https://usjr.edu.ph/events/event/coe-community-practice/\n",
      "https://usjr.edu.ph/events/event/marian-tribute-teachers-day-2018/\n",
      "https://usjr.edu.ph/events/event/coe-buwan-ng-wika-kulminasyon/\n"
     ]
    },
    {
     "name": "stdout",
     "output_type": "stream",
     "text": [
      "https://usjr.edu.ph/events/event/job-hunting-coe/\n",
      "https://usjr.edu.ph/portfolio/college-of-nursing/\n",
      "https://usjr.edu.ph/portfolio/etteap/\n",
      "https://usjr.edu.ph/portfolio/senior-high-school/\n",
      "https://usjr.edu.ph/portfolio/test-shs-award/\n",
      "https://usjr.edu.ph/portfolio/test-eteeap-award/\n",
      "https://usjr.edu.ph/wp-content/uploads/2018/08/39253677_253302161957353_2750166816488184023_n.mp4\n"
     ]
    },
    {
     "name": "stderr",
     "output_type": "stream",
     "text": [
      "Some characters could not be decoded, and were replaced with REPLACEMENT CHARACTER.\n"
     ]
    },
    {
     "name": "stdout",
     "output_type": "stream",
     "text": [
      "https://usjr.edu.ph/2016/05/11/usj-r-coe-supports-innovative-teacher-trainings-nationwide/\n",
      "https://usjr.edu.ph/tag/bachelor-of-education/\n",
      "https://usjr.edu.ph/tag/center-of-excellence/\n",
      "https://usjr.edu.ph/tag/usj-r-coe/\n",
      "https://usjr.edu.ph/wp-content/uploads/2016/09/IMG_8342.jpg\n"
     ]
    },
    {
     "name": "stderr",
     "output_type": "stream",
     "text": [
      "Some characters could not be decoded, and were replaced with REPLACEMENT CHARACTER.\n"
     ]
    },
    {
     "name": "stdout",
     "output_type": "stream",
     "text": [
      "https://usjr.edu.ph/wp-content/uploads/2016/09/IMG_8347.jpg\n"
     ]
    },
    {
     "name": "stderr",
     "output_type": "stream",
     "text": [
      "Some characters could not be decoded, and were replaced with REPLACEMENT CHARACTER.\n"
     ]
    },
    {
     "name": "stdout",
     "output_type": "stream",
     "text": [
      "https://usjr.edu.ph/wp-content/uploads/2016/09/IMG_8352.jpg\n"
     ]
    },
    {
     "name": "stderr",
     "output_type": "stream",
     "text": [
      "Some characters could not be decoded, and were replaced with REPLACEMENT CHARACTER.\n"
     ]
    },
    {
     "name": "stdout",
     "output_type": "stream",
     "text": [
      "https://usjr.edu.ph/wp-content/uploads/2016/09/IMG_8353.jpg\n"
     ]
    },
    {
     "name": "stderr",
     "output_type": "stream",
     "text": [
      "Some characters could not be decoded, and were replaced with REPLACEMENT CHARACTER.\n"
     ]
    },
    {
     "name": "stdout",
     "output_type": "stream",
     "text": [
      "https://usjr.edu.ph/wp-content/uploads/2016/09/IMG_8358.jpg\n"
     ]
    },
    {
     "name": "stderr",
     "output_type": "stream",
     "text": [
      "Some characters could not be decoded, and were replaced with REPLACEMENT CHARACTER.\n"
     ]
    },
    {
     "name": "stdout",
     "output_type": "stream",
     "text": [
      "https://usjr.edu.ph/wp-content/uploads/2016/09/IMG_8367.jpg\n"
     ]
    },
    {
     "name": "stderr",
     "output_type": "stream",
     "text": [
      "Some characters could not be decoded, and were replaced with REPLACEMENT CHARACTER.\n"
     ]
    },
    {
     "name": "stdout",
     "output_type": "stream",
     "text": [
      "https://usjr.edu.ph/wp-content/uploads/2016/09/IMG_8329-300x200.jpg\n"
     ]
    },
    {
     "name": "stderr",
     "output_type": "stream",
     "text": [
      "Some characters could not be decoded, and were replaced with REPLACEMENT CHARACTER.\n"
     ]
    },
    {
     "name": "stdout",
     "output_type": "stream",
     "text": [
      "https://usjr.edu.ph/wp-content/uploads/2016/09/IMG_8341.jpg\n"
     ]
    },
    {
     "name": "stderr",
     "output_type": "stream",
     "text": [
      "Some characters could not be decoded, and were replaced with REPLACEMENT CHARACTER.\n"
     ]
    },
    {
     "name": "stdout",
     "output_type": "stream",
     "text": [
      "https://usjr.edu.ph/wp-content/uploads/2016/11/SAM_4359.jpg\n"
     ]
    },
    {
     "name": "stderr",
     "output_type": "stream",
     "text": [
      "Some characters could not be decoded, and were replaced with REPLACEMENT CHARACTER.\n"
     ]
    },
    {
     "name": "stdout",
     "output_type": "stream",
     "text": [
      "https://usjr.edu.ph/wp-content/uploads/2016/11/SAM_4364.jpg\n"
     ]
    },
    {
     "name": "stderr",
     "output_type": "stream",
     "text": [
      "Some characters could not be decoded, and were replaced with REPLACEMENT CHARACTER.\n"
     ]
    },
    {
     "name": "stdout",
     "output_type": "stream",
     "text": [
      "https://usjr.edu.ph/wp-content/uploads/2016/11/SAM_4364-300x179-1.jpg\n"
     ]
    },
    {
     "name": "stderr",
     "output_type": "stream",
     "text": [
      "Some characters could not be decoded, and were replaced with REPLACEMENT CHARACTER.\n"
     ]
    },
    {
     "name": "stdout",
     "output_type": "stream",
     "text": [
      "https://usjr.edu.ph/wp-content/uploads/2016/11/SAM_4368.jpg\n"
     ]
    },
    {
     "name": "stderr",
     "output_type": "stream",
     "text": [
      "Some characters could not be decoded, and were replaced with REPLACEMENT CHARACTER.\n"
     ]
    },
    {
     "name": "stdout",
     "output_type": "stream",
     "text": [
      "https://usjr.edu.ph/wp-content/uploads/2016/11/SAM_4408.jpg\n"
     ]
    },
    {
     "ename": "KeyboardInterrupt",
     "evalue": "",
     "output_type": "error",
     "traceback": [
      "\u001b[0;31m---------------------------------------------------------------------------\u001b[0m",
      "\u001b[0;31mKeyboardInterrupt\u001b[0m                         Traceback (most recent call last)",
      "Cell \u001b[0;32mIn[1], line 68\u001b[0m\n\u001b[1;32m     65\u001b[0m             to_visit_writer\u001b[38;5;241m.\u001b[39mwriterows([link] \u001b[38;5;28;01mfor\u001b[39;00m link \u001b[38;5;129;01min\u001b[39;00m to_visit)\n\u001b[1;32m     67\u001b[0m \u001b[38;5;28;01mif\u001b[39;00m \u001b[38;5;18m__name__\u001b[39m \u001b[38;5;241m==\u001b[39m \u001b[38;5;124m\"\u001b[39m\u001b[38;5;124m__main__\u001b[39m\u001b[38;5;124m\"\u001b[39m:\n\u001b[0;32m---> 68\u001b[0m     \u001b[43mget_all_website_links\u001b[49m\u001b[43m(\u001b[49m\u001b[38;5;124;43m\"\u001b[39;49m\u001b[38;5;124;43mhttps://usjr.edu.ph\u001b[39;49m\u001b[38;5;124;43m\"\u001b[39;49m\u001b[43m)\u001b[49m\n",
      "Cell \u001b[0;32mIn[1], line 35\u001b[0m, in \u001b[0;36mget_all_website_links\u001b[0;34m(url)\u001b[0m\n\u001b[1;32m     32\u001b[0m domain_name \u001b[38;5;241m=\u001b[39m urlparse(url)\u001b[38;5;241m.\u001b[39mnetloc\n\u001b[1;32m     34\u001b[0m \u001b[38;5;28;01mtry\u001b[39;00m:\n\u001b[0;32m---> 35\u001b[0m     soup \u001b[38;5;241m=\u001b[39m \u001b[43mBeautifulSoup\u001b[49m\u001b[43m(\u001b[49m\u001b[43mrequests\u001b[49m\u001b[38;5;241;43m.\u001b[39;49m\u001b[43mget\u001b[49m\u001b[43m(\u001b[49m\u001b[43murl\u001b[49m\u001b[43m)\u001b[49m\u001b[38;5;241;43m.\u001b[39;49m\u001b[43mcontent\u001b[49m\u001b[43m,\u001b[49m\u001b[43m \u001b[49m\u001b[38;5;124;43m\"\u001b[39;49m\u001b[38;5;124;43mhtml.parser\u001b[39;49m\u001b[38;5;124;43m\"\u001b[39;49m\u001b[43m)\u001b[49m\n\u001b[1;32m     36\u001b[0m \u001b[38;5;28;01mexcept\u001b[39;00m (requests\u001b[38;5;241m.\u001b[39mexceptions\u001b[38;5;241m.\u001b[39mMissingSchema, requests\u001b[38;5;241m.\u001b[39mexceptions\u001b[38;5;241m.\u001b[39mConnectionError, \u001b[38;5;167;01mAssertionError\u001b[39;00m):\n\u001b[1;32m     37\u001b[0m     \u001b[38;5;28;01mcontinue\u001b[39;00m\n",
      "File \u001b[0;32m/opt/homebrew/lib/python3.11/site-packages/bs4/__init__.py:328\u001b[0m, in \u001b[0;36mBeautifulSoup.__init__\u001b[0;34m(self, markup, features, builder, parse_only, from_encoding, exclude_encodings, element_classes, **kwargs)\u001b[0m\n\u001b[1;32m    326\u001b[0m rejections \u001b[38;5;241m=\u001b[39m []\n\u001b[1;32m    327\u001b[0m success \u001b[38;5;241m=\u001b[39m \u001b[38;5;28;01mFalse\u001b[39;00m\n\u001b[0;32m--> 328\u001b[0m \u001b[38;5;28;01mfor\u001b[39;00m (\u001b[38;5;28mself\u001b[39m\u001b[38;5;241m.\u001b[39mmarkup, \u001b[38;5;28mself\u001b[39m\u001b[38;5;241m.\u001b[39moriginal_encoding, \u001b[38;5;28mself\u001b[39m\u001b[38;5;241m.\u001b[39mdeclared_html_encoding,\n\u001b[1;32m    329\u001b[0m  \u001b[38;5;28mself\u001b[39m\u001b[38;5;241m.\u001b[39mcontains_replacement_characters) \u001b[38;5;129;01min\u001b[39;00m (\n\u001b[1;32m    330\u001b[0m      \u001b[38;5;28mself\u001b[39m\u001b[38;5;241m.\u001b[39mbuilder\u001b[38;5;241m.\u001b[39mprepare_markup(\n\u001b[1;32m    331\u001b[0m          markup, from_encoding, exclude_encodings\u001b[38;5;241m=\u001b[39mexclude_encodings)):\n\u001b[1;32m    332\u001b[0m     \u001b[38;5;28mself\u001b[39m\u001b[38;5;241m.\u001b[39mreset()\n\u001b[1;32m    333\u001b[0m     \u001b[38;5;28mself\u001b[39m\u001b[38;5;241m.\u001b[39mbuilder\u001b[38;5;241m.\u001b[39minitialize_soup(\u001b[38;5;28mself\u001b[39m)\n",
      "File \u001b[0;32m/opt/homebrew/lib/python3.11/site-packages/bs4/builder/_htmlparser.py:361\u001b[0m, in \u001b[0;36mHTMLParserTreeBuilder.prepare_markup\u001b[0;34m(self, markup, user_specified_encoding, document_declared_encoding, exclude_encodings)\u001b[0m\n\u001b[1;32m    358\u001b[0m user_encodings \u001b[38;5;241m=\u001b[39m [document_declared_encoding]\n\u001b[1;32m    360\u001b[0m try_encodings \u001b[38;5;241m=\u001b[39m [user_specified_encoding, document_declared_encoding]\n\u001b[0;32m--> 361\u001b[0m dammit \u001b[38;5;241m=\u001b[39m \u001b[43mUnicodeDammit\u001b[49m\u001b[43m(\u001b[49m\n\u001b[1;32m    362\u001b[0m \u001b[43m    \u001b[49m\u001b[43mmarkup\u001b[49m\u001b[43m,\u001b[49m\n\u001b[1;32m    363\u001b[0m \u001b[43m    \u001b[49m\u001b[43mknown_definite_encodings\u001b[49m\u001b[38;5;241;43m=\u001b[39;49m\u001b[43mknown_definite_encodings\u001b[49m\u001b[43m,\u001b[49m\n\u001b[1;32m    364\u001b[0m \u001b[43m    \u001b[49m\u001b[43muser_encodings\u001b[49m\u001b[38;5;241;43m=\u001b[39;49m\u001b[43muser_encodings\u001b[49m\u001b[43m,\u001b[49m\n\u001b[1;32m    365\u001b[0m \u001b[43m    \u001b[49m\u001b[43mis_html\u001b[49m\u001b[38;5;241;43m=\u001b[39;49m\u001b[38;5;28;43;01mTrue\u001b[39;49;00m\u001b[43m,\u001b[49m\n\u001b[1;32m    366\u001b[0m \u001b[43m    \u001b[49m\u001b[43mexclude_encodings\u001b[49m\u001b[38;5;241;43m=\u001b[39;49m\u001b[43mexclude_encodings\u001b[49m\n\u001b[1;32m    367\u001b[0m \u001b[43m\u001b[49m\u001b[43m)\u001b[49m\n\u001b[1;32m    368\u001b[0m \u001b[38;5;28;01myield\u001b[39;00m (dammit\u001b[38;5;241m.\u001b[39mmarkup, dammit\u001b[38;5;241m.\u001b[39moriginal_encoding,\n\u001b[1;32m    369\u001b[0m        dammit\u001b[38;5;241m.\u001b[39mdeclared_html_encoding,\n\u001b[1;32m    370\u001b[0m        dammit\u001b[38;5;241m.\u001b[39mcontains_replacement_characters)\n",
      "File \u001b[0;32m/opt/homebrew/lib/python3.11/site-packages/bs4/dammit.py:601\u001b[0m, in \u001b[0;36mUnicodeDammit.__init__\u001b[0;34m(self, markup, known_definite_encodings, smart_quotes_to, is_html, exclude_encodings, user_encodings, override_encodings)\u001b[0m\n\u001b[1;32m    598\u001b[0m \u001b[38;5;28mself\u001b[39m\u001b[38;5;241m.\u001b[39mmarkup \u001b[38;5;241m=\u001b[39m \u001b[38;5;28mself\u001b[39m\u001b[38;5;241m.\u001b[39mdetector\u001b[38;5;241m.\u001b[39mmarkup\n\u001b[1;32m    600\u001b[0m u \u001b[38;5;241m=\u001b[39m \u001b[38;5;28;01mNone\u001b[39;00m\n\u001b[0;32m--> 601\u001b[0m \u001b[38;5;28;01mfor\u001b[39;00m encoding \u001b[38;5;129;01min\u001b[39;00m \u001b[38;5;28mself\u001b[39m\u001b[38;5;241m.\u001b[39mdetector\u001b[38;5;241m.\u001b[39mencodings:\n\u001b[1;32m    602\u001b[0m     markup \u001b[38;5;241m=\u001b[39m \u001b[38;5;28mself\u001b[39m\u001b[38;5;241m.\u001b[39mdetector\u001b[38;5;241m.\u001b[39mmarkup\n\u001b[1;32m    603\u001b[0m     u \u001b[38;5;241m=\u001b[39m \u001b[38;5;28mself\u001b[39m\u001b[38;5;241m.\u001b[39m_convert_from(encoding)\n",
      "File \u001b[0;32m/opt/homebrew/lib/python3.11/site-packages/bs4/dammit.py:442\u001b[0m, in \u001b[0;36mEncodingDetector.encodings\u001b[0;34m(self)\u001b[0m\n\u001b[1;32m    439\u001b[0m \u001b[38;5;66;03m# Use third-party character set detection to guess at the\u001b[39;00m\n\u001b[1;32m    440\u001b[0m \u001b[38;5;66;03m# encoding.\u001b[39;00m\n\u001b[1;32m    441\u001b[0m \u001b[38;5;28;01mif\u001b[39;00m \u001b[38;5;28mself\u001b[39m\u001b[38;5;241m.\u001b[39mchardet_encoding \u001b[38;5;129;01mis\u001b[39;00m \u001b[38;5;28;01mNone\u001b[39;00m:\n\u001b[0;32m--> 442\u001b[0m     \u001b[38;5;28mself\u001b[39m\u001b[38;5;241m.\u001b[39mchardet_encoding \u001b[38;5;241m=\u001b[39m \u001b[43mchardet_dammit\u001b[49m\u001b[43m(\u001b[49m\u001b[38;5;28;43mself\u001b[39;49m\u001b[38;5;241;43m.\u001b[39;49m\u001b[43mmarkup\u001b[49m\u001b[43m)\u001b[49m\n\u001b[1;32m    443\u001b[0m \u001b[38;5;28;01mif\u001b[39;00m \u001b[38;5;28mself\u001b[39m\u001b[38;5;241m.\u001b[39m_usable(\u001b[38;5;28mself\u001b[39m\u001b[38;5;241m.\u001b[39mchardet_encoding, tried):\n\u001b[1;32m    444\u001b[0m     \u001b[38;5;28;01myield\u001b[39;00m \u001b[38;5;28mself\u001b[39m\u001b[38;5;241m.\u001b[39mchardet_encoding\n",
      "File \u001b[0;32m/opt/homebrew/lib/python3.11/site-packages/bs4/dammit.py:46\u001b[0m, in \u001b[0;36mchardet_dammit\u001b[0;34m(s)\u001b[0m\n\u001b[1;32m     44\u001b[0m \u001b[38;5;28;01mif\u001b[39;00m \u001b[38;5;28misinstance\u001b[39m(s, \u001b[38;5;28mstr\u001b[39m):\n\u001b[1;32m     45\u001b[0m     \u001b[38;5;28;01mreturn\u001b[39;00m \u001b[38;5;28;01mNone\u001b[39;00m\n\u001b[0;32m---> 46\u001b[0m \u001b[38;5;28;01mreturn\u001b[39;00m \u001b[43mchardet_module\u001b[49m\u001b[38;5;241;43m.\u001b[39;49m\u001b[43mdetect\u001b[49m\u001b[43m(\u001b[49m\u001b[43ms\u001b[49m\u001b[43m)\u001b[49m[\u001b[38;5;124m'\u001b[39m\u001b[38;5;124mencoding\u001b[39m\u001b[38;5;124m'\u001b[39m]\n",
      "File \u001b[0;32m/opt/homebrew/lib/python3.11/site-packages/chardet/__init__.py:49\u001b[0m, in \u001b[0;36mdetect\u001b[0;34m(byte_str, should_rename_legacy)\u001b[0m\n\u001b[1;32m     47\u001b[0m     byte_str \u001b[38;5;241m=\u001b[39m \u001b[38;5;28mbytearray\u001b[39m(byte_str)\n\u001b[1;32m     48\u001b[0m detector \u001b[38;5;241m=\u001b[39m UniversalDetector(should_rename_legacy\u001b[38;5;241m=\u001b[39mshould_rename_legacy)\n\u001b[0;32m---> 49\u001b[0m \u001b[43mdetector\u001b[49m\u001b[38;5;241;43m.\u001b[39;49m\u001b[43mfeed\u001b[49m\u001b[43m(\u001b[49m\u001b[43mbyte_str\u001b[49m\u001b[43m)\u001b[49m\n\u001b[1;32m     50\u001b[0m \u001b[38;5;28;01mreturn\u001b[39;00m detector\u001b[38;5;241m.\u001b[39mclose()\n",
      "File \u001b[0;32m/opt/homebrew/lib/python3.11/site-packages/chardet/universaldetector.py:236\u001b[0m, in \u001b[0;36mUniversalDetector.feed\u001b[0;34m(self, byte_str)\u001b[0m\n\u001b[1;32m    233\u001b[0m     \u001b[38;5;28mself\u001b[39m\u001b[38;5;241m.\u001b[39m_utf1632_prober \u001b[38;5;241m=\u001b[39m UTF1632Prober()\n\u001b[1;32m    235\u001b[0m \u001b[38;5;28;01mif\u001b[39;00m \u001b[38;5;28mself\u001b[39m\u001b[38;5;241m.\u001b[39m_utf1632_prober\u001b[38;5;241m.\u001b[39mstate \u001b[38;5;241m==\u001b[39m ProbingState\u001b[38;5;241m.\u001b[39mDETECTING:\n\u001b[0;32m--> 236\u001b[0m     \u001b[38;5;28;01mif\u001b[39;00m \u001b[38;5;28;43mself\u001b[39;49m\u001b[38;5;241;43m.\u001b[39;49m\u001b[43m_utf1632_prober\u001b[49m\u001b[38;5;241;43m.\u001b[39;49m\u001b[43mfeed\u001b[49m\u001b[43m(\u001b[49m\u001b[43mbyte_str\u001b[49m\u001b[43m)\u001b[49m \u001b[38;5;241m==\u001b[39m ProbingState\u001b[38;5;241m.\u001b[39mFOUND_IT:\n\u001b[1;32m    237\u001b[0m         \u001b[38;5;28mself\u001b[39m\u001b[38;5;241m.\u001b[39mresult \u001b[38;5;241m=\u001b[39m {\n\u001b[1;32m    238\u001b[0m             \u001b[38;5;124m\"\u001b[39m\u001b[38;5;124mencoding\u001b[39m\u001b[38;5;124m\"\u001b[39m: \u001b[38;5;28mself\u001b[39m\u001b[38;5;241m.\u001b[39m_utf1632_prober\u001b[38;5;241m.\u001b[39mcharset_name,\n\u001b[1;32m    239\u001b[0m             \u001b[38;5;124m\"\u001b[39m\u001b[38;5;124mconfidence\u001b[39m\u001b[38;5;124m\"\u001b[39m: \u001b[38;5;28mself\u001b[39m\u001b[38;5;241m.\u001b[39m_utf1632_prober\u001b[38;5;241m.\u001b[39mget_confidence(),\n\u001b[1;32m    240\u001b[0m             \u001b[38;5;124m\"\u001b[39m\u001b[38;5;124mlanguage\u001b[39m\u001b[38;5;124m\"\u001b[39m: \u001b[38;5;124m\"\u001b[39m\u001b[38;5;124m\"\u001b[39m,\n\u001b[1;32m    241\u001b[0m         }\n\u001b[1;32m    242\u001b[0m         \u001b[38;5;28mself\u001b[39m\u001b[38;5;241m.\u001b[39mdone \u001b[38;5;241m=\u001b[39m \u001b[38;5;28;01mTrue\u001b[39;00m\n",
      "File \u001b[0;32m/opt/homebrew/lib/python3.11/site-packages/chardet/utf1632prober.py:199\u001b[0m, in \u001b[0;36mUTF1632Prober.feed\u001b[0;34m(self, byte_str)\u001b[0m\n\u001b[1;32m    197\u001b[0m     \u001b[38;5;28;01melse\u001b[39;00m:\n\u001b[1;32m    198\u001b[0m         \u001b[38;5;28mself\u001b[39m\u001b[38;5;241m.\u001b[39mnonzeros_at_mod[mod4] \u001b[38;5;241m+\u001b[39m\u001b[38;5;241m=\u001b[39m \u001b[38;5;241m1\u001b[39m\n\u001b[0;32m--> 199\u001b[0m     \u001b[38;5;28mself\u001b[39m\u001b[38;5;241m.\u001b[39mposition \u001b[38;5;241m+\u001b[39m\u001b[38;5;241m=\u001b[39m \u001b[38;5;241m1\u001b[39m\n\u001b[1;32m    200\u001b[0m \u001b[38;5;28;01mreturn\u001b[39;00m \u001b[38;5;28mself\u001b[39m\u001b[38;5;241m.\u001b[39mstate\n",
      "\u001b[0;31mKeyboardInterrupt\u001b[0m: "
     ]
    }
   ],
   "source": [
    "import requests\n",
    "from bs4 import BeautifulSoup\n",
    "from urllib.parse import urlparse, urljoin\n",
    "import csv\n",
    "from collections import deque\n",
    "\n",
    "def is_valid(url):\n",
    "    parsed = urlparse(url)\n",
    "    return bool(parsed.netloc) and bool(parsed.scheme) and parsed.scheme in {\"http\", \"https\"}\n",
    "\n",
    "def get_all_website_links(url):\n",
    "    urls = set()  # all URLs of the website\n",
    "    pdf_urls = set()  # all PDF URLs of the website\n",
    "    to_visit = deque()  # queue of URLs to be processed\n",
    "\n",
    "    try:\n",
    "        with open('visited_links.csv', 'r') as file:\n",
    "            urls = set(line.strip() for line in file)\n",
    "        with open('to_visit_links.csv', 'r') as file:\n",
    "            to_visit = deque(line.strip() for line in file)\n",
    "    except FileNotFoundError:\n",
    "        to_visit.append(url)\n",
    "\n",
    "    with open('visited_links.csv', 'a') as visited_file, open('to_visit_links.csv', 'w') as to_visit_file, open('pdf_links.csv', 'a') as pdf_file:\n",
    "        visited_writer = csv.writer(visited_file)\n",
    "        to_visit_writer = csv.writer(to_visit_file)\n",
    "        pdf_writer = csv.writer(pdf_file)\n",
    "\n",
    "        while len(to_visit) != 0:\n",
    "            url = to_visit.popleft()\n",
    "            print(url)  # print the current URL\n",
    "            domain_name = urlparse(url).netloc\n",
    "\n",
    "            try:\n",
    "                soup = BeautifulSoup(requests.get(url).content, \"html.parser\")\n",
    "            except (requests.exceptions.MissingSchema, requests.exceptions.ConnectionError, AssertionError):\n",
    "                continue\n",
    "\n",
    "            for a_tag in soup.findAll(\"a\"):\n",
    "                href = a_tag.attrs.get(\"href\")\n",
    "                if href == \"\" or href is None:\n",
    "                    continue\n",
    "\n",
    "                href = urljoin(url, href)\n",
    "                parsed_href = urlparse(href)\n",
    "                href = parsed_href.scheme + \"://\" + parsed_href.netloc + parsed_href.path\n",
    "\n",
    "                if not is_valid(href):\n",
    "                    continue\n",
    "\n",
    "                if domain_name not in href:\n",
    "                    continue\n",
    "\n",
    "                if href.endswith(\".pdf\"):\n",
    "                    if href not in pdf_urls:\n",
    "                        pdf_urls.add(href)\n",
    "                        pdf_writer.writerow([href])\n",
    "                else:\n",
    "                    if href in urls:\n",
    "                        continue\n",
    "                    urls.add(href)\n",
    "                    to_visit.append(href)\n",
    "                    visited_writer.writerow([href])\n",
    "\n",
    "            to_visit_writer.writerows([link] for link in to_visit)\n",
    "\n",
    "if __name__ == \"__main__\":\n",
    "    get_all_website_links(\"https://usjr.edu.ph\")\n"
   ]
  },
  {
   "cell_type": "code",
   "execution_count": null,
   "id": "2749ab0d",
   "metadata": {},
   "outputs": [],
   "source": []
  }
 ],
 "metadata": {
  "kernelspec": {
   "display_name": "Python 3 (ipykernel)",
   "language": "python",
   "name": "python3"
  },
  "language_info": {
   "codemirror_mode": {
    "name": "ipython",
    "version": 3
   },
   "file_extension": ".py",
   "mimetype": "text/x-python",
   "name": "python",
   "nbconvert_exporter": "python",
   "pygments_lexer": "ipython3",
   "version": "3.11.3"
  }
 },
 "nbformat": 4,
 "nbformat_minor": 5
}
