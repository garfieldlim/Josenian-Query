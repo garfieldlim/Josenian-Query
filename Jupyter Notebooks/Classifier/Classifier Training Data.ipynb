{
 "cells": [
  {
   "cell_type": "code",
   "execution_count": 21,
   "id": "30856680",
   "metadata": {},
   "outputs": [
    {
     "name": "stdout",
     "output_type": "stream",
     "text": [
      "rmrj_articles\n",
      "usjr_about\n",
      "facebook_posts\n"
     ]
    }
   ],
   "source": [
    "import os\n",
    "import json\n",
    "import glob\n",
    "import pandas as pd\n",
    "\n",
    "# set your path\n",
    "path = '/Users/garfieldgreglim/Library/Mobile Documents/com~apple~CloudDocs/Josenian-Query/Jupyter Notebooks/raw_jsons'\n",
    "\n",
    "# get list of all json files\n",
    "json_files = glob.glob(os.path.join(path, \"*.json\"))\n",
    "\n",
    "# initialize an empty dictionary to hold the json file data\n",
    "json_data = {}\n",
    "\n",
    "# loop through each file\n",
    "for json_file in json_files:\n",
    "    # get the base name of the file to use as variable name\n",
    "    var_name = os.path.basename(json_file).replace('.json', '')\n",
    "    \n",
    "    # open each json file and load the data\n",
    "    with open(json_file, 'r') as file:\n",
    "        data = json.load(file)\n",
    "    \n",
    "    # add the data to the dictionary using the variable name as key\n",
    "    print(var_name)\n",
    "    json_data[var_name] = data\n"
   ]
  },
  {
   "cell_type": "code",
   "execution_count": 30,
   "id": "5d42df74",
   "metadata": {},
   "outputs": [],
   "source": [
    "collection_names = ['rmrj_articles','usjr_about','facebook_posts']\n",
    "\n",
    "data_list = []\n",
    "\n",
    "for name in collection_names:\n",
    "    for data in json_data[name]:\n",
    "        data_list.append({'content': data[1]['text'], 'label': name})\n",
    "\n",
    "df = pd.DataFrame(data_list)"
   ]
  },
  {
   "cell_type": "code",
   "execution_count": 33,
   "id": "a00cbc3e",
   "metadata": {},
   "outputs": [
    {
     "data": {
      "text/html": [
       "<div>\n",
       "<style scoped>\n",
       "    .dataframe tbody tr th:only-of-type {\n",
       "        vertical-align: middle;\n",
       "    }\n",
       "\n",
       "    .dataframe tbody tr th {\n",
       "        vertical-align: top;\n",
       "    }\n",
       "\n",
       "    .dataframe thead th {\n",
       "        text-align: right;\n",
       "    }\n",
       "</style>\n",
       "<table border=\"1\" class=\"dataframe\">\n",
       "  <thead>\n",
       "    <tr style=\"text-align: right;\">\n",
       "      <th></th>\n",
       "      <th>content</th>\n",
       "      <th>label</th>\n",
       "    </tr>\n",
       "  </thead>\n",
       "  <tbody>\n",
       "    <tr>\n",
       "      <th>0</th>\n",
       "      <td>title: Timeless Existence and Principle of Cre...</td>\n",
       "      <td>rmrj_articles</td>\n",
       "    </tr>\n",
       "    <tr>\n",
       "      <th>1</th>\n",
       "      <td>title: Ratooning Response of Lowland Rice (Ory...</td>\n",
       "      <td>rmrj_articles</td>\n",
       "    </tr>\n",
       "    <tr>\n",
       "      <th>2</th>\n",
       "      <td>title: Paternal Resilience in Time of Pandemic...</td>\n",
       "      <td>rmrj_articles</td>\n",
       "    </tr>\n",
       "    <tr>\n",
       "      <th>3</th>\n",
       "      <td>title: An Inquiry into the Problems Concerning...</td>\n",
       "      <td>rmrj_articles</td>\n",
       "    </tr>\n",
       "    <tr>\n",
       "      <th>4</th>\n",
       "      <td>title: Correlating the Psychological and Spiri...</td>\n",
       "      <td>rmrj_articles</td>\n",
       "    </tr>\n",
       "    <tr>\n",
       "      <th>...</th>\n",
       "      <td>...</td>\n",
       "      <td>...</td>\n",
       "    </tr>\n",
       "    <tr>\n",
       "      <th>270</th>\n",
       "      <td>LIVE | Witness the 14th Pinning Ceremony of nu...</td>\n",
       "      <td>facebook_posts</td>\n",
       "    </tr>\n",
       "    <tr>\n",
       "      <th>271</th>\n",
       "      <td>LIVE | Watch the 113th USJ-R Commencement Exer...</td>\n",
       "      <td>facebook_posts</td>\n",
       "    </tr>\n",
       "    <tr>\n",
       "      <th>272</th>\n",
       "      <td>One hundred and fifty Josenian students were w...</td>\n",
       "      <td>facebook_posts</td>\n",
       "    </tr>\n",
       "    <tr>\n",
       "      <th>273</th>\n",
       "      <td>SED Recognizes Outstanding Josenian Educators ...</td>\n",
       "      <td>facebook_posts</td>\n",
       "    </tr>\n",
       "    <tr>\n",
       "      <th>274</th>\n",
       "      <td>HAPPENING NOW Solemnity of Nuestra SeÃÂ±ora D...</td>\n",
       "      <td>facebook_posts</td>\n",
       "    </tr>\n",
       "  </tbody>\n",
       "</table>\n",
       "<p>275 rows × 2 columns</p>\n",
       "</div>"
      ],
      "text/plain": [
       "                                               content           label\n",
       "0    title: Timeless Existence and Principle of Cre...   rmrj_articles\n",
       "1    title: Ratooning Response of Lowland Rice (Ory...   rmrj_articles\n",
       "2    title: Paternal Resilience in Time of Pandemic...   rmrj_articles\n",
       "3    title: An Inquiry into the Problems Concerning...   rmrj_articles\n",
       "4    title: Correlating the Psychological and Spiri...   rmrj_articles\n",
       "..                                                 ...             ...\n",
       "270  LIVE | Witness the 14th Pinning Ceremony of nu...  facebook_posts\n",
       "271  LIVE | Watch the 113th USJ-R Commencement Exer...  facebook_posts\n",
       "272  One hundred and fifty Josenian students were w...  facebook_posts\n",
       "273  SED Recognizes Outstanding Josenian Educators ...  facebook_posts\n",
       "274  HAPPENING NOW Solemnity of Nuestra SeÃÂ±ora D...  facebook_posts\n",
       "\n",
       "[275 rows x 2 columns]"
      ]
     },
     "execution_count": 33,
     "metadata": {},
     "output_type": "execute_result"
    }
   ],
   "source": [
    "df"
   ]
  },
  {
   "cell_type": "code",
   "execution_count": 34,
   "id": "bb6860e5",
   "metadata": {},
   "outputs": [],
   "source": [
    "directory = \"classifier_training_data\"\n",
    "if not os.path.exists(directory):\n",
    "    os.makedirs(directory)\n",
    "\n",
    "# Save DataFrame to csv file\n",
    "df.to_csv(os.path.join(directory, \"posts_articles_about.csv\"), index=False)"
   ]
  },
  {
   "cell_type": "code",
   "execution_count": null,
   "id": "f7bae113",
   "metadata": {},
   "outputs": [],
   "source": []
  }
 ],
 "metadata": {
  "kernelspec": {
   "display_name": "Python 3 (ipykernel)",
   "language": "python",
   "name": "python3"
  },
  "language_info": {
   "codemirror_mode": {
    "name": "ipython",
    "version": 3
   },
   "file_extension": ".py",
   "mimetype": "text/x-python",
   "name": "python",
   "nbconvert_exporter": "python",
   "pygments_lexer": "ipython3",
   "version": "3.10.11"
  }
 },
 "nbformat": 4,
 "nbformat_minor": 5
}
