{
 "cells": [
  {
   "cell_type": "markdown",
   "id": "332f97b2",
   "metadata": {},
   "source": [
    "# Searh article in Medium"
   ]
  },
  {
   "cell_type": "markdown",
   "id": "8db978d0",
   "metadata": {},
   "source": [
    "## 0. Overview\n",
    "\n",
    "We'll search for text in the Medium dataset, and it will find the most similar results to the search text across all titles. Searching for articles is different from traditional keyword searches, which search for semantically relevant content. If you search for \"**funny python demo**\" it will return \"**Python Coding for Kids - Setting Up For the Adventure**\", not \"**No key words about funny python demo**\".\n",
    "\n",
    "We will use Milvus and Towhee to help searches. Towhee is used to extract the semantics of the text and return the text embedding. The Milvus vector database can store and search vectors, and return related articles. So we first need to install [Milvus](https://github.com/milvus-io/milvus) and [Towhee](https://github.com/towhee-io/towhee).\n",
    "\n",
    "Before getting started, please make sure that you have started a [Milvus service](https://milvus.io/docs/install_standalone-docker.md). This notebook uses [milvus 2.2.10](https://milvus.io/docs/v2.2.x/install_standalone-docker.md) and [pymilvus 2.2.11](https://milvus.io/docs/release_notes.md#2210)."
   ]
  },
  {
   "cell_type": "markdown",
   "id": "d4aa8171",
   "metadata": {},
   "source": [
    "## 1. Data preprocessing\n",
    "\n",
    "The data is from the [Cleaned Medium Articles Dataset](https://www.kaggle.com/datasets/shiyu22chen/cleaned-medium-articles-dataset)(you can download it from Kaggle), which cleared the empty article titles in the data and conver the string title to the embeeding with Towhee [text_embedding.dpr operator](https://towhee.io/text-embedding/dpr), as you can see the `title_vector` is the embedding vectors of the title."
   ]
  },
  {
   "cell_type": "markdown",
   "id": "0ae8d988",
   "metadata": {},
   "source": [
    "pip install -v towhee pymilvus==2.2.11"
   ]
  },
  {
   "cell_type": "code",
   "execution_count": 4,
   "id": "cbf16ddf",
   "metadata": {},
   "outputs": [],
   "source": [
    "# Download data\n",
    "! wget -q https://github.com/towhee-io/examples/releases/download/data/New_Medium_Data.csv"
   ]
  },
  {
   "cell_type": "code",
   "execution_count": 1,
   "id": "3285cd05",
   "metadata": {},
   "outputs": [
    {
     "data": {
      "text/html": [
       "<div>\n",
       "<style scoped>\n",
       "    .dataframe tbody tr th:only-of-type {\n",
       "        vertical-align: middle;\n",
       "    }\n",
       "\n",
       "    .dataframe tbody tr th {\n",
       "        vertical-align: top;\n",
       "    }\n",
       "\n",
       "    .dataframe thead th {\n",
       "        text-align: right;\n",
       "    }\n",
       "</style>\n",
       "<table border=\"1\" class=\"dataframe\">\n",
       "  <thead>\n",
       "    <tr style=\"text-align: right;\">\n",
       "      <th></th>\n",
       "      <th>id</th>\n",
       "      <th>title</th>\n",
       "      <th>title_vector</th>\n",
       "      <th>link</th>\n",
       "      <th>reading_time</th>\n",
       "      <th>publication</th>\n",
       "      <th>claps</th>\n",
       "      <th>responses</th>\n",
       "    </tr>\n",
       "  </thead>\n",
       "  <tbody>\n",
       "    <tr>\n",
       "      <th>0</th>\n",
       "      <td>0</td>\n",
       "      <td>The Reported Mortality Rate of Coronavirus Is ...</td>\n",
       "      <td>[0.041732933, 0.013779674, -0.027564144, -0.01...</td>\n",
       "      <td>https://medium.com/swlh/the-reported-mortality...</td>\n",
       "      <td>13</td>\n",
       "      <td>The Startup</td>\n",
       "      <td>1100</td>\n",
       "      <td>18</td>\n",
       "    </tr>\n",
       "    <tr>\n",
       "      <th>1</th>\n",
       "      <td>1</td>\n",
       "      <td>Dashboards in Python: 3 Advanced Examples for ...</td>\n",
       "      <td>[0.0039737443, 0.003020432, -0.0006188639, 0.0...</td>\n",
       "      <td>https://medium.com/swlh/dashboards-in-python-3...</td>\n",
       "      <td>14</td>\n",
       "      <td>The Startup</td>\n",
       "      <td>726</td>\n",
       "      <td>3</td>\n",
       "    </tr>\n",
       "    <tr>\n",
       "      <th>2</th>\n",
       "      <td>2</td>\n",
       "      <td>How Can We Best Switch in Python?</td>\n",
       "      <td>[0.031961977, 0.00047043373, -0.018263113, 0.0...</td>\n",
       "      <td>https://medium.com/swlh/how-can-we-best-switch...</td>\n",
       "      <td>6</td>\n",
       "      <td>The Startup</td>\n",
       "      <td>500</td>\n",
       "      <td>7</td>\n",
       "    </tr>\n",
       "    <tr>\n",
       "      <th>3</th>\n",
       "      <td>3</td>\n",
       "      <td>Maternity leave shouldn’t set women back</td>\n",
       "      <td>[0.032572296, -0.011148319, -0.01688577, -0.00...</td>\n",
       "      <td>https://medium.com/swlh/maternity-leave-should...</td>\n",
       "      <td>9</td>\n",
       "      <td>The Startup</td>\n",
       "      <td>460</td>\n",
       "      <td>1</td>\n",
       "    </tr>\n",
       "    <tr>\n",
       "      <th>4</th>\n",
       "      <td>4</td>\n",
       "      <td>Python NLP Tutorial: Information Extraction an...</td>\n",
       "      <td>[-0.011735886, -0.016938083, -0.027233299, 0.0...</td>\n",
       "      <td>https://medium.com/swlh/python-nlp-tutorial-in...</td>\n",
       "      <td>7</td>\n",
       "      <td>The Startup</td>\n",
       "      <td>163</td>\n",
       "      <td>0</td>\n",
       "    </tr>\n",
       "  </tbody>\n",
       "</table>\n",
       "</div>"
      ],
      "text/plain": [
       "   id                                              title   \n",
       "0   0  The Reported Mortality Rate of Coronavirus Is ...  \\\n",
       "1   1  Dashboards in Python: 3 Advanced Examples for ...   \n",
       "2   2                  How Can We Best Switch in Python?   \n",
       "3   3           Maternity leave shouldn’t set women back   \n",
       "4   4  Python NLP Tutorial: Information Extraction an...   \n",
       "\n",
       "                                        title_vector   \n",
       "0  [0.041732933, 0.013779674, -0.027564144, -0.01...  \\\n",
       "1  [0.0039737443, 0.003020432, -0.0006188639, 0.0...   \n",
       "2  [0.031961977, 0.00047043373, -0.018263113, 0.0...   \n",
       "3  [0.032572296, -0.011148319, -0.01688577, -0.00...   \n",
       "4  [-0.011735886, -0.016938083, -0.027233299, 0.0...   \n",
       "\n",
       "                                                link  reading_time   \n",
       "0  https://medium.com/swlh/the-reported-mortality...            13  \\\n",
       "1  https://medium.com/swlh/dashboards-in-python-3...            14   \n",
       "2  https://medium.com/swlh/how-can-we-best-switch...             6   \n",
       "3  https://medium.com/swlh/maternity-leave-should...             9   \n",
       "4  https://medium.com/swlh/python-nlp-tutorial-in...             7   \n",
       "\n",
       "   publication  claps  responses  \n",
       "0  The Startup   1100         18  \n",
       "1  The Startup    726          3  \n",
       "2  The Startup    500          7  \n",
       "3  The Startup    460          1  \n",
       "4  The Startup    163          0  "
      ]
     },
     "execution_count": 1,
     "metadata": {},
     "output_type": "execute_result"
    }
   ],
   "source": [
    "import pandas as pd\n",
    "\n",
    "df = pd.read_csv('New_Medium_Data.csv', converters={'title_vector': lambda x: eval(x)})\n",
    "df.head()"
   ]
  },
  {
   "cell_type": "markdown",
   "id": "3c89e09d",
   "metadata": {},
   "source": [
    "## 2. Load Data\n",
    "\n",
    "The next step is to get the text embedding, and then insert all the extracted embedding vectors into Milvus."
   ]
  },
  {
   "cell_type": "markdown",
   "id": "3107e24c",
   "metadata": {},
   "source": [
    "### Create Milvus Collection\n",
    "\n",
    "We need to create a collection in Milvus first, which contains multiple fields of `id`, `title`, `title_vector`, `link`, `reading_time`, `publication`, `claps` and `responses`."
   ]
  },
  {
   "cell_type": "code",
   "execution_count": 2,
   "id": "17a85c11",
   "metadata": {},
   "outputs": [],
   "source": [
    "from pymilvus import connections, FieldSchema, CollectionSchema, DataType, Collection, utility\n",
    "\n",
    "connections.connect(host='127.0.0.1', port='19530')\n",
    "\n",
    "def create_milvus_collection(collection_name, dim):\n",
    "    if utility.has_collection(collection_name):\n",
    "        utility.drop_collection(collection_name)\n",
    "    \n",
    "    fields = [\n",
    "            FieldSchema(name=\"id\", dtype=DataType.INT64, is_primary=True, auto_id=False),\n",
    "            FieldSchema(name=\"title\", dtype=DataType.VARCHAR, max_length=500),   \n",
    "            FieldSchema(name=\"title_vector\", dtype=DataType.FLOAT_VECTOR, dim=dim),\n",
    "            FieldSchema(name=\"link\", dtype=DataType.VARCHAR, max_length=500),\n",
    "            FieldSchema(name=\"reading_time\", dtype=DataType.INT64),\n",
    "            FieldSchema(name=\"publication\", dtype=DataType.VARCHAR, max_length=500),\n",
    "            FieldSchema(name=\"claps\", dtype=DataType.INT64),\n",
    "            FieldSchema(name=\"responses\", dtype=DataType.INT64)\n",
    "    ]\n",
    "    schema = CollectionSchema(fields=fields, description='search text')\n",
    "    collection = Collection(name=collection_name, schema=schema)\n",
    "    \n",
    "    index_params = {\n",
    "        'metric_type': \"L2\",\n",
    "        'index_type': \"IVF_FLAT\",\n",
    "        'params': {\"nlist\": 2048}\n",
    "    }\n",
    "    collection.create_index(field_name='title_vector', index_params=index_params)\n",
    "    return collection\n",
    "\n",
    "collection = create_milvus_collection('search_article_in_medium', 768)"
   ]
  },
  {
   "cell_type": "markdown",
   "id": "5de5f0d2",
   "metadata": {},
   "source": [
    "### Data to Milvus\n",
    "\n",
    "\n",
    "Towhee supports reading df data through the `from_df` interface, and then we need to convert the `title_vector` column in the data to a two-dimensional list in float format, and then insert all the fields into Milvus, each field inserted into Milvus corresponds to one Collection fields created earlier."
   ]
  },
  {
   "cell_type": "code",
   "execution_count": 3,
   "id": "08d52c41",
   "metadata": {},
   "outputs": [],
   "source": [
    "from towhee import ops, pipe, DataCollection\n",
    "\n",
    "insert_pipe = (pipe.input('df')\n",
    "                   .flat_map('df', 'data', lambda df: df.values.tolist())\n",
    "                   .map('data', 'res', ops.ann_insert.milvus_client(host='127.0.0.1', \n",
    "                                                                    port='19530',\n",
    "                                                                    collection_name='search_article_in_medium'))\n",
    "                   .output('res')\n",
    ")"
   ]
  },
  {
   "cell_type": "code",
   "execution_count": 4,
   "id": "c24e29c6",
   "metadata": {},
   "outputs": [
    {
     "name": "stderr",
     "output_type": "stream",
     "text": [
      "2023-07-13 10:19:36,769 - 13243097088 - node.py-node:167 - INFO: Begin to run Node-_input\n",
      "2023-07-13 10:19:36,770 - 13259886592 - node.py-node:167 - INFO: Begin to run Node-lambda-0\n",
      "2023-07-13 10:19:36,771 - 13276676096 - node.py-node:167 - INFO: Begin to run Node-ann-insert/milvus-client-1\n",
      "2023-07-13 10:19:36,771 - 13243097088 - node.py-node:167 - INFO: Begin to run Node-_output\n"
     ]
    },
    {
     "name": "stdout",
     "output_type": "stream",
     "text": [
      "CPU times: user 13.8 s, sys: 3.05 s, total: 16.9 s\n",
      "Wall time: 57.8 s\n"
     ]
    }
   ],
   "source": [
    "%time _ = insert_pipe(df)"
   ]
  },
  {
   "cell_type": "markdown",
   "id": "df2c149d",
   "metadata": {},
   "source": [
    "We need to call `collection.load()` to load the data after inserting the data, then run `collection.num_entities` to get the number of vectors in the collection. We will see the number of vectors is 5979, and we have successfully load the data to Milvus."
   ]
  },
  {
   "cell_type": "code",
   "execution_count": 5,
   "id": "902e5924",
   "metadata": {},
   "outputs": [
    {
     "data": {
      "text/plain": [
       "4317"
      ]
     },
     "execution_count": 5,
     "metadata": {},
     "output_type": "execute_result"
    }
   ],
   "source": [
    "collection.load()\n",
    "collection.num_entities"
   ]
  },
  {
   "cell_type": "markdown",
   "id": "ea34c1f4",
   "metadata": {},
   "source": [
    "## 3. Search embedding title"
   ]
  },
  {
   "cell_type": "markdown",
   "id": "9fa8662a",
   "metadata": {},
   "source": [
    "### Search one text in Milvus\n",
    "\n",
    "\n",
    "The retrieval process also to generate the text embedding of the query text, then search for similar vectors in Milvus, and finally return the result, which contains `id`(primary_key) and `score`. For example, we can search for \"funny python demo\":"
   ]
  },
  {
   "cell_type": "code",
   "execution_count": null,
   "id": "1215dc8b",
   "metadata": {},
   "outputs": [],
   "source": [
    "import numpy as np\n",
    "\n",
    "# Initialize input\n",
    "pipe_input = pipe.input('query')\n",
    "\n",
    "# Map 'query' to 'vec' using DPR encoder\n",
    "query_to_vec = pipe_input.map('query', 'vec', ops.text_embedding.dpr(model_name=\"facebook/dpr-ctx_encoder-single-nq-base\"))\n",
    "\n",
    "# Normalize 'vec'\n",
    "vec_normalized = query_to_vec.map('vec', 'vec', lambda x: x / np.linalg.norm(x, axis=0))\n",
    "\n",
    "# # Perform nearest neighbor search using Milvus client\n",
    "search_result = vec_normalized.flat_map('vec', ('id', 'score'), ops.ann_search.milvus_client(host='127.0.0.1', port='19530', collection_name='search_article_in_medium')) \n",
    "\n",
    "# # Define the output of the pipeline\n",
    "search_pipe = search_result.output('query', 'id', 'score')\n"
   ]
  },
  {
   "cell_type": "code",
   "execution_count": null,
   "id": "abbca936",
   "metadata": {},
   "outputs": [],
   "source": [
    "res = search_pipe('funny python demo')\n",
    "DataCollection(res).show()"
   ]
  },
  {
   "cell_type": "markdown",
   "id": "07a5dc7f",
   "metadata": {},
   "source": [
    "### Search multi text in Milvus\n",
    "\n",
    "We can also retrieve multiple pieces of data, for example we can specify the array(['funny python demo', 'AI in data analysis']) to search in batch, which will be retrieved in Milvus:"
   ]
  },
  {
   "cell_type": "code",
   "execution_count": null,
   "id": "e5a97384",
   "metadata": {},
   "outputs": [],
   "source": [
    "res = search_pipe.batch(['funny python demo', 'AI in data analysis'])\n",
    "for re in res:\n",
    "    DataCollection(re).show()"
   ]
  },
  {
   "cell_type": "markdown",
   "id": "c835da6f",
   "metadata": {},
   "source": [
    "### Search text and return multi fields\n",
    "\n",
    "If we want to return more information when retrieving, we can set the `output_fields` parameter in [ann_search.milvus operator](https://towhee.io/ann-search/milvus). For example, in addition to `id` and `score`, we can also return `title`, `link`, `claps`, `reading_time`, `and response`:"
   ]
  },
  {
   "cell_type": "code",
   "execution_count": null,
   "id": "0c736c2a",
   "metadata": {},
   "outputs": [],
   "source": [
    "search_pipe1 = (pipe.input('query')\n",
    "                    .map('query', 'vec', ops.text_embedding.dpr(model_name=\"facebook/dpr-ctx_encoder-single-nq-base\"))\n",
    "                    .map('vec', 'vec', lambda x: x / np.linalg.norm(x, axis=0))\n",
    "                    .flat_map('vec', ('id', 'score', 'title'), ops.ann_search.milvus_client(host='127.0.0.1', \n",
    "                                                                                   port='19530',\n",
    "                                                                                   collection_name='search_article_in_medium',\n",
    "                                                                                   output_fields=['title']))  \n",
    "                    .output('query', 'id', 'score', 'title')\n",
    "               )\n",
    "\n",
    "res = search_pipe1('funny python demo')\n",
    "DataCollection(res).show()"
   ]
  },
  {
   "cell_type": "code",
   "execution_count": null,
   "id": "334c6fce",
   "metadata": {},
   "outputs": [],
   "source": [
    "# milvus search with multi outpt fields\n",
    "search_pipe2 = (pipe.input('query')\n",
    "                    .map('query', 'vec', ops.text_embedding.dpr(model_name=\"facebook/dpr-ctx_encoder-single-nq-base\"))\n",
    "                    .map('vec', 'vec', lambda x: x / np.linalg.norm(x, axis=0))\n",
    "                    .flat_map('vec', ('id', 'score', 'title', 'link', 'reading_time', 'publication', 'claps', 'responses'), \n",
    "                                       ops.ann_search.milvus_client(host='127.0.0.1', \n",
    "                                                                    port='19530',\n",
    "                                                                    collection_name='search_article_in_medium',\n",
    "                                                                    output_fields=['title', 'link', 'reading_time', 'publication', 'claps', 'responses'], \n",
    "                                                                    limit=5))  \n",
    "                    .output('query', 'id', 'score', 'title', 'link', 'reading_time', 'publication', 'claps', 'responses')\n",
    "               )\n",
    "\n",
    "res = search_pipe2('funny python demo')\n",
    "DataCollection(res).show()"
   ]
  },
  {
   "cell_type": "markdown",
   "id": "6ff903e3",
   "metadata": {},
   "source": [
    "### Search text with some expr\n",
    "\n",
    "\n",
    "In addition, we can also set some expressions for retrieval. For example, we can specify that the beginning of the article is an article in Python by setting expr='title like \"Python%\"':"
   ]
  },
  {
   "cell_type": "code",
   "execution_count": null,
   "id": "b6b1d85d",
   "metadata": {},
   "outputs": [],
   "source": [
    "search_pipe3 = (pipe.input('query')\n",
    "                    .map('query', 'vec', ops.text_embedding.dpr(model_name=\"facebook/dpr-ctx_encoder-single-nq-base\"))\n",
    "                    .map('vec', 'vec', lambda x: x / np.linalg.norm(x, axis=0))\n",
    "                    .flat_map('vec', ('id', 'score', 'title', 'link', 'reading_time', 'publication', 'claps', 'responses'), \n",
    "                                       ops.ann_search.milvus_client(host='127.0.0.1', \n",
    "                                                                    port='19530',\n",
    "                                                                    collection_name='search_article_in_medium',\n",
    "                                                                    expr='title like \"Python%\"',\n",
    "                                                                    output_fields=['title', 'link', 'reading_time', 'publication', 'claps', 'responses'], \n",
    "                                                                    limit=5))  \n",
    "                    .output('query', 'id', 'score', 'title', 'link', 'reading_time', 'publication', 'claps', 'responses')\n",
    "               )\n",
    "\n",
    "res = search_pipe3('funny python demo')\n",
    "DataCollection(res).show()"
   ]
  },
  {
   "cell_type": "markdown",
   "id": "50699084",
   "metadata": {},
   "source": [
    "## 4. Query data in Milvus\n",
    "\n",
    "We have done the text retrieval process before, and we can get articles such as \"Python coding for kids - getting ready for an adventure\" by retrieving \"fun python demos\".\n",
    "\n",
    "We can also do a simple query on the data, we need to set `expr` and `output_fields` with the `collection.query` interface, for example, we can filter out articles with faults greater than 300 and reading time less than 15 minutes, and submitted to TDS :"
   ]
  },
  {
   "cell_type": "code",
   "execution_count": null,
   "id": "a35c619f",
   "metadata": {},
   "outputs": [],
   "source": [
    "collection.query(\n",
    "  expr = 'claps > 3000 && reading_time < 15 && publication like \"Towards Data Science%\"', \n",
    "  output_fields = ['id', 'title', 'link', 'reading_time', 'publication', 'claps', 'responses'],\n",
    "  consistency_level='Strong'\n",
    ")"
   ]
  }
 ],
 "metadata": {
  "kernelspec": {
   "display_name": "Python 3 (ipykernel)",
   "language": "python",
   "name": "python3"
  },
  "language_info": {
   "codemirror_mode": {
    "name": "ipython",
    "version": 3
   },
   "file_extension": ".py",
   "mimetype": "text/x-python",
   "name": "python",
   "nbconvert_exporter": "python",
   "pygments_lexer": "ipython3",
   "version": "3.10.11"
  }
 },
 "nbformat": 4,
 "nbformat_minor": 5
}
